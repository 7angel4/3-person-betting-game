{
 "cells": [
  {
   "cell_type": "code",
   "execution_count": 1,
   "id": "f982a577",
   "metadata": {},
   "outputs": [],
   "source": [
    "import numpy as np\n",
    "import random\n",
    "import pandas as pd"
   ]
  },
  {
   "cell_type": "code",
   "execution_count": 2,
   "id": "c7ef0177",
   "metadata": {},
   "outputs": [],
   "source": [
    "NUM_PLAYERS = 3\n",
    "random.seed(7)"
   ]
  },
  {
   "cell_type": "code",
   "execution_count": 3,
   "id": "4f5ede4d",
   "metadata": {},
   "outputs": [],
   "source": [
    "# helper functions\n",
    "def randSelectPlayer(candidates, exclude=None):\n",
    "    choices = list(candidates)\n",
    "    if exclude:\n",
    "        choices.remove(exclude)\n",
    "    \n",
    "    return random.choice(choices)\n",
    "\n",
    "def give(giver, receiver, playerWealth):\n",
    "    v = playerWealth[giver]\n",
    "    w = playerWealth[receiver]\n",
    "    amt = min(v, w)\n",
    "    playerWealth[receiver] += amt\n",
    "    playerWealth[giver] -= amt\n",
    "    return playerWealth, amt\n",
    "    \n",
    "def getPlayerByWealth(playerWealth, amt):\n",
    "    for p, w in playerWealth.items():\n",
    "        if w == amt:\n",
    "            return p\n",
    "        \n",
    "    return None\n",
    "    \n",
    "\n",
    "def checkGameStatus(playerWealth, winAmt, loseAmt=0):\n",
    "    \"\"\"\n",
    "    Checks if there are any winners and losers.\n",
    "    \"\"\"\n",
    "    winner = getPlayerByWealth(playerWealth, winAmt)\n",
    "    loser = getPlayerByWealth(playerWealth, loseAmt)        \n",
    "    \n",
    "    return winner, loser\n",
    "\n",
    "def reportGameResult(winner, losers, numRounds):\n",
    "    # prints losers in order\n",
    "    for i in range(len(losers)):\n",
    "        print(f\"Loser {i+1}: {losers[i]}\")\n",
    "    print(f\"Winner: {winner}\")\n",
    "    print(f\"Number of rounds played: {numRounds}\")\n",
    "\n",
    "def reportGameProgress(numRounds, giver, receiver, transferAmt, playerWealth):\n",
    "    print(f\"Round {numRounds}:\")\n",
    "    print(f\"Player {giver} gave Player {receiver} ${transferAmt}\")\n",
    "    print(f\"Remaining players' wealth: {playerWealth}\\n\")"
   ]
  },
  {
   "cell_type": "code",
   "execution_count": 4,
   "id": "37df9a3e",
   "metadata": {},
   "outputs": [],
   "source": [
    "def playGame(x, y, z, printProgress=False, printResult=False):\n",
    "    # initialise\n",
    "    playerWealth = {1: x, 2: y, 3: z}\n",
    "    numPlayers = NUM_PLAYERS\n",
    "    total = x + y + z\n",
    "    winner = None\n",
    "    losers = []  # losers in order - might be interested in, e.g. P(Player 2 loses before 1)\n",
    "    numRounds = 0\n",
    "    \n",
    "    while numPlayers > 1:\n",
    "        giver = randSelectPlayer(playerWealth)\n",
    "        receiver = randSelectPlayer(playerWealth, exclude=giver)\n",
    "        playerWealth, transferAmt = give(giver, receiver, playerWealth)\n",
    "        \n",
    "        winner, loser = checkGameStatus(playerWealth, total)\n",
    "        if loser:\n",
    "            losers.append(loser)\n",
    "            numPlayers -= 1\n",
    "            playerWealth.pop(loser)\n",
    "        \n",
    "        numRounds += 1\n",
    "        \n",
    "        if printProgress:\n",
    "            reportGameProgress(numRounds, giver, receiver, transferAmt, playerWealth)\n",
    "    \n",
    "    # sanity checks - at this point, should have 1 winner left, and 2 losers\n",
    "#     assert(winner)\n",
    "#     assert(numPlayers == 1)\n",
    "#     assert(len(losers) == NUM_PLAYERS-1)\n",
    "    \n",
    "    if printResult:\n",
    "        reportGameResult(winner, losers, numRounds)\n",
    "        \n",
    "    return winner, losers[0], numRounds"
   ]
  },
  {
   "cell_type": "code",
   "execution_count": 5,
   "id": "75b62d35",
   "metadata": {},
   "outputs": [
    {
     "name": "stdout",
     "output_type": "stream",
     "text": [
      "Round 1:\n",
      "Player 2 gave Player 1 $1\n",
      "Remaining players' wealth: {1: 2, 2: 1, 3: 3}\n",
      "\n",
      "Round 2:\n",
      "Player 2 gave Player 1 $1\n",
      "Remaining players' wealth: {1: 3, 3: 3}\n",
      "\n",
      "Round 3:\n",
      "Player 1 gave Player 3 $3\n",
      "Remaining players' wealth: {3: 6}\n",
      "\n",
      "Loser 1: 2\n",
      "Loser 2: 1\n",
      "Winner: 3\n",
      "Number of rounds played: 3\n"
     ]
    },
    {
     "data": {
      "text/plain": [
       "(3, 2, 3)"
      ]
     },
     "execution_count": 5,
     "metadata": {},
     "output_type": "execute_result"
    }
   ],
   "source": [
    "playGame(1,2,3, printProgress=True, printResult=True)"
   ]
  },
  {
   "cell_type": "code",
   "execution_count": 6,
   "id": "1c4e5e8b",
   "metadata": {},
   "outputs": [
    {
     "name": "stdout",
     "output_type": "stream",
     "text": [
      "Round 1:\n",
      "Player 2 gave Player 1 $12\n",
      "Remaining players' wealth: {1: 24, 2: 12, 3: 36}\n",
      "\n",
      "Round 2:\n",
      "Player 3 gave Player 1 $24\n",
      "Remaining players' wealth: {1: 48, 2: 12, 3: 12}\n",
      "\n",
      "Round 3:\n",
      "Player 1 gave Player 2 $12\n",
      "Remaining players' wealth: {1: 36, 2: 24, 3: 12}\n",
      "\n",
      "Round 4:\n",
      "Player 2 gave Player 3 $12\n",
      "Remaining players' wealth: {1: 36, 2: 12, 3: 24}\n",
      "\n",
      "Round 5:\n",
      "Player 1 gave Player 2 $12\n",
      "Remaining players' wealth: {1: 24, 2: 24, 3: 24}\n",
      "\n",
      "Round 6:\n",
      "Player 1 gave Player 3 $24\n",
      "Remaining players' wealth: {2: 24, 3: 48}\n",
      "\n",
      "Round 7:\n",
      "Player 2 gave Player 3 $24\n",
      "Remaining players' wealth: {3: 72}\n",
      "\n",
      "Loser 1: 1\n",
      "Loser 2: 2\n",
      "Winner: 3\n",
      "Number of rounds played: 7\n"
     ]
    },
    {
     "data": {
      "text/plain": [
       "(3, 1, 7)"
      ]
     },
     "execution_count": 6,
     "metadata": {},
     "output_type": "execute_result"
    }
   ],
   "source": [
    "playGame(12,24,36, printProgress=True, printResult=True)"
   ]
  },
  {
   "cell_type": "code",
   "execution_count": 7,
   "id": "d4ee4514",
   "metadata": {},
   "outputs": [],
   "source": [
    "def tallyToDf(winners, losers):\n",
    "    winnerCount = [(winners.count(i+1)) for i in range(NUM_PLAYERS)]\n",
    "    loserCount = [(losers.count(i+1)) for i in range(NUM_PLAYERS)]\n",
    "    data = {\"winner\": winnerCount, \"loser\": loserCount}\n",
    "    return pd.DataFrame.from_dict(data, orient='index', columns=range(1, NUM_PLAYERS+1))"
   ]
  },
  {
   "cell_type": "code",
   "execution_count": 8,
   "id": "2662db70",
   "metadata": {},
   "outputs": [],
   "source": [
    "def simGame(n, initState):\n",
    "    \"\"\"\n",
    "    Plays the betting game `n` times, with the provided initial amounts\n",
    "    \"\"\"\n",
    "    x, y, z = initState\n",
    "    winners = []\n",
    "    firstLosers = []\n",
    "    numRoundsPlayed = []\n",
    "    \n",
    "    for i in range(n):\n",
    "        winner, firstLoser, numRounds = playGame(x, y, z)\n",
    "        winners.append(winner)\n",
    "        firstLosers.append(firstLoser)\n",
    "        numRoundsPlayed.append(numRounds)\n",
    "    \n",
    "    summaryDf = tallyToDf(winners, firstLosers)\n",
    "    print(summaryDf)\n",
    "    player1Won = summaryDf.loc['winner', 1]\n",
    "    player1Lost = summaryDf.loc['loser', 1]\n",
    "    print('\\n')\n",
    "    \n",
    "    print(f\"P(winner = Player 1): {player1Won} / {n} = {player1Won / n}\")\n",
    "    print(f\"P(loser = Player 1): {player1Lost} / {n} = {player1Lost / n}\")\n",
    "    print(f\"Average number of rounds to end game: {np.mean(numRoundsPlayed)}\")"
   ]
  },
  {
   "cell_type": "code",
   "execution_count": 9,
   "id": "0496e68a",
   "metadata": {},
   "outputs": [
    {
     "name": "stdout",
     "output_type": "stream",
     "text": [
      "            1      2      3\n",
      "winner  16496  33349  50155\n",
      "loser   51940  31770  16290\n",
      "\n",
      "\n",
      "P(winner = Player 1): 16496 / 100000 = 0.16496\n",
      "P(loser = Player 1): 51940 / 100000 = 0.5194\n",
      "Average number of rounds to end game: 3.49989\n"
     ]
    }
   ],
   "source": [
    "simGame(100000, (1,2,3))"
   ]
  },
  {
   "cell_type": "code",
   "execution_count": 10,
   "id": "2d55bf54",
   "metadata": {},
   "outputs": [
    {
     "name": "stdout",
     "output_type": "stream",
     "text": [
      "            1      2      3\n",
      "winner  16581  33116  50303\n",
      "loser   52234  31744  16022\n",
      "\n",
      "\n",
      "P(winner = Player 1): 16581 / 100000 = 0.16581\n",
      "P(loser = Player 1): 52234 / 100000 = 0.52234\n",
      "Average number of rounds to end game: 3.49319\n"
     ]
    }
   ],
   "source": [
    "simGame(100000, (12,24,36))"
   ]
  },
  {
   "cell_type": "code",
   "execution_count": 11,
   "id": "f19f360e",
   "metadata": {},
   "outputs": [
    {
     "name": "stdout",
     "output_type": "stream",
     "text": [
      "            1      2      3\n",
      "winner  24713  35068  40219\n",
      "loser   44041  32174  23785\n",
      "\n",
      "\n",
      "P(winner = Player 1): 24713 / 100000 = 0.24713\n",
      "P(loser = Player 1): 44041 / 100000 = 0.44041\n",
      "Average number of rounds to end game: 3.76036\n"
     ]
    }
   ],
   "source": [
    "simGame(100000, (5,7,8))"
   ]
  },
  {
   "cell_type": "code",
   "execution_count": 12,
   "id": "49fb4106",
   "metadata": {},
   "outputs": [
    {
     "data": {
      "text/plain": [
       "0.4386390731717731"
      ]
     },
     "execution_count": 12,
     "metadata": {},
     "output_type": "execute_result"
    }
   ],
   "source": [
    "25424153614205494181829414445086271633/57961442947535311667794994473863737322"
   ]
  },
  {
   "cell_type": "code",
   "execution_count": null,
   "id": "b94cd65a",
   "metadata": {},
   "outputs": [],
   "source": []
  }
 ],
 "metadata": {
  "kernelspec": {
   "display_name": "Python 3 (ipykernel)",
   "language": "python",
   "name": "python3"
  },
  "language_info": {
   "codemirror_mode": {
    "name": "ipython",
    "version": 3
   },
   "file_extension": ".py",
   "mimetype": "text/x-python",
   "name": "python",
   "nbconvert_exporter": "python",
   "pygments_lexer": "ipython3",
   "version": "3.9.18"
  }
 },
 "nbformat": 4,
 "nbformat_minor": 5
}
