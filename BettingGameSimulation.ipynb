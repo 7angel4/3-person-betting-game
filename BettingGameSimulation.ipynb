{
 "cells": [
  {
   "cell_type": "code",
   "execution_count": 1,
   "id": "f982a577",
   "metadata": {},
   "outputs": [],
   "source": [
    "import numpy as np\n",
    "import random\n",
    "import pandas as pd"
   ]
  },
  {
   "cell_type": "code",
   "execution_count": 2,
   "id": "c7ef0177",
   "metadata": {},
   "outputs": [],
   "source": [
    "NUM_PLAYERS = 3\n",
    "random.seed(7)  # for reproducible output"
   ]
  },
  {
   "cell_type": "markdown",
   "id": "999b21a0",
   "metadata": {},
   "source": [
    "# Simulating one game"
   ]
  },
  {
   "cell_type": "code",
   "execution_count": 3,
   "id": "4f5ede4d",
   "metadata": {},
   "outputs": [],
   "source": [
    "# Helper functions\n",
    "def randSelectPlayer(candidates, exclude=None):\n",
    "    \"\"\"\n",
    "    Randomly selects and returns one entry from the list of candidates.\n",
    "    If `exclude` is specified, that entry is excluded from the list of candidates.\n",
    "    \"\"\"\n",
    "    choices = list(candidates)\n",
    "    if exclude:\n",
    "        choices.remove(exclude)\n",
    "    \n",
    "    return random.choice(choices)\n",
    "\n",
    "def give(giver, receiver, playerWealth):\n",
    "    \"\"\"\n",
    "    Simulates the give action:\n",
    "    The minimum of the giver's and receiver's wealth is transferred from the giver to the receiver.\n",
    "    Returns the updated `playerWealth` dictionary, which consists of player:wealth key-value pairs.\n",
    "    \"\"\"\n",
    "    v = playerWealth[giver]\n",
    "    w = playerWealth[receiver]\n",
    "    amt = min(v, w)\n",
    "    playerWealth[receiver] += amt\n",
    "    playerWealth[giver] -= amt\n",
    "    return playerWealth, amt\n",
    "    \n",
    "def getPlayerByWealth(playerWealth, amt):\n",
    "    \"\"\"\n",
    "    Looks up the `playerWealth` dictionary of player:wealth key-value pairs.\n",
    "    Returns the player whose value matches `amt` (an integer).\n",
    "    \"\"\"\n",
    "    for p, w in playerWealth.items():\n",
    "        if w == amt:\n",
    "            return p\n",
    "        \n",
    "    return None\n",
    "    \n",
    "\n",
    "def checkGameStatus(playerWealth, winAmt, loseAmt=0):\n",
    "    \"\"\"\n",
    "    Checks if there are any winners and losers.\n",
    "    - playerWealth: a dictionary of player:wealth key-value pairs.\n",
    "    - winAmt: an integer representing the winning condition.\n",
    "    - loseAmt: an integer representing the losing condition (default 0).\n",
    "    Returns a pair: (winner, loser). The entries are None if they do not yet exist.\n",
    "    \"\"\"\n",
    "    winner = getPlayerByWealth(playerWealth, winAmt)\n",
    "    loser = getPlayerByWealth(playerWealth, loseAmt)        \n",
    "    \n",
    "    return winner, loser\n",
    "\n",
    "def reportGameResult(winner, losers, numRounds):\n",
    "    \"\"\"\n",
    "    Outputs the game result.\n",
    "    - winner: the player that is the winner.\n",
    "    - losers: a list of losers in order, from the first to the last loser.\n",
    "    Note: By the naming convention, the first entry is the actual loser of the entire game.\n",
    "    \"\"\"\n",
    "    # prints losers in order\n",
    "    for i in range(len(losers)):\n",
    "        print(f\"Loser {i+1}: {losers[i]}\")\n",
    "    print(f\"Winner: {winner}\")\n",
    "    print(f\"Number of rounds played: {numRounds}\")\n",
    "\n",
    "def reportGameProgress(numRounds, giver, receiver, transferAmt, playerWealth):\n",
    "    \"\"\"\n",
    "    Outputs the game progress.\n",
    "    - numRounds: an integer representing the number of rounds played so far.\n",
    "    - giver: the player that is chosen to give.\n",
    "    - receiver: the player that is chosen to receive.\n",
    "    - transferAmt: an integer representing the amount of money transferred from the giver to the receiver.\n",
    "    - playerWealth: a dictionary of player:wealth key-value pairs, representing each player's current wealth.\n",
    "    \"\"\"\n",
    "    print(f\"Round {numRounds}:\")\n",
    "    print(f\"Player {giver} gave Player {receiver} ${transferAmt}\")\n",
    "    print(f\"Remaining players' wealth: {playerWealth}\\n\")"
   ]
  },
  {
   "cell_type": "code",
   "execution_count": 4,
   "id": "37df9a3e",
   "metadata": {},
   "outputs": [],
   "source": [
    "# Main function\n",
    "def playGame(x, y, z, printProgress=False, printResult=False):\n",
    "    \"\"\"\n",
    "    Plays one game.\n",
    "    - x, y, z: integers representing the initial wealth of Player 1, 2, 3, respectively.\n",
    "    - printProgress: if True, prints the game progress.\n",
    "    - printResult: if True, prints the game's result.\n",
    "    Returns the winner, (first) loser, and number of rounds until the game ends.\n",
    "    \"\"\"\n",
    "    # initialise\n",
    "    playerWealth = {1: x, 2: y, 3: z}\n",
    "    numPlayers = NUM_PLAYERS\n",
    "    total = x + y + z\n",
    "    winner = None\n",
    "    losers = []  # losers in order - might be interested in, e.g. P(Player 2 loses before 1)\n",
    "    numRounds = 0\n",
    "    \n",
    "    while numPlayers > 1:\n",
    "        giver = randSelectPlayer(playerWealth)\n",
    "        receiver = randSelectPlayer(playerWealth, exclude=giver)\n",
    "        playerWealth, transferAmt = give(giver, receiver, playerWealth)\n",
    "        \n",
    "        winner, loser = checkGameStatus(playerWealth, total)\n",
    "        # check if a loser has appeared\n",
    "        if loser:\n",
    "            losers.append(loser)\n",
    "            numPlayers -= 1\n",
    "            playerWealth.pop(loser)\n",
    "        \n",
    "        numRounds += 1\n",
    "        \n",
    "        if printProgress:\n",
    "            reportGameProgress(numRounds, giver, receiver, transferAmt, playerWealth)\n",
    "    \n",
    "    # sanity checks - at this point, should have 1 winner left, and 2 losers\n",
    "#     assert(winner)\n",
    "#     assert(numPlayers == 1)\n",
    "#     assert(len(losers) == NUM_PLAYERS-1)\n",
    "    \n",
    "    if printResult:\n",
    "        reportGameResult(winner, losers, numRounds)\n",
    "        \n",
    "    return winner, losers[0], numRounds"
   ]
  },
  {
   "cell_type": "markdown",
   "id": "9435f566",
   "metadata": {},
   "source": [
    "## Examples"
   ]
  },
  {
   "cell_type": "code",
   "execution_count": 34,
   "id": "453dd9c1",
   "metadata": {},
   "outputs": [
    {
     "name": "stdout",
     "output_type": "stream",
     "text": [
      "Round 1:\n",
      "Player 1 gave Player 2 $1\n",
      "Remaining players' wealth: {2: 3, 3: 3}\n",
      "\n",
      "Round 2:\n",
      "Player 2 gave Player 3 $3\n",
      "Remaining players' wealth: {3: 6}\n",
      "\n",
      "Loser 1: 1\n",
      "Loser 2: 2\n",
      "Winner: 3\n",
      "Number of rounds played: 2\n"
     ]
    },
    {
     "data": {
      "text/plain": [
       "(3, 1, 2)"
      ]
     },
     "execution_count": 34,
     "metadata": {},
     "output_type": "execute_result"
    }
   ],
   "source": [
    "#playGame(1,2,3, printProgress=True, printResult=True)"
   ]
  },
  {
   "cell_type": "code",
   "execution_count": 36,
   "id": "a020637b",
   "metadata": {},
   "outputs": [
    {
     "name": "stdout",
     "output_type": "stream",
     "text": [
      "Round 1:\n",
      "Player 1 gave Player 3 $12\n",
      "Remaining players' wealth: {2: 24, 3: 48}\n",
      "\n",
      "Round 2:\n",
      "Player 2 gave Player 3 $24\n",
      "Remaining players' wealth: {3: 72}\n",
      "\n",
      "Loser 1: 1\n",
      "Loser 2: 2\n",
      "Winner: 3\n",
      "Number of rounds played: 2\n"
     ]
    },
    {
     "data": {
      "text/plain": [
       "(3, 1, 2)"
      ]
     },
     "execution_count": 36,
     "metadata": {},
     "output_type": "execute_result"
    }
   ],
   "source": [
    "#playGame(12,24,36, printProgress=True, printResult=True)"
   ]
  },
  {
   "cell_type": "markdown",
   "id": "4e454404",
   "metadata": {},
   "source": [
    "# Simulating the game multiple times and estimating probabilities"
   ]
  },
  {
   "cell_type": "code",
   "execution_count": 7,
   "id": "d4ee4514",
   "metadata": {},
   "outputs": [],
   "source": [
    "# Helper function\n",
    "def tallyToDf(winners, losers):\n",
    "    \"\"\"\n",
    "    Counts how many times each player has been the winner and loser, from the given tallies\n",
    "    (lists of entries 1,2,3, representing the player that has won/lost that game).\n",
    "    Returns the aggregated result as a DataFrame with rows = (winner, loser), columns = Players (1,2,3)\n",
    "    \"\"\"\n",
    "    winnerCount = [(winners.count(i+1)) for i in range(NUM_PLAYERS)]\n",
    "    loserCount = [(losers.count(i+1)) for i in range(NUM_PLAYERS)]\n",
    "    data = {\"winner\": winnerCount, \"loser\": loserCount}\n",
    "    return pd.DataFrame.from_dict(data, orient='index', columns=range(1, NUM_PLAYERS+1))"
   ]
  },
  {
   "cell_type": "code",
   "execution_count": 8,
   "id": "2662db70",
   "metadata": {},
   "outputs": [],
   "source": [
    "# Main function\n",
    "def simGame(n, initState, report=True):\n",
    "    \"\"\"\n",
    "    Plays the betting game `n` times, with the provided initial amounts.\n",
    "    Prints a summary of the game statistics, include:\n",
    "    - number of games where each player is the winner and loser;\n",
    "    - estimated probability of player 1 being the winner and loser;\n",
    "    - average number of rounds played to end a game.\n",
    "    \"\"\"\n",
    "    x, y, z = initState\n",
    "    winners = []\n",
    "    firstLosers = []\n",
    "    numRoundsPlayed = []\n",
    "    \n",
    "    for i in range(n):\n",
    "        winner, firstLoser, numRounds = playGame(x, y, z)\n",
    "        winners.append(winner)\n",
    "        firstLosers.append(firstLoser)\n",
    "        numRoundsPlayed.append(numRounds)\n",
    "    \n",
    "    summaryDf = tallyToDf(winners, firstLosers)\n",
    "    player1Won = summaryDf.loc['winner', 1]\n",
    "    player1Lost = summaryDf.loc['loser', 1]\n",
    "    \n",
    "    if report:\n",
    "        print(summaryDf)\n",
    "        print('\\n')\n",
    "\n",
    "        print(f\"P(winner = Player 1): {player1Won} / {n} = {player1Won / n}\")\n",
    "        print(f\"P(loser = Player 1): {player1Lost} / {n} = {player1Lost / n}\")\n",
    "        print(f\"Average number of rounds to end game: {np.mean(numRoundsPlayed)}\")\n",
    "    \n",
    "    return player1Lost/n"
   ]
  },
  {
   "cell_type": "markdown",
   "id": "8f4484b8",
   "metadata": {},
   "source": [
    "## Examples"
   ]
  },
  {
   "cell_type": "code",
   "execution_count": 9,
   "id": "0496e68a",
   "metadata": {},
   "outputs": [
    {
     "name": "stdout",
     "output_type": "stream",
     "text": [
      "            1      2      3\n",
      "winner  16496  33349  50155\n",
      "loser   51940  31770  16290\n",
      "\n",
      "\n",
      "P(winner = Player 1): 16496 / 100000 = 0.16496\n",
      "P(loser = Player 1): 51940 / 100000 = 0.5194\n",
      "Average number of rounds to end game: 3.49989\n"
     ]
    },
    {
     "data": {
      "text/plain": [
       "0.5194"
      ]
     },
     "execution_count": 9,
     "metadata": {},
     "output_type": "execute_result"
    }
   ],
   "source": [
    "#simGame(100000, (1,2,3))"
   ]
  },
  {
   "cell_type": "code",
   "execution_count": 10,
   "id": "2d55bf54",
   "metadata": {},
   "outputs": [
    {
     "name": "stdout",
     "output_type": "stream",
     "text": [
      "            1      2      3\n",
      "winner  16581  33116  50303\n",
      "loser   52234  31744  16022\n",
      "\n",
      "\n",
      "P(winner = Player 1): 16581 / 100000 = 0.16581\n",
      "P(loser = Player 1): 52234 / 100000 = 0.52234\n",
      "Average number of rounds to end game: 3.49319\n"
     ]
    },
    {
     "data": {
      "text/plain": [
       "0.52234"
      ]
     },
     "execution_count": 10,
     "metadata": {},
     "output_type": "execute_result"
    }
   ],
   "source": [
    "#simGame(100000, (12,24,36))"
   ]
  },
  {
   "cell_type": "code",
   "execution_count": 33,
   "id": "f19f360e",
   "metadata": {
    "scrolled": true
   },
   "outputs": [
    {
     "name": "stdout",
     "output_type": "stream",
     "text": [
      "            1      2      3\n",
      "winner  14163  24099  61738\n",
      "loser   53340  36965   9695\n",
      "\n",
      "\n",
      "P(winner = Player 1): 14163 / 100000 = 0.14163\n",
      "P(loser = Player 1): 53340 / 100000 = 0.5334\n",
      "Average number of rounds to end game: 3.99326\n"
     ]
    },
    {
     "data": {
      "text/plain": [
       "0.5334"
      ]
     },
     "execution_count": 33,
     "metadata": {},
     "output_type": "execute_result"
    }
   ],
   "source": [
    "#simGame(100000, (11,19,48))"
   ]
  }
 ],
 "metadata": {
  "kernelspec": {
   "display_name": "Python 3 (ipykernel)",
   "language": "python",
   "name": "python3"
  },
  "language_info": {
   "codemirror_mode": {
    "name": "ipython",
    "version": 3
   },
   "file_extension": ".py",
   "mimetype": "text/x-python",
   "name": "python",
   "nbconvert_exporter": "python",
   "pygments_lexer": "ipython3",
   "version": "3.9.18"
  }
 },
 "nbformat": 4,
 "nbformat_minor": 5
}
