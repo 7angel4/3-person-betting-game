{
 "cells": [
  {
   "cell_type": "code",
   "execution_count": 10,
   "id": "ff20c38e",
   "metadata": {},
   "outputs": [],
   "source": [
    "import numpy as np\n",
    "import pandas as pd\n",
    "import sympy as sp\n",
    "from fractions import Fraction"
   ]
  },
  {
   "cell_type": "code",
   "execution_count": 30,
   "id": "64b8137a",
   "metadata": {},
   "outputs": [],
   "source": [
    "NUM_PLAYERS = 3\n",
    "PLAYERS = list(range(1, NUM_PLAYERS+1))\n",
    "# all possible (giver, receiver) pairs\n",
    "OUTCOME_PROB = Fraction(1, NUM_PLAYERS * (NUM_PLAYERS-1))  # 1/6\n",
    "CANDIDATE_MOVES = [(g, r) for idx, g in enumerate(PLAYERS) for r in PLAYERS if g != r]\n",
    "CONSTANT = (-1,-1,-1)  # special state representing a constant value"
   ]
  },
  {
   "cell_type": "code",
   "execution_count": 31,
   "id": "46ca4a51",
   "metadata": {},
   "outputs": [],
   "source": [
    "def applyMove(initState, move):\n",
    "    g, r = move\n",
    "    initWealth = list(initState)\n",
    "    transferAmt = min(initWealth[g-1], initWealth[r-1])  # 0-indexed\n",
    "    initWealth[g-1] -= transferAmt  # give\n",
    "    initWealth[r-1] += transferAmt  # receive\n",
    "    return tuple(initWealth)\n",
    "\n",
    "\n",
    "def getChildStates(initState):\n",
    "    \"\"\"\n",
    "    Applies all possible moves to the initial state.\n",
    "    Returns the child states.\n",
    "    \"\"\"\n",
    "    return [applyMove(initState, move) for move in CANDIDATE_MOVES]\n",
    "\n",
    "def getCoef(initState, childStates, loser=1):\n",
    "    # assign all states the individual outcome probability\n",
    "    stateCoefs = {s:OUTCOME_PROB for s in childStates}\n",
    "    stateCoefs[CONSTANT] = 0\n",
    "    \n",
    "    for state in stateCoefs.copy():\n",
    "        # prune the 0 hitting prob states\n",
    "        if zeroHittingProb(state, loser):\n",
    "            stateCoefs.pop(state)\n",
    "        # convert the hitting prob 1 states to constants\n",
    "        elif alreadyHit(state, loser):\n",
    "            stateCoefs[CONSTANT] += stateCoefs[state]\n",
    "            stateCoefs.pop(state)\n",
    "            \n",
    "    # optimization: combine symmetrical states\n",
    "    return stateCoefs\n",
    "\n",
    "def zeroHittingProb(state, loser):\n",
    "    \"\"\"\n",
    "    Returns true if the given state cannot reach the state of having the specified loser, false otherwise.\n",
    "    \n",
    "    \"\"\"\n",
    "    return (0 in state) and (state[loser-1] > 0)\n",
    "\n",
    "def alreadyHit(state, loser):\n",
    "    \"\"\"\n",
    "    Returns true if the given state reaches the state of having the specified loser wp1, false otherwise.\n",
    "    \n",
    "    \"\"\"\n",
    "    return state[loser-1] == 0\n",
    "\n",
    "def symmetricalStates(s1, s2):\n",
    "    return set(s1[1:]) == set(s2[1:])"
   ]
  },
  {
   "cell_type": "code",
   "execution_count": 32,
   "id": "99d1b73e",
   "metadata": {},
   "outputs": [
    {
     "data": {
      "text/plain": [
       "[(0, 3, 3), (0, 2, 4), (2, 1, 3), (1, 0, 5), (2, 2, 2), (1, 4, 1)]"
      ]
     },
     "execution_count": 32,
     "metadata": {},
     "output_type": "execute_result"
    }
   ],
   "source": [
    "getChildStates((1,2,3))"
   ]
  },
  {
   "cell_type": "code",
   "execution_count": 33,
   "id": "a1a6d0be",
   "metadata": {},
   "outputs": [
    {
     "data": {
      "text/plain": [
       "{(2, 1, 3): Fraction(1, 6),\n",
       " (2, 2, 2): Fraction(1, 6),\n",
       " (1, 4, 1): Fraction(1, 6),\n",
       " (-1, -1, -1): Fraction(1, 3)}"
      ]
     },
     "execution_count": 33,
     "metadata": {},
     "output_type": "execute_result"
    }
   ],
   "source": [
    "init = (1,2,3)\n",
    "getCoef(init, getChildStates(init))"
   ]
  },
  {
   "cell_type": "code",
   "execution_count": 20,
   "id": "4b56951e",
   "metadata": {},
   "outputs": [
    {
     "data": {
      "text/plain": [
       "(1, 2, 3)"
      ]
     },
     "execution_count": 20,
     "metadata": {},
     "output_type": "execute_result"
    }
   ],
   "source": [
    "tuple([1,2,3])"
   ]
  },
  {
   "cell_type": "code",
   "execution_count": 5,
   "id": "6dc9db56",
   "metadata": {},
   "outputs": [
    {
     "data": {
      "text/plain": [
       "True"
      ]
     },
     "execution_count": 5,
     "metadata": {},
     "output_type": "execute_result"
    }
   ],
   "source": [
    "a = {1:2, 'c':3}\n",
    "1 in a"
   ]
  },
  {
   "cell_type": "code",
   "execution_count": 3,
   "id": "cde500fc",
   "metadata": {},
   "outputs": [
    {
     "data": {
      "text/plain": [
       "(2, 3)"
      ]
     },
     "execution_count": 3,
     "metadata": {},
     "output_type": "execute_result"
    }
   ],
   "source": [
    "a[1:]"
   ]
  },
  {
   "cell_type": "code",
   "execution_count": null,
   "id": "6c0e24b8",
   "metadata": {},
   "outputs": [],
   "source": []
  }
 ],
 "metadata": {
  "kernelspec": {
   "display_name": "Python 3 (ipykernel)",
   "language": "python",
   "name": "python3"
  },
  "language_info": {
   "codemirror_mode": {
    "name": "ipython",
    "version": 3
   },
   "file_extension": ".py",
   "mimetype": "text/x-python",
   "name": "python",
   "nbconvert_exporter": "python",
   "pygments_lexer": "ipython3",
   "version": "3.9.18"
  }
 },
 "nbformat": 4,
 "nbformat_minor": 5
}
