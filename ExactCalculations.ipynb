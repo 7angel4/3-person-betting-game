{
 "cells": [
  {
   "cell_type": "code",
   "execution_count": 10,
   "id": "ff20c38e",
   "metadata": {},
   "outputs": [],
   "source": [
    "import numpy as np\n",
    "import pandas as pd\n",
    "import sympy as sp\n",
    "from fractions import Fraction"
   ]
  },
  {
   "cell_type": "code",
   "execution_count": 96,
   "id": "64b8137a",
   "metadata": {},
   "outputs": [],
   "source": [
    "NUM_PLAYERS = 3\n",
    "PLAYERS = list(range(1, NUM_PLAYERS+1))\n",
    "# all possible (giver, receiver) pairs\n",
    "OUTCOME_PROB = Fraction(1, NUM_PLAYERS * (NUM_PLAYERS-1))  # 1/6\n",
    "CANDIDATE_MOVES = [(g, r) for idx, g in enumerate(PLAYERS) for r in PLAYERS if g != r]"
   ]
  },
  {
   "cell_type": "code",
   "execution_count": 148,
   "id": "46ca4a51",
   "metadata": {},
   "outputs": [],
   "source": [
    "def applyMove(initState, move):\n",
    "    g, r = move\n",
    "    initWealth = list(initState)\n",
    "    transferAmt = min(initWealth[g-1], initWealth[r-1])  # 0-indexed\n",
    "    initWealth[g-1] -= transferAmt  # give\n",
    "    initWealth[r-1] += transferAmt  # receive\n",
    "    return tuple(initWealth)\n",
    "\n",
    "\n",
    "def getChildStates(initState):\n",
    "    \"\"\"\n",
    "    Applies all possible moves to the initial state.\n",
    "    Returns the child states.\n",
    "    \"\"\"\n",
    "    return [applyMove(initState, move) for move in CANDIDATE_MOVES]\n",
    "\n",
    "def getCoef(initState, loser=1):\n",
    "    \"\"\"\n",
    "    Returns the coefficients for a first-step analysis equation,\n",
    "    where the hitting probability of the initial state is the subject.\n",
    "    \"\"\"\n",
    "    # assign all states the individual outcome probability\n",
    "    childStates = getChildStates(initState)\n",
    "    stateCoefs = {s:OUTCOME_PROB for s in childStates}\n",
    "    const = 0\n",
    "    \n",
    "    for state in stateCoefs.copy():\n",
    "        # prune the 0 hitting prob states\n",
    "        if zeroHittingProb(state, loser):\n",
    "            stateCoefs.pop(state)\n",
    "        # convert the hitting prob 1 states to constants\n",
    "        elif alreadyHit(state, loser):\n",
    "            const += stateCoefs[state]\n",
    "            stateCoefs.pop(state)\n",
    "        # optimsation 1: convert equal wealth states to constants\n",
    "        elif equalWealth(state):\n",
    "            const += stateCoefs[state] / NUM_PLAYERS\n",
    "            stateCoefs.pop(state)\n",
    "    \n",
    "    # optimization 2: combine symmetrical states\n",
    "    copy = list(stateCoefs.copy().keys())\n",
    "    n = len(copy)\n",
    "    for i in range(n):\n",
    "        for j in range(i+1, n):\n",
    "            s1, s2 = copy[i], copy[j]\n",
    "            if (symmetricalStates(s1, s2)):\n",
    "                combinedProb = stateCoefs.pop(s1) + stateCoefs.pop(s2)\n",
    "                stateCoefs[standardiseState(s1)] = combinedProb\n",
    "    \n",
    "    return standardiseStates(stateCoefs), const\n",
    "\n",
    "def zeroHittingProb(state, loser):\n",
    "    \"\"\"\n",
    "    Returns true if the given state cannot reach the state of having the specified loser, false otherwise.\n",
    "    \n",
    "    \"\"\"\n",
    "    return (0 in state) and (state[loser-1] > 0)\n",
    "\n",
    "def alreadyHit(state, loser):\n",
    "    \"\"\"\n",
    "    Returns true if the given state reaches the state of having the specified loser wp1, false otherwise.\n",
    "    \n",
    "    \"\"\"\n",
    "    return state[loser-1] == 0\n",
    "\n",
    "def symmetricalStates(s1, s2):\n",
    "    return s1[0] == s2[0] and set(s1[1:]) == set(s2[1:])\n",
    "\n",
    "def standardiseState(s):\n",
    "    # convention: keep the smaller value at the front\n",
    "    return s if s[1] <= s[2] else (s[0], s[2], s[1])\n",
    "\n",
    "def standardiseStates(stateCoefs):\n",
    "    return {standardiseState(s):p for s, p in stateCoefs.items()}\n",
    "    \n",
    "def equalWealth(s):\n",
    "    return s[0] == s[1] and s[1] == s[2]"
   ]
  },
  {
   "cell_type": "code",
   "execution_count": 170,
   "id": "3b94b9b4",
   "metadata": {},
   "outputs": [],
   "source": [
    "from sympy import *\n",
    "from sympy.solvers import solve"
   ]
  },
  {
   "cell_type": "code",
   "execution_count": 150,
   "id": "84b3fd3b",
   "metadata": {},
   "outputs": [],
   "source": [
    "def getEquation(initState, stateCoefs, const):\n",
    "    # equation will be in the form of human readable equalities (like how we normally write down)\n",
    "    symbols = [encodeState(s) for s in stateCoefs]\n",
    "    eqn = Eq(encodeState(initState), getExpr(stateCoefs, const))\n",
    "    return eqn, symbols\n",
    "    \n",
    "def encodeState(state):\n",
    "    return Symbol(f'h{state}')\n",
    "\n",
    "def getExpr(stateCoefs, const):\n",
    "    expr = const\n",
    "    for s in stateCoefs:\n",
    "        expr = Add(expr, stateCoefs[s] * encodeState(s))\n",
    "    return expr"
   ]
  },
  {
   "cell_type": "code",
   "execution_count": 180,
   "id": "377ee301",
   "metadata": {},
   "outputs": [],
   "source": [
    "class FirstStepAnalysis():\n",
    "    def __init__(self, initState):\n",
    "        self.initState = initState\n",
    "        self.generatedStates = set([standardiseState(initState)])\n",
    "        self.equations = []\n",
    "        self.symbols = set() # or can encode all generated states at once in the end\n",
    "    \n",
    "    def getEquations(self):\n",
    "        self.recurseGenerateEqns(self.initState)\n",
    "        return self.equations\n",
    "        \n",
    "    def recurseGenerateEqns(self, initState):\n",
    "        childStatesProb, const = getCoef(initState)  # state:prob pairs, under unified representation\n",
    "        newStates = set(childStatesProb).difference(self.generatedStates)\n",
    "        \n",
    "        # compute for the current state\n",
    "        # do this before the recursion to close off the loop\n",
    "        eqn, symbols = getEquation(initState, childStatesProb, const)\n",
    "        self.equations.append(eqn)\n",
    "\n",
    "        # base case: no new states\n",
    "        if not newStates:\n",
    "            return\n",
    "\n",
    "        # \n",
    "        self.symbols = self.symbols.union(symbols)\n",
    "        self.generatedStates = self.generatedStates.union(newStates)\n",
    "        \n",
    "        # recurse\n",
    "        for state in newStates:\n",
    "            self.recurseGenerateEqns(state)\n",
    "    \n",
    "    def solveEqns(self):\n",
    "        self.getEquations()\n",
    "        return solve(self.equations, self.symbols)\n",
    "    \n",
    "    #def exportEqns(self):"
   ]
  },
  {
   "cell_type": "code",
   "execution_count": 178,
   "id": "a1a6d0be",
   "metadata": {},
   "outputs": [
    {
     "data": {
      "text/plain": [
       "{h(1, 1, 4): 44/93,\n",
       " h(1, 2, 3): 113/217,\n",
       " h(2, 1, 3): 69/217,\n",
       " h(3, 1, 2): 5/31,\n",
       " h(4, 1, 1): 5/93}"
      ]
     },
     "execution_count": 178,
     "metadata": {},
     "output_type": "execute_result"
    }
   ],
   "source": [
    "init = (1,2,3)\n",
    "test = FirstStepAnalysis(init)\n",
    "eqns = test.getEquations()\n",
    "test.solveEqns()"
   ]
  },
  {
   "cell_type": "code",
   "execution_count": null,
   "id": "860787a5",
   "metadata": {},
   "outputs": [],
   "source": []
  }
 ],
 "metadata": {
  "kernelspec": {
   "display_name": "Python 3 (ipykernel)",
   "language": "python",
   "name": "python3"
  },
  "language_info": {
   "codemirror_mode": {
    "name": "ipython",
    "version": 3
   },
   "file_extension": ".py",
   "mimetype": "text/x-python",
   "name": "python",
   "nbconvert_exporter": "python",
   "pygments_lexer": "ipython3",
   "version": "3.9.18"
  }
 },
 "nbformat": 4,
 "nbformat_minor": 5
}
