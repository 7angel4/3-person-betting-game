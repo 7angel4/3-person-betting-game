{
 "cells": [
  {
   "cell_type": "code",
   "execution_count": null,
   "id": "94be76bb",
   "metadata": {
    "scrolled": true
   },
   "outputs": [],
   "source": [
    "%run LoserAnalysis.ipynb"
   ]
  },
  {
   "cell_type": "markdown",
   "id": "a5cd4370",
   "metadata": {},
   "source": [
    "# Follow-up analysis"
   ]
  },
  {
   "cell_type": "markdown",
   "id": "a8fc99ff",
   "metadata": {},
   "source": [
    "## When is player 1 better off giving away $1?"
   ]
  },
  {
   "cell_type": "code",
   "execution_count": 74,
   "id": "b635c555",
   "metadata": {},
   "outputs": [],
   "source": [
    "# identify (x,y,z) such that h(x-1,y,z) < h(x,y,z)\n",
    "def findBetterGiving1Out(minWealth, maxWealth):\n",
    "    \"\"\"\n",
    "    Identifies and returns a list of states such that h(x-1,y,z) < h(x,y,z).\n",
    "    `minWealth` and `maxWealth`: integer bounds on each player's amount of money.\n",
    "    \"\"\"\n",
    "    hittingProbs = multipleStateTargetProbs(minWealth, maxWealth)\n",
    "    betterGiving1 = []\n",
    "    for x in range(minWealth+1, maxWealth+1):\n",
    "        for y in range (minWealth, maxWealth+1):\n",
    "            for z in range (minWealth, maxWealth+1):\n",
    "#                 print(float(hittingProbs[standardiseState((x-1,y,z))]))\n",
    "#                 print(float(hittingProbs[standardiseState((x,y,z))]), '\\n')\n",
    "                if hittingProbs[standardiseState((x-1,y,z))] < hittingProbs[standardiseState((x,y,z))]:\n",
    "                    betterGiving1.append((x,y,z))\n",
    "\n",
    "    return betterGiving1"
   ]
  },
  {
   "cell_type": "code",
   "execution_count": 116,
   "id": "1d2dc7fe",
   "metadata": {},
   "outputs": [
    {
     "data": {
      "text/plain": [
       "0.4396844532194262"
      ]
     },
     "execution_count": 116,
     "metadata": {},
     "output_type": "execute_result"
    }
   ],
   "source": [
    "float(LoserAnalysis((13,18,18)).getHittingProb())"
   ]
  },
  {
   "cell_type": "code",
   "execution_count": 115,
   "id": "e192e16e",
   "metadata": {},
   "outputs": [
    {
     "data": {
      "text/plain": [
       "0.4147257924935729"
      ]
     },
     "execution_count": 115,
     "metadata": {},
     "output_type": "execute_result"
    }
   ],
   "source": [
    "float(LoserAnalysis((14,18,18)).getHittingProb())"
   ]
  },
  {
   "cell_type": "code",
   "execution_count": 119,
   "id": "f0dd2719",
   "metadata": {},
   "outputs": [
    {
     "data": {
      "text/plain": [
       "{(13,\n",
       "  18,\n",
       "  18): 1005402316108370448966120746345073432070348182122862025211920059973631270969333712841191293410395267020743371826431675661850381982148077981796336423244665406626406135495568648307686541767264396493922120420252775505068594136548569173636312861046555453822957876683909989349721/2286645135498163038181479207329448954002610212494105356073569678753308798149436948853575922265836752105739869178888907103734224768742639865529651485213025642486207297450037984793795800225480813425370292438679743371326758638192625396264428857578446836892843549924280926091715,\n",
       " (14,\n",
       "  18,\n",
       "  18): 4102697857315181838086534254577553502380770964376533974570862484/9892555349999752921042967110075155411940949647667999474834953251,\n",
       " (15,\n",
       "  20,\n",
       "  11): 89326236301970730287308369947659212878219450700038995154766394468558688020616681659444949899128073790460844972217259954011590857061793986151894192789315178360357313938514877710097296793786405063069046869389055603375230370485109902197732838577121/279213550314399603837087111189138290451904027876141770164837780966594295763806272729255893541288780965650131805182887798224487987332766808493402710554159497453169798261448931206630429338164764034001786221526806034104073042747206156823929076593954,\n",
       " (16,\n",
       "  20,\n",
       "  11): 1203896106411831136321895012222121901735863120066805232632519937592945478283036042846000766009931500539590923336150362901001380914998297343992134889225196546153256736624158431010547872894952063290031733260452181517031219594073294942732625033760246727625423/4014258106921928296224196400734005957849718195259340199198464184430641334688191821155929127182434147194731850949769709476227737007087634738773376059957211915857580963086759428215332603331286086263013856497944498325135329041583476372490508457444681045376473,\n",
       " (16,\n",
       "  12,\n",
       "  18): 3414401284707490730009443567672725360180687238920899509/11289575046759085369723573309526503272248894362994380927,\n",
       " (17,\n",
       "  12,\n",
       "  18): 379712249799196928117695334814879743914790371787647329113903814969624687246969117047571191200320438031414568337324216169402054909222817022381076196147410803789123621479248708677744105237031549750147548186311338168835668282498709664366629084391282406796095/1338086035640642765408065466911335319283239398419780066399488061476880444896063940385309709060811382398243950316589903158742579002362544912924458686652403971952526987695586476071777534443762028754337952165981499441711776347194492124163502819148227015125491,\n",
       " (16,\n",
       "  15,\n",
       "  20): 208980356301100861734566810146082259294638611157868661669951627751488019527645339308358622022399861585033366364266035053677635417229998710091739278272688573615204348509377953709604876520793060032591671449976226369052390675419032625262874184909246823449739914744340727208/586399719029091327080543712481303482027588148123736509428550876084450673639831748188467055000728934006990247571174226767225461581516427581133779429487559173787883919256061010426333856381380408380229636018540094415092654658687002232149759089238839504759547562636892958341,\n",
       " (17,\n",
       "  15,\n",
       "  20): 1023053700618203738039710685943950268616041551672877257749290705560626155713835253525678409368778399003550314765692144379331179577054868564839732044144808996733935530426859942354783041494297948109655939110422214797706814737524591753857580897730575973750319847366322500234041741716269010251210766847790778215881444298346/3033989071275825226197281335505346525997267628773027694363883372325468593425764837063463856618822992637287976177575004071370370871940034114155879688797052298680491827591810627930501601723196605532281256487877076171638654879603722918538152997368755347854406309517638402971730145760164599236689562322876532927658772267711,\n",
       " (17,\n",
       "  20,\n",
       "  12): 226644788722149143804316466779106662244342775358695992240228326587933216481132338746362729976866492104948438421814028247181504480878120500242874805988814509623310281578243312086302356151897392320663517977843837326074184322026121039970138556394542529317389469626057298791781/762215045166054346060493069109816318000870070831368452024523226251102932716478982951191974088612250701913289726296302367911408256247546621843217161737675214162069099150012661597931933408493604475123430812893247790442252879397541798754809619192815612297614516641426975363905,\n",
       " (18,\n",
       "  20,\n",
       "  12): 2769410056464441406045967683518689612654193748706549029887848000/9892555349999752921042967110075155411940949647667999474834953251,\n",
       " (17,\n",
       "  20,\n",
       "  19): 133810425558432929620192099961337036068510229548611034444349061959285726370078139415524039078056390940617313349781708035384579391476060422688816821650256555687241232232364958434218064813334682366334374525941026221260938962423751576896025764577935078489767500369372602863578294213475612593128182509825719082906759753077395782950193196777859724715328537915079176276377993/355242390903381274643613857843334199261390113869350424661330419774756586253129269732348790681868292527647985240185149862468211013522735128997830731805999098852323087073329361997170371455979128451186716578268208051560662997770824785656447761558463854013846482896628524657037044965308642375954061427314085469748196485310940656958366894525354093370656755267491328808677952,\n",
       " (18,\n",
       "  20,\n",
       "  19): 521945494427508419262276955536002164089544553503671360102617090304239685447697494238647554710382666938431157931681415018111434999422243939751752764611611782465714144411655292009141426143545268364708223005428471102992428003982725988808399150020118418402359465958648341198383382766880022804028319470679682153795667734941729735590125068744351/1457090513958027887083080925806229789671419914949228168244448628878483247192096105390409236583031200349425477817294040557738865499873341684191188361662513076672866385859305237120655322560408263889950146346435652222932625395803055966055292021705110941367552262917600042274183997623884408455805749870038073438806688887549701654769312216640735,\n",
       " (19,\n",
       "  11,\n",
       "  12): 106300043024483083014286486207270623890044423077496135622690289310846520269619981467823375079054313520410657206796969186617314021460141771548856255939567805212603717329484641913806/568547247093460636613635260222510911453951062868969696156697611015389572731223345260434406734215496672301062488397664059162556814450961164022149866488583776203317001405666604464249,\n",
       " (20,\n",
       "  11,\n",
       "  12): 1442777217115944418430398293283160552174572128034663397973518911297697119300348355555503348658821820524285320897304093003615743546778018937731497475946807647198783077052595843634389859788552730852861117952338634/8285224749244852114445745733598702951833725371625566067100166540075291128898587661177545525271585730845758563097592145078592691118639954772012939301874504891447819628154289234988696740722431694948172256869049905}"
      ]
     },
     "execution_count": 119,
     "metadata": {},
     "output_type": "execute_result"
    }
   ],
   "source": [
    "betterGiving1Probs = {}\n",
    "for (x,y,z) in betterGiving1:\n",
    "    betterGiving1Probs[(x-1,y,z)] = LoserAnalysis((x-1,y,z)).getHittingProb()\n",
    "    betterGiving1Probs[(x,y,z)] = LoserAnalysis((x,y,z)).getHittingProb()\n",
    "\n",
    "betterGiving1Probs"
   ]
  },
  {
   "cell_type": "code",
   "execution_count": 120,
   "id": "58432f3c",
   "metadata": {},
   "outputs": [],
   "source": [
    "exportStateProbs('betterGiving1.csv', betterGiving1Probs)"
   ]
  },
  {
   "cell_type": "code",
   "execution_count": 6,
   "id": "f111b33c",
   "metadata": {},
   "outputs": [],
   "source": [
    "betterGiving1ProbsApprox = {}\n",
    "for (x,y,z) in betterGiving1:\n",
    "    betterGiving1ProbsApprox[(x-1,y,z)] = float(LoserAnalysis((x-1,y,z)).getHittingProb())\n",
    "    betterGiving1ProbsApprox[(x,y,z)] = float(LoserAnalysis((x,y,z)).getHittingProb())\n",
    "\n",
    "exportStateProbs('betterGiving1Approx.csv', betterGiving1ProbsApprox)"
   ]
  },
  {
   "cell_type": "code",
   "execution_count": 128,
   "id": "71bfc3bc",
   "metadata": {},
   "outputs": [
    {
     "data": {
      "text/plain": [
       "0.6147003342964491"
      ]
     },
     "execution_count": 128,
     "metadata": {},
     "output_type": "execute_result"
    }
   ],
   "source": [
    "float(LoserAnalysis((11,19,48)).getHittingProb())"
   ]
  },
  {
   "cell_type": "code",
   "execution_count": 129,
   "id": "8d3f66ed",
   "metadata": {},
   "outputs": [
    {
     "data": {
      "text/plain": [
       "0.64083258556968"
      ]
     },
     "execution_count": 129,
     "metadata": {},
     "output_type": "execute_result"
    }
   ],
   "source": [
    "float(LoserAnalysis((10,19,48)).getHittingProb())"
   ]
  },
  {
   "cell_type": "code",
   "execution_count": 138,
   "id": "127727f9",
   "metadata": {},
   "outputs": [
    {
     "data": {
      "text/latex": [
       "$\\displaystyle \\frac{950553383076755268132533246053624329649285184939934203376429073564152908178436335497100154667637702431325741933131691718785671656646360904334135493465565423184052244850023949843811870957628570318753725148516487446898766065838688331307891249442817952284654738673214410277893782426223384701540290921143078273287839698880724012451250170055782308083321973435371340847387859216007087622235865621635526254865737138785549989322030076786350001898992641964455635156016746815055790554674016839323458165079333170826972886256951701261586481180710168736322560935541579312606018598919769976414734737645143600881893716186589372178139625701941}{1781977679341565653879062316696873843247756998327153671231986852314951843321344186924841398821286412440780156283494040411257870672756087847714973191810107678090640816925427041583849818284172847051194270083997461045987903072942017481701439871492911355207333740022872177751016695365822566718867384811607200215463380494510770187945490845928143445232732949053965144678241474218200604350499913285920102311013763668735307552502191738215421222671791493636879227034046036336360020502925722601791041490229759313482274629946592084872668350170704528032174220192057223423363966993152397799536216014235688392527706247314395749592323268734337}$"
      ],
      "text/plain": [
       "950553383076755268132533246053624329649285184939934203376429073564152908178436335497100154667637702431325741933131691718785671656646360904334135493465565423184052244850023949843811870957628570318753725148516487446898766065838688331307891249442817952284654738673214410277893782426223384701540290921143078273287839698880724012451250170055782308083321973435371340847387859216007087622235865621635526254865737138785549989322030076786350001898992641964455635156016746815055790554674016839323458165079333170826972886256951701261586481180710168736322560935541579312606018598919769976414734737645143600881893716186589372178139625701941/1781977679341565653879062316696873843247756998327153671231986852314951843321344186924841398821286412440780156283494040411257870672756087847714973191810107678090640816925427041583849818284172847051194270083997461045987903072942017481701439871492911355207333740022872177751016695365822566718867384811607200215463380494510770187945490845928143445232732949053965144678241474218200604350499913285920102311013763668735307552502191738215421222671791493636879227034046036336360020502925722601791041490229759313482274629946592084872668350170704528032174220192057223423363966993152397799536216014235688392527706247314395749592323268734337"
      ]
     },
     "execution_count": 138,
     "metadata": {},
     "output_type": "execute_result"
    }
   ],
   "source": [
    "h = LoserAnalysis((11,19,48)).getHittingProb()\n",
    "h"
   ]
  },
  {
   "cell_type": "code",
   "execution_count": 139,
   "id": "ed5cd6fe",
   "metadata": {},
   "outputs": [
    {
     "data": {
      "text/plain": [
       "0.5334260883828699"
      ]
     },
     "execution_count": 139,
     "metadata": {},
     "output_type": "execute_result"
    }
   ],
   "source": [
    "float(h)"
   ]
  },
  {
   "cell_type": "code",
   "execution_count": 140,
   "id": "c19694f1",
   "metadata": {},
   "outputs": [
    {
     "data": {
      "text/latex": [
       "$\\displaystyle \\frac{38492743734809286582678715452203696692933147767125738879540621332207702502732970890400223016051448875892586100852993726418650763076957124286298625107439663791442587476691837656483089496406332664980147751600835519080740408869771331955829554001467097539893736472089107670746944940138298692043311547964288456867952310747031559711923401123354938125594417587908704419279778529647788014939856406604466835751363395258837792563481835240047425888240422365737731475141308310010195428331691014545575071833918209701335581157942903009338781392941800}{72172631947716456332401265552558384762990498862468415037692251039970394490527477719805116480023925159873759379253036826664797405000819352675795582182050749468591950783638253168541197856184516316883369948927113568339288396113210508323149280922041533365800656183463791510602337698712744550618200803988027039385934659599614350993173800742307099844636040053240585977657765880581526329436732476037801651252617730262545489742380375971399081550847673330058413577601402151278154568795800853718034059456737704469164487164397452186695657348736787}$"
      ],
      "text/plain": [
       "38492743734809286582678715452203696692933147767125738879540621332207702502732970890400223016051448875892586100852993726418650763076957124286298625107439663791442587476691837656483089496406332664980147751600835519080740408869771331955829554001467097539893736472089107670746944940138298692043311547964288456867952310747031559711923401123354938125594417587908704419279778529647788014939856406604466835751363395258837792563481835240047425888240422365737731475141308310010195428331691014545575071833918209701335581157942903009338781392941800/72172631947716456332401265552558384762990498862468415037692251039970394490527477719805116480023925159873759379253036826664797405000819352675795582182050749468591950783638253168541197856184516316883369948927113568339288396113210508323149280922041533365800656183463791510602337698712744550618200803988027039385934659599614350993173800742307099844636040053240585977657765880581526329436732476037801651252617730262545489742380375971399081550847673330058413577601402151278154568795800853718034059456737704469164487164397452186695657348736787"
      ]
     },
     "execution_count": 140,
     "metadata": {},
     "output_type": "execute_result"
    }
   ],
   "source": [
    "h2 = LoserAnalysis((10,19,48)).getHittingProb()\n",
    "h2"
   ]
  },
  {
   "cell_type": "code",
   "execution_count": 141,
   "id": "6da4f432",
   "metadata": {},
   "outputs": [
    {
     "data": {
      "text/plain": [
       "0.5333426632230114"
      ]
     },
     "execution_count": 141,
     "metadata": {},
     "output_type": "execute_result"
    }
   ],
   "source": [
    "float(h2)"
   ]
  },
  {
   "cell_type": "code",
   "execution_count": 142,
   "id": "8ca362c8",
   "metadata": {},
   "outputs": [
    {
     "data": {
      "text/latex": [
       "$\\displaystyle \\frac{10457320374494287441880836001970282908620032976469531911408975892290949117689504882535889786351904294072195722583784218178}{18876452238200187824261617102073051229948694533449475966954447142694632255182022516875131466037956702183220323313480722689}$"
      ],
      "text/plain": [
       "10457320374494287441880836001970282908620032976469531911408975892290949117689504882535889786351904294072195722583784218178/18876452238200187824261617102073051229948694533449475966954447142694632255182022516875131466037956702183220323313480722689"
      ]
     },
     "execution_count": 142,
     "metadata": {},
     "output_type": "execute_result"
    }
   ],
   "source": [
    "h3 = LoserAnalysis((10,20,48)).getHittingProb()\n",
    "h3"
   ]
  },
  {
   "cell_type": "code",
   "execution_count": 143,
   "id": "fd536e2c",
   "metadata": {},
   "outputs": [
    {
     "data": {
      "text/plain": [
       "0.5539875948369078"
      ]
     },
     "execution_count": 143,
     "metadata": {},
     "output_type": "execute_result"
    }
   ],
   "source": [
    "float(h3)"
   ]
  },
  {
   "cell_type": "code",
   "execution_count": 145,
   "id": "c1707842",
   "metadata": {},
   "outputs": [],
   "source": [
    "d = {(11,19,48):h, (10,19,48):h2, (10,20,48):h3}\n",
    "d2 = {s:float(p) for s,p in d.items()}\n",
    "exportStateProbs('firstBetterGiving1.csv', d)\n",
    "exportStateProbs('firstBetterGiving1Approx.csv', d2)"
   ]
  },
  {
   "cell_type": "code",
   "execution_count": 152,
   "id": "dc89412d",
   "metadata": {},
   "outputs": [
    {
     "data": {
      "text/plain": [
       "0.52552"
      ]
     },
     "execution_count": 152,
     "metadata": {},
     "output_type": "execute_result"
    }
   ],
   "source": [
    "LoserAnalysis((7,100,100)).getHittingProbNumerical()"
   ]
  },
  {
   "cell_type": "markdown",
   "id": "6699bbec",
   "metadata": {},
   "source": [
    "## When is player 1 better off giving away $1 to another player?"
   ]
  },
  {
   "cell_type": "code",
   "execution_count": 75,
   "id": "8aa6e6de",
   "metadata": {},
   "outputs": [],
   "source": [
    "def findBetterGiving1ToOthers(minWealth, maxWealth):\n",
    "    \"\"\"\n",
    "    Identifies and returns a list of states such that h(x-1,y+1,z) < h(x,y,z).\n",
    "    `minWealth` and `maxWealth`: integer bounds on each player's amount of money.\n",
    "    \"\"\"\n",
    "    hittingProbs = multipleStateProbs(minWealth, maxWealth+1)\n",
    "    betterGiving1 = []\n",
    "    for x in range(minWealth+1, maxWealth+1):\n",
    "        for y in range (minWealth, maxWealth+1):\n",
    "            for z in range (minWealth, maxWealth+1):\n",
    "#                 print(float(hittingProbs[standardiseState((x-1,y+1,z))]))\n",
    "#                 print(float(hittingProbs[standardiseState((x,y,z))]), '\\n')\n",
    "                if hittingProbs[standardiseState((x-1,y+1,z))] < hittingProbs[standardiseState((x,y,z))]:\n",
    "                    betterGiving1.append((x,y,z))\n",
    "\n",
    "    return betterGiving1"
   ]
  },
  {
   "cell_type": "code",
   "execution_count": null,
   "id": "c47450be",
   "metadata": {},
   "outputs": [],
   "source": []
  },
  {
   "cell_type": "code",
   "execution_count": null,
   "id": "5e8d37f4",
   "metadata": {},
   "outputs": [],
   "source": [
    "betterGiving1ToOthersProbs = {}\n",
    "\n",
    "for (x,y,z) in betterGiving1ToOthers:\n",
    "    betterGiving1ToOthersProbs[(x-1,y,z+1)] = LoserAnalysis((x-1,y,z+1)).getHittingProb()\n",
    "    betterGiving1ToOthersProbs[(x,y,z)] = LoserAnalysis((x,y,z)).getHittingProb()\n",
    "\n",
    "betterGiving1ToOthersProbs"
   ]
  },
  {
   "cell_type": "code",
   "execution_count": null,
   "id": "f3f8ccf3",
   "metadata": {},
   "outputs": [],
   "source": [
    "exportStateProbs('betterGiving1ToOthers.csv', betterGiving1ToOthersProbs)"
   ]
  },
  {
   "cell_type": "code",
   "execution_count": null,
   "id": "dff064cc",
   "metadata": {},
   "outputs": [],
   "source": [
    "betterGiving1ToOthersProbsApprox = {}\n",
    "\n",
    "for (x,y,z) in betterGiving1ToOthers:\n",
    "    betterGiving1ToOthersProbsApprox[(x-1,y,z+1)] = float(LoserAnalysis((x-1,y,z+1)).getHittingProb())\n",
    "    betterGiving1ToOthersProbsApprox[(x,y,z)] = float(LoserAnalysis((x,y,z)).getHittingProb())\n",
    "\n",
    "exportStateProbs('betterGiving1ToOthersApprox.csv', betterGiving1ToOthersProbsApprox)"
   ]
  },
  {
   "cell_type": "markdown",
   "id": "eff586fa",
   "metadata": {},
   "source": [
    "# Plot x for fixed y & z"
   ]
  },
  {
   "cell_type": "code",
   "execution_count": 17,
   "id": "3383ea97",
   "metadata": {},
   "outputs": [],
   "source": [
    "# Custom exception for the timeout\n",
    "class TimeoutException(Exception):\n",
    "    pass\n",
    "\n",
    "# Handler function to be called when SIGALRM is received\n",
    "def sigalarmHandler(signum, frame):\n",
    "    # We get signal!\n",
    "    raise TimeoutException()"
   ]
  },
  {
   "cell_type": "code",
   "execution_count": 23,
   "id": "b55d6db6",
   "metadata": {},
   "outputs": [],
   "source": [
    "import matplotlib.pyplot as plt\n",
    "import signal\n",
    "TIME_LIM = 60  # seconds"
   ]
  },
  {
   "cell_type": "code",
   "execution_count": 24,
   "id": "d142d26a",
   "metadata": {},
   "outputs": [
    {
     "name": "stdout",
     "output_type": "stream",
     "text": [
      "maximum recursion depth exceeded for state (1, 100, 100)\n",
      "Took too long to find the hitting prob for state (2, 100, 100)\n",
      "Took too long to find the hitting prob for state (3, 100, 100)\n",
      "Took too long to find the hitting prob for state (4, 100, 100)\n",
      "Took too long to find the hitting prob for state (6, 100, 100)\n",
      "maximum recursion depth exceeded for state (7, 100, 100)\n",
      "Took too long to find the hitting prob for state (8, 100, 100)\n",
      "Took too long to find the hitting prob for state (9, 100, 100)\n",
      "Took too long to find the hitting prob for state (11, 100, 100)\n",
      "Took too long to find the hitting prob for state (12, 100, 100)\n",
      "Took too long to find the hitting prob for state (13, 100, 100)\n",
      "Took too long to find the hitting prob for state (14, 100, 100)\n",
      "Took too long to find the hitting prob for state (16, 100, 100)\n",
      "Took too long to find the hitting prob for state (17, 100, 100)\n",
      "Took too long to find the hitting prob for state (18, 100, 100)\n",
      "Took too long to find the hitting prob for state (19, 100, 100)\n",
      "Took too long to find the hitting prob for state (21, 100, 100)\n",
      "Took too long to find the hitting prob for state (22, 100, 100)\n",
      "Took too long to find the hitting prob for state (23, 100, 100)\n",
      "Took too long to find the hitting prob for state (24, 100, 100)\n",
      "Took too long to find the hitting prob for state (26, 100, 100)\n",
      "maximum recursion depth exceeded for state (27, 100, 100)\n",
      "Took too long to find the hitting prob for state (28, 100, 100)\n",
      "maximum recursion depth exceeded for state (29, 100, 100)\n",
      "Took too long to find the hitting prob for state (31, 100, 100)\n",
      "Took too long to find the hitting prob for state (32, 100, 100)\n",
      "maximum recursion depth exceeded for state (33, 100, 100)\n",
      "Took too long to find the hitting prob for state (34, 100, 100)\n",
      "Took too long to find the hitting prob for state (36, 100, 100)\n",
      "maximum recursion depth exceeded for state (37, 100, 100)\n",
      "Took too long to find the hitting prob for state (38, 100, 100)\n",
      "maximum recursion depth exceeded for state (39, 100, 100)\n",
      "maximum recursion depth exceeded for state (41, 100, 100)\n",
      "Took too long to find the hitting prob for state (42, 100, 100)\n",
      "maximum recursion depth exceeded for state (43, 100, 100)\n",
      "Took too long to find the hitting prob for state (44, 100, 100)\n",
      "Took too long to find the hitting prob for state (45, 100, 100)\n",
      "Took too long to find the hitting prob for state (46, 100, 100)\n",
      "maximum recursion depth exceeded for state (47, 100, 100)\n",
      "Took too long to find the hitting prob for state (48, 100, 100)\n",
      "maximum recursion depth exceeded for state (49, 100, 100)\n",
      "maximum recursion depth exceeded for state (51, 100, 100)\n",
      "Took too long to find the hitting prob for state (52, 100, 100)\n",
      "maximum recursion depth exceeded for state (53, 100, 100)\n",
      "Took too long to find the hitting prob for state (54, 100, 100)\n",
      "Took too long to find the hitting prob for state (55, 100, 100)\n",
      "Took too long to find the hitting prob for state (56, 100, 100)\n",
      "maximum recursion depth exceeded for state (57, 100, 100)\n",
      "Took too long to find the hitting prob for state (58, 100, 100)\n",
      "maximum recursion depth exceeded for state (59, 100, 100)\n",
      "maximum recursion depth exceeded for state (61, 100, 100)\n",
      "maximum recursion depth exceeded for state (62, 100, 100)\n",
      "maximum recursion depth exceeded for state (63, 100, 100)\n",
      "Took too long to find the hitting prob for state (64, 100, 100)\n",
      "Took too long to find the hitting prob for state (65, 100, 100)\n",
      "maximum recursion depth exceeded for state (66, 100, 100)\n",
      "maximum recursion depth exceeded for state (67, 100, 100)\n",
      "Took too long to find the hitting prob for state (68, 100, 100)\n",
      "maximum recursion depth exceeded for state (69, 100, 100)\n",
      "maximum recursion depth exceeded for state (71, 100, 100)\n",
      "Took too long to find the hitting prob for state (72, 100, 100)\n",
      "maximum recursion depth exceeded for state (73, 100, 100)\n",
      "maximum recursion depth exceeded for state (74, 100, 100)\n",
      "Took too long to find the hitting prob for state (76, 100, 100)\n",
      "maximum recursion depth exceeded for state (77, 100, 100)\n",
      "maximum recursion depth exceeded for state (78, 100, 100)\n",
      "maximum recursion depth exceeded for state (79, 100, 100)\n",
      "maximum recursion depth exceeded for state (81, 100, 100)\n",
      "maximum recursion depth exceeded for state (82, 100, 100)\n",
      "maximum recursion depth exceeded for state (83, 100, 100)\n",
      "Took too long to find the hitting prob for state (84, 100, 100)\n",
      "Took too long to find the hitting prob for state (85, 100, 100)\n",
      "maximum recursion depth exceeded for state (86, 100, 100)\n",
      "maximum recursion depth exceeded for state (87, 100, 100)\n",
      "Took too long to find the hitting prob for state (88, 100, 100)\n",
      "maximum recursion depth exceeded for state (89, 100, 100)\n",
      "maximum recursion depth exceeded for state (91, 100, 100)\n",
      "Took too long to find the hitting prob for state (92, 100, 100)\n",
      "maximum recursion depth exceeded for state (93, 100, 100)\n",
      "maximum recursion depth exceeded for state (94, 100, 100)\n",
      "Took too long to find the hitting prob for state (95, 100, 100)\n",
      "Took too long to find the hitting prob for state (96, 100, 100)\n",
      "maximum recursion depth exceeded for state (97, 100, 100)\n",
      "maximum recursion depth exceeded for state (98, 100, 100)\n",
      "maximum recursion depth exceeded for state (99, 100, 100)\n",
      "maximum recursion depth exceeded for state (101, 100, 100)\n",
      "maximum recursion depth exceeded for state (102, 100, 100)\n",
      "maximum recursion depth exceeded for state (103, 100, 100)\n",
      "Took too long to find the hitting prob for state (104, 100, 100)\n",
      "Took too long to find the hitting prob for state (105, 100, 100)\n",
      "maximum recursion depth exceeded for state (106, 100, 100)\n",
      "maximum recursion depth exceeded for state (107, 100, 100)\n",
      "Took too long to find the hitting prob for state (108, 100, 100)\n",
      "maximum recursion depth exceeded for state (109, 100, 100)\n",
      "maximum recursion depth exceeded for state (111, 100, 100)\n",
      "Took too long to find the hitting prob for state (112, 100, 100)\n",
      "maximum recursion depth exceeded for state (113, 100, 100)\n",
      "maximum recursion depth exceeded for state (114, 100, 100)\n",
      "Took too long to find the hitting prob for state (115, 100, 100)\n",
      "Took too long to find the hitting prob for state (116, 100, 100)\n",
      "maximum recursion depth exceeded for state (117, 100, 100)\n",
      "maximum recursion depth exceeded for state (118, 100, 100)\n",
      "maximum recursion depth exceeded for state (119, 100, 100)\n",
      "maximum recursion depth exceeded for state (121, 100, 100)\n",
      "maximum recursion depth exceeded for state (122, 100, 100)\n",
      "maximum recursion depth exceeded for state (123, 100, 100)\n",
      "Took too long to find the hitting prob for state (124, 100, 100)\n",
      "maximum recursion depth exceeded for state (126, 100, 100)\n",
      "maximum recursion depth exceeded for state (127, 100, 100)\n",
      "Took too long to find the hitting prob for state (128, 100, 100)\n",
      "maximum recursion depth exceeded for state (129, 100, 100)\n",
      "maximum recursion depth exceeded for state (131, 100, 100)\n",
      "Took too long to find the hitting prob for state (132, 100, 100)\n",
      "maximum recursion depth exceeded for state (133, 100, 100)\n",
      "maximum recursion depth exceeded for state (134, 100, 100)\n",
      "Took too long to find the hitting prob for state (135, 100, 100)\n",
      "Took too long to find the hitting prob for state (136, 100, 100)\n",
      "maximum recursion depth exceeded for state (137, 100, 100)\n",
      "maximum recursion depth exceeded for state (138, 100, 100)\n",
      "maximum recursion depth exceeded for state (139, 100, 100)\n",
      "maximum recursion depth exceeded for state (141, 100, 100)\n",
      "maximum recursion depth exceeded for state (142, 100, 100)\n",
      "maximum recursion depth exceeded for state (143, 100, 100)\n",
      "Took too long to find the hitting prob for state (144, 100, 100)\n",
      "Took too long to find the hitting prob for state (145, 100, 100)\n",
      "maximum recursion depth exceeded for state (146, 100, 100)\n",
      "maximum recursion depth exceeded for state (147, 100, 100)\n",
      "Took too long to find the hitting prob for state (148, 100, 100)\n",
      "maximum recursion depth exceeded for state (149, 100, 100)\n",
      "maximum recursion depth exceeded for state (151, 100, 100)\n",
      "Took too long to find the hitting prob for state (152, 100, 100)\n",
      "maximum recursion depth exceeded for state (153, 100, 100)\n",
      "Took too long to find the hitting prob for state (154, 100, 100)\n",
      "Took too long to find the hitting prob for state (155, 100, 100)\n",
      "Took too long to find the hitting prob for state (156, 100, 100)\n"
     ]
    },
    {
     "name": "stdout",
     "output_type": "stream",
     "text": [
      "maximum recursion depth exceeded for state (157, 100, 100)\n",
      "Took too long to find the hitting prob for state (158, 100, 100)\n",
      "maximum recursion depth exceeded for state (159, 100, 100)\n",
      "maximum recursion depth exceeded for state (161, 100, 100)\n",
      "Took too long to find the hitting prob for state (162, 100, 100)\n",
      "maximum recursion depth exceeded for state (163, 100, 100)\n",
      "Took too long to find the hitting prob for state (164, 100, 100)\n",
      "Took too long to find the hitting prob for state (165, 100, 100)\n",
      "Took too long to find the hitting prob for state (166, 100, 100)\n",
      "maximum recursion depth exceeded for state (167, 100, 100)\n",
      "Took too long to find the hitting prob for state (168, 100, 100)\n",
      "maximum recursion depth exceeded for state (169, 100, 100)\n",
      "maximum recursion depth exceeded for state (171, 100, 100)\n",
      "Took too long to find the hitting prob for state (172, 100, 100)\n",
      "maximum recursion depth exceeded for state (173, 100, 100)\n",
      "Took too long to find the hitting prob for state (174, 100, 100)\n",
      "Took too long to find the hitting prob for state (176, 100, 100)\n",
      "maximum recursion depth exceeded for state (177, 100, 100)\n",
      "Took too long to find the hitting prob for state (178, 100, 100)\n",
      "maximum recursion depth exceeded for state (179, 100, 100)\n",
      "maximum recursion depth exceeded for state (181, 100, 100)\n",
      "Took too long to find the hitting prob for state (182, 100, 100)\n",
      "maximum recursion depth exceeded for state (183, 100, 100)\n",
      "Took too long to find the hitting prob for state (184, 100, 100)\n",
      "Took too long to find the hitting prob for state (185, 100, 100)\n",
      "Took too long to find the hitting prob for state (186, 100, 100)\n",
      "maximum recursion depth exceeded for state (187, 100, 100)\n",
      "Took too long to find the hitting prob for state (188, 100, 100)\n",
      "maximum recursion depth exceeded for state (189, 100, 100)\n",
      "maximum recursion depth exceeded for state (191, 100, 100)\n",
      "Took too long to find the hitting prob for state (192, 100, 100)\n",
      "maximum recursion depth exceeded for state (193, 100, 100)\n",
      "Took too long to find the hitting prob for state (194, 100, 100)\n",
      "Took too long to find the hitting prob for state (195, 100, 100)\n",
      "Took too long to find the hitting prob for state (196, 100, 100)\n",
      "maximum recursion depth exceeded for state (197, 100, 100)\n",
      "Took too long to find the hitting prob for state (198, 100, 100)\n",
      "maximum recursion depth exceeded for state (199, 100, 100)\n",
      "maximum recursion depth exceeded for state (201, 100, 100)\n",
      "Took too long to find the hitting prob for state (202, 100, 100)\n",
      "maximum recursion depth exceeded for state (203, 100, 100)\n",
      "Took too long to find the hitting prob for state (204, 100, 100)\n",
      "Took too long to find the hitting prob for state (205, 100, 100)\n",
      "Took too long to find the hitting prob for state (206, 100, 100)\n",
      "maximum recursion depth exceeded for state (207, 100, 100)\n",
      "Took too long to find the hitting prob for state (208, 100, 100)\n",
      "maximum recursion depth exceeded for state (209, 100, 100)\n",
      "maximum recursion depth exceeded for state (211, 100, 100)\n",
      "Took too long to find the hitting prob for state (212, 100, 100)\n",
      "maximum recursion depth exceeded for state (213, 100, 100)\n",
      "Took too long to find the hitting prob for state (214, 100, 100)\n",
      "Took too long to find the hitting prob for state (215, 100, 100)\n",
      "Took too long to find the hitting prob for state (216, 100, 100)\n",
      "maximum recursion depth exceeded for state (217, 100, 100)\n",
      "Took too long to find the hitting prob for state (218, 100, 100)\n",
      "maximum recursion depth exceeded for state (219, 100, 100)\n",
      "maximum recursion depth exceeded for state (221, 100, 100)\n",
      "Took too long to find the hitting prob for state (222, 100, 100)\n",
      "maximum recursion depth exceeded for state (223, 100, 100)\n",
      "Took too long to find the hitting prob for state (224, 100, 100)\n",
      "Took too long to find the hitting prob for state (226, 100, 100)\n",
      "maximum recursion depth exceeded for state (227, 100, 100)\n",
      "Took too long to find the hitting prob for state (228, 100, 100)\n",
      "maximum recursion depth exceeded for state (229, 100, 100)\n",
      "maximum recursion depth exceeded for state (231, 100, 100)\n",
      "Took too long to find the hitting prob for state (232, 100, 100)\n",
      "maximum recursion depth exceeded for state (233, 100, 100)\n",
      "Took too long to find the hitting prob for state (234, 100, 100)\n",
      "Took too long to find the hitting prob for state (235, 100, 100)\n",
      "Took too long to find the hitting prob for state (236, 100, 100)\n",
      "maximum recursion depth exceeded for state (237, 100, 100)\n",
      "Took too long to find the hitting prob for state (238, 100, 100)\n",
      "maximum recursion depth exceeded for state (239, 100, 100)\n",
      "maximum recursion depth exceeded for state (241, 100, 100)\n",
      "Took too long to find the hitting prob for state (242, 100, 100)\n",
      "maximum recursion depth exceeded for state (243, 100, 100)\n",
      "Took too long to find the hitting prob for state (244, 100, 100)\n",
      "Took too long to find the hitting prob for state (245, 100, 100)\n",
      "Took too long to find the hitting prob for state (246, 100, 100)\n",
      "maximum recursion depth exceeded for state (247, 100, 100)\n",
      "maximum recursion depth exceeded for state (248, 100, 100)\n",
      "maximum recursion depth exceeded for state (249, 100, 100)\n",
      "maximum recursion depth exceeded for state (251, 100, 100)\n",
      "Took too long to find the hitting prob for state (252, 100, 100)\n",
      "maximum recursion depth exceeded for state (253, 100, 100)\n",
      "maximum recursion depth exceeded for state (254, 100, 100)\n",
      "Took too long to find the hitting prob for state (255, 100, 100)\n",
      "Took too long to find the hitting prob for state (256, 100, 100)\n",
      "maximum recursion depth exceeded for state (257, 100, 100)\n",
      "maximum recursion depth exceeded for state (258, 100, 100)\n",
      "maximum recursion depth exceeded for state (259, 100, 100)\n",
      "maximum recursion depth exceeded for state (261, 100, 100)\n",
      "Took too long to find the hitting prob for state (262, 100, 100)\n",
      "maximum recursion depth exceeded for state (263, 100, 100)\n",
      "maximum recursion depth exceeded for state (264, 100, 100)\n",
      "Took too long to find the hitting prob for state (265, 100, 100)\n",
      "maximum recursion depth exceeded for state (266, 100, 100)\n",
      "maximum recursion depth exceeded for state (267, 100, 100)\n",
      "Took too long to find the hitting prob for state (268, 100, 100)\n",
      "maximum recursion depth exceeded for state (269, 100, 100)\n",
      "maximum recursion depth exceeded for state (271, 100, 100)\n",
      "maximum recursion depth exceeded for state (272, 100, 100)\n",
      "maximum recursion depth exceeded for state (273, 100, 100)\n",
      "Took too long to find the hitting prob for state (274, 100, 100)\n",
      "Took too long to find the hitting prob for state (276, 100, 100)\n",
      "maximum recursion depth exceeded for state (277, 100, 100)\n",
      "maximum recursion depth exceeded for state (278, 100, 100)\n",
      "maximum recursion depth exceeded for state (279, 100, 100)\n",
      "maximum recursion depth exceeded for state (281, 100, 100)\n",
      "maximum recursion depth exceeded for state (282, 100, 100)\n",
      "maximum recursion depth exceeded for state (283, 100, 100)\n",
      "Took too long to find the hitting prob for state (284, 100, 100)\n",
      "Took too long to find the hitting prob for state (285, 100, 100)\n",
      "maximum recursion depth exceeded for state (286, 100, 100)\n",
      "maximum recursion depth exceeded for state (287, 100, 100)\n",
      "maximum recursion depth exceeded for state (288, 100, 100)\n",
      "maximum recursion depth exceeded for state (289, 100, 100)\n",
      "Took too long to find the hitting prob for state (290, 100, 100)\n",
      "maximum recursion depth exceeded for state (291, 100, 100)\n",
      "Took too long to find the hitting prob for state (292, 100, 100)\n",
      "maximum recursion depth exceeded for state (293, 100, 100)\n",
      "maximum recursion depth exceeded for state (294, 100, 100)\n",
      "Took too long to find the hitting prob for state (295, 100, 100)\n",
      "maximum recursion depth exceeded for state (296, 100, 100)\n",
      "maximum recursion depth exceeded for state (297, 100, 100)\n",
      "maximum recursion depth exceeded for state (298, 100, 100)\n",
      "maximum recursion depth exceeded for state (299, 100, 100)\n"
     ]
    }
   ],
   "source": [
    "y = 100\n",
    "z = 100\n",
    "xs = range(1,301)\n",
    "probs = {}\n",
    "\n",
    "for x in xs:\n",
    "    state = (x,y,z)\n",
    "    # Set up signal handler for SIGALRM, saving previous value\n",
    "    oldHandler = signal.signal(signal.SIGALRM, sigalarmHandler)\n",
    "    # Start timer\n",
    "    signal.alarm(TIME_LIM)\n",
    "    try:\n",
    "        probs[state] = LoserAnalysis(state).getHittingProb()\n",
    "    except TimeoutException:\n",
    "        print(f'Took too long to find the hitting prob for state {state}')\n",
    "    except RecursionError:\n",
    "        print(f'maximum recursion depth exceeded for state {state}')\n",
    "    finally:\n",
    "        # Turn off timer\n",
    "        signal.alarm(0)\n",
    "        # Restore handler to previous value\n",
    "        signal.signal(signal.SIGALRM, oldHandler)"
   ]
  },
  {
   "cell_type": "code",
   "execution_count": 35,
   "id": "1351fee3",
   "metadata": {},
   "outputs": [],
   "source": [
    "# use numerical approximation for the unrecorded states\n",
    "missedStates = [(x,y,z) for x in xs if (x,y,z) not in probs]\n",
    "for state in missedStates:\n",
    "    probs[state] = LoserAnalysis(state).getHittingProbNumerical()"
   ]
  },
  {
   "cell_type": "code",
   "execution_count": 42,
   "id": "e08a4244",
   "metadata": {},
   "outputs": [
    {
     "data": {
      "image/png": "[encoded data removed]",
      "text/plain": [
       "<Figure size 640x480 with 1 Axes>"
      ]
     },
     "metadata": {},
     "output_type": "display_data"
    }
   ],
   "source": [
    "# plot x (1-300) for fixed y & z (100)\n",
    "probs = dict(sorted(probs.items()))\n",
    "plt.plot(xs, probs.values())\n",
    "plt.show()"
   ]
  },
  {
   "cell_type": "code",
   "execution_count": null,
   "id": "a4014486",
   "metadata": {},
   "outputs": [],
   "source": []
  }
 ],
 "metadata": {
  "kernelspec": {
   "display_name": "Python 3 (ipykernel)",
   "language": "python",
   "name": "python3"
  },
  "language_info": {
   "codemirror_mode": {
    "name": "ipython",
    "version": 3
   },
   "file_extension": ".py",
   "mimetype": "text/x-python",
   "name": "python",
   "nbconvert_exporter": "python",
   "pygments_lexer": "ipython3",
   "version": "3.9.18"
  }
 },
 "nbformat": 4,
 "nbformat_minor": 5
}
