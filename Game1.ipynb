{
 "cells": [
  {
   "cell_type": "code",
   "execution_count": 6,
   "id": "a72d9c9d",
   "metadata": {},
   "outputs": [],
   "source": [
    "%run LoserAnalysis.ipynb"
   ]
  },
  {
   "cell_type": "code",
   "execution_count": null,
   "id": "7a4ed7f5",
   "metadata": {},
   "outputs": [],
   "source": [
    "probs = getTargetProbsForStates(11,15)\n",
    "exportStateProbs('Game1_Player1LoseProbs_1to100.csv', probs, append=True, header=False)\n",
    "exportStateProbs('Game2_Player1LoseProbs_1to100_float.csv', {s:float(p) for s,p in probs.items()}, append=True, header=False)"
   ]
  },
  {
   "cell_type": "code",
   "execution_count": null,
   "id": "df16d79d",
   "metadata": {},
   "outputs": [],
   "source": []
  }
 ],
 "metadata": {
  "kernelspec": {
   "display_name": "Python 3 (ipykernel)",
   "language": "python",
   "name": "python3"
  },
  "language_info": {
   "codemirror_mode": {
    "name": "ipython",
    "version": 3
   },
   "file_extension": ".py",
   "mimetype": "text/x-python",
   "name": "python",
   "nbconvert_exporter": "python",
   "pygments_lexer": "ipython3",
   "version": "3.9.18"
  }
 },
 "nbformat": 4,
 "nbformat_minor": 5
}
