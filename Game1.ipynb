{
 "cells": [
  {
   "cell_type": "code",
   "execution_count": 15,
   "id": "a2f5e01c",
   "metadata": {},
   "outputs": [],
   "source": [
    "%run LoserAnalysis.ipynb"
   ]
  },
  {
   "cell_type": "code",
   "execution_count": null,
   "id": "5a3dc91a",
   "metadata": {},
   "outputs": [
    {
     "name": "stdout",
     "output_type": "stream",
     "text": [
      "Took too long to find the hitting prob for state (16, 16, 17)\n",
      "Took too long to find the hitting prob for state (16, 16, 19)\n",
      "Took too long to find the hitting prob for state (16, 16, 21)\n",
      "Took too long to find the hitting prob for state (16, 16, 23)\n",
      "Took too long to find the hitting prob for state (16, 16, 25)\n",
      "Took too long to find the hitting prob for state (16, 16, 27)\n",
      "Took too long to find the hitting prob for state (16, 16, 29)\n",
      "Took too long to find the hitting prob for state (16, 16, 31)\n",
      "Took too long to find the hitting prob for state (16, 16, 33)\n",
      "Took too long to find the hitting prob for state (16, 16, 35)\n",
      "Took too long to find the hitting prob for state (16, 16, 37)\n",
      "Took too long to find the hitting prob for state (16, 16, 39)\n",
      "Took too long to find the hitting prob for state (16, 16, 41)\n",
      "Took too long to find the hitting prob for state (16, 16, 43)\n",
      "Took too long to find the hitting prob for state (16, 16, 45)\n",
      "Took too long to find the hitting prob for state (16, 16, 47)\n",
      "Took too long to find the hitting prob for state (16, 16, 49)\n",
      "Took too long to find the hitting prob for state (16, 16, 50)\n",
      "Took too long to find the hitting prob for state (16, 17, 16)\n",
      "Took too long to find the hitting prob for state (16, 17, 17)\n",
      "Took too long to find the hitting prob for state (16, 17, 18)\n",
      "Took too long to find the hitting prob for state (16, 17, 19)\n",
      "Took too long to find the hitting prob for state (16, 17, 20)\n",
      "Took too long to find the hitting prob for state (16, 17, 21)\n",
      "Took too long to find the hitting prob for state (16, 17, 22)\n",
      "Took too long to find the hitting prob for state (16, 17, 23)\n",
      "Took too long to find the hitting prob for state (16, 17, 24)\n",
      "Took too long to find the hitting prob for state (16, 17, 25)\n",
      "Took too long to find the hitting prob for state (16, 17, 26)\n",
      "Took too long to find the hitting prob for state (16, 17, 27)\n",
      "Took too long to find the hitting prob for state (16, 17, 28)\n",
      "Took too long to find the hitting prob for state (16, 17, 29)\n",
      "Took too long to find the hitting prob for state (16, 17, 30)\n"
     ]
    }
   ],
   "source": [
    "writeProbsInRange(16,50, 'Game1_Player1LoseProbs_1to100.csv', 'Game2_Player1LoseProbs_1to100_float.csv')"
   ]
  },
  {
   "cell_type": "code",
   "execution_count": null,
   "id": "d22fdca9",
   "metadata": {},
   "outputs": [],
   "source": []
  }
 ],
 "metadata": {
  "kernelspec": {
   "display_name": "Python 3 (ipykernel)",
   "language": "python",
   "name": "python3"
  },
  "language_info": {
   "codemirror_mode": {
    "name": "ipython",
    "version": 3
   },
   "file_extension": ".py",
   "mimetype": "text/x-python",
   "name": "python",
   "nbconvert_exporter": "python",
   "pygments_lexer": "ipython3",
   "version": "3.9.18"
  }
 },
 "nbformat": 4,
 "nbformat_minor": 5
}
