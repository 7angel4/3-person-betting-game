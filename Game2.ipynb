{
 "cells": [
  {
   "cell_type": "code",
   "execution_count": 78,
   "id": "3fbb05d8",
   "metadata": {},
   "outputs": [],
   "source": [
    "%run LoserAnalysis.ipynb"
   ]
  },
  {
   "cell_type": "code",
   "execution_count": 79,
   "id": "4aa5c352",
   "metadata": {},
   "outputs": [],
   "source": [
    "OUTCOME_PROB = Fraction(1, NUM_PLAYERS)  # 1/3 because only choosing the receiver this time"
   ]
  },
  {
   "cell_type": "markdown",
   "id": "d6513f7d",
   "metadata": {},
   "source": [
    "# Modified game"
   ]
  },
  {
   "cell_type": "code",
   "execution_count": 80,
   "id": "8f215bbd",
   "metadata": {},
   "outputs": [],
   "source": [
    "def applyMove(initState, r):\n",
    "    \"\"\"\n",
    "    Applies the given move to the initial state:\n",
    "    - initState: an integer triple representing the initial wealth of each player\n",
    "    - r: an integer representing the player that is the receiver\n",
    "    Returns the resulting wealth of the players as a triple.\n",
    "    \"\"\"\n",
    "    initWealth = list(initState)\n",
    "    transferAmt = min(initState)  # minimum of all players' wealth\n",
    "    rWealth = initWealth[r-1] + transferAmt * (len(initWealth)-1)\n",
    "    newWealth = [w - transferAmt for w in initWealth]\n",
    "    newWealth[r-1] = rWealth\n",
    "    \n",
    "    return tuple(newWealth)\n",
    "\n",
    "def getChildStates(initState):\n",
    "    \"\"\"\n",
    "    Applies all possible moves to the initial state.\n",
    "    Returns the child states.\n",
    "    \"\"\"\n",
    "    return [applyMove(initState, r) for r in range(1, NUM_PLAYERS+1)]"
   ]
  },
  {
   "cell_type": "code",
   "execution_count": 81,
   "id": "a736bb70",
   "metadata": {},
   "outputs": [],
   "source": [
    "import random\n",
    "random.seed(7)"
   ]
  },
  {
   "cell_type": "code",
   "execution_count": 82,
   "id": "f2644748",
   "metadata": {},
   "outputs": [],
   "source": [
    "def alreadyHit(state):\n",
    "    \"\"\"\n",
    "    Returns true if the given state reaches the state of Player 1 being the loser wp1, false otherwise.\n",
    "    \"\"\"\n",
    "    if state[LOSER_IDX] > 0:\n",
    "        return False # 0\n",
    "    \n",
    "    # player 1 reached 0\n",
    "    numZeros = len([i for i in state if i == 0])\n",
    "    if numZeros > 1: # two players reached 0 at the same time\n",
    "        #loser = random.randint(0, 1)\n",
    "        return Fraction(1,2)\n",
    "    else:  # only player 1 lost\n",
    "        return True  # 1"
   ]
  },
  {
   "cell_type": "markdown",
   "id": "6f498af5",
   "metadata": {},
   "source": [
    "## Example"
   ]
  },
  {
   "cell_type": "code",
   "execution_count": 84,
   "id": "a7dfb9b6",
   "metadata": {},
   "outputs": [
    {
     "data": {
      "text/latex": [
       "$\\displaystyle \\frac{973}{1458}$"
      ],
      "text/plain": [
       "973/1458"
      ]
     },
     "execution_count": 84,
     "metadata": {},
     "output_type": "execute_result"
    }
   ],
   "source": [
    "# logic changed in the helper functions\n",
    "# main logic unchanged in Loser Analysis\n",
    "LoserAnalysis((5,7,8)).getHittingProb()"
   ]
  },
  {
   "cell_type": "code",
   "execution_count": 85,
   "id": "75b7d3ab",
   "metadata": {},
   "outputs": [],
   "source": [
    "probs = getTargetProbsForStates(1,10)\n",
    "exportStateProbs('Game2_Player1LoseProbs_1to100.csv', probs)\n",
    "exportStateProbs('Game2_Player1LoseProbs_1to100_float.csv', {s:float(p) for s,p in probs.items()})"
   ]
  },
  {
   "cell_type": "code",
   "execution_count": 86,
   "id": "4971536a",
   "metadata": {},
   "outputs": [],
   "source": [
    "# generated in seconds for 1-10 !!\n",
    "probs = getTargetProbsForStates(11,15)\n",
    "exportStateProbs('Game2_Player1LoseProbs_1to100.csv', probs, append=True, header=False)\n",
    "exportStateProbs('Game2_Player1LoseProbs_1to100_float.csv', {s:float(p) for s,p in probs.items()}, append=True, header=False)"
   ]
  },
  {
   "cell_type": "code",
   "execution_count": null,
   "id": "03665401",
   "metadata": {},
   "outputs": [],
   "source": []
  },
  {
   "cell_type": "code",
   "execution_count": null,
   "id": "3d536818",
   "metadata": {},
   "outputs": [],
   "source": []
  }
 ],
 "metadata": {
  "kernelspec": {
   "display_name": "Python 3 (ipykernel)",
   "language": "python",
   "name": "python3"
  },
  "language_info": {
   "codemirror_mode": {
    "name": "ipython",
    "version": 3
   },
   "file_extension": ".py",
   "mimetype": "text/x-python",
   "name": "python",
   "nbconvert_exporter": "python",
   "pygments_lexer": "ipython3",
   "version": "3.9.18"
  }
 },
 "nbformat": 4,
 "nbformat_minor": 5
}
