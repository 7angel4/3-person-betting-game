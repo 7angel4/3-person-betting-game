{
 "cells": [
  {
   "cell_type": "code",
   "execution_count": 33,
   "id": "03f0499b",
   "metadata": {},
   "outputs": [],
   "source": [
    "%run LoserAnalysis.ipynb"
   ]
  },
  {
   "cell_type": "code",
   "execution_count": 34,
   "id": "9ccdaff0",
   "metadata": {},
   "outputs": [],
   "source": [
    "EXACT_PROBS_FILE = 'exactHittingProbs.csv'\n",
    "APPROX_PROBS_FILE = 'approxHittingProbs.csv'\n",
    "TIME_LIM = 10  # in seconds"
   ]
  },
  {
   "cell_type": "code",
   "execution_count": 35,
   "id": "b67dbb08",
   "metadata": {},
   "outputs": [],
   "source": [
    "from itertools import product\n",
    "import signal\n",
    "from time import sleep  # only needed for testing"
   ]
  },
  {
   "cell_type": "code",
   "execution_count": 29,
   "id": "41a9547f",
   "metadata": {},
   "outputs": [],
   "source": [
    "# Custom exception for the timeout\n",
    "class TimeoutException(Exception):\n",
    "    pass\n",
    "\n",
    "# Handler function to be called when SIGALRM is received\n",
    "def sigalarmHandler(signum, frame):\n",
    "    # We get signal!\n",
    "    raise TimeoutException()"
   ]
  },
  {
   "cell_type": "code",
   "execution_count": 30,
   "id": "4f4266d8",
   "metadata": {},
   "outputs": [
    {
     "data": {
      "text/plain": [
       "35"
      ]
     },
     "execution_count": 30,
     "metadata": {},
     "output_type": "execute_result"
    }
   ],
   "source": [
    "# Write the header\n",
    "fp = open(EXACT_PROBS_FILE, 'w')\n",
    "writer = csv.writer(fp)\n",
    "writer.writerow(['Initial state', 'P(Loser = Player 1)'])\n",
    "\n",
    "fp = open(APPROX_PROBS_FILE, 'w')\n",
    "writer = csv.writer(fp)\n",
    "writer.writerow(['Initial state', 'P(Loser = Player 1)'])"
   ]
  },
  {
   "cell_type": "code",
   "execution_count": 36,
   "id": "33dba68c",
   "metadata": {},
   "outputs": [],
   "source": [
    "# Explores the probabilities within the given range\n",
    "def writeProbsInRange(minWealth, maxWealth):\n",
    "    allStates = product(range(minWealth, maxWealth+1), repeat=NUM_PLAYERS)\n",
    "    \n",
    "    for state in allStates:\n",
    "        # Set up signal handler for SIGALRM, saving previous value\n",
    "        oldHandler = signal.signal(signal.SIGALRM, sigalarmHandler)\n",
    "        # Start timer\n",
    "        signal.alarm(TIME_LIM)\n",
    "        try:\n",
    "            exactProb = LoserAnalysis(state).getHittingProb()\n",
    "            approxProb = float(LoserAnalysis(state).getHittingProb())\n",
    "            exportStateProbs(EXACT_PROBS_FILE, {state:exactProb}, append=True, header=False)\n",
    "            exportStateProbs(APPROX_PROBS_FILE, {state:approxProb}, append=True, header=False)\n",
    "        except TimeoutException:\n",
    "            print(f'Took too long to find the hitting prob for state {state}')\n",
    "        finally:\n",
    "            # Turn off timer\n",
    "            signal.alarm(0)\n",
    "            # Restore handler to previous value\n",
    "            signal.signal(signal.SIGALRM, oldHandler)"
   ]
  },
  {
   "cell_type": "code",
   "execution_count": null,
   "id": "cd1a3440",
   "metadata": {},
   "outputs": [],
   "source": [
    "writeProbsInRange(1,50)"
   ]
  },
  {
   "cell_type": "code",
   "execution_count": null,
   "id": "4353a782",
   "metadata": {},
   "outputs": [],
   "source": []
  }
 ],
 "metadata": {
  "kernelspec": {
   "display_name": "Python 3 (ipykernel)",
   "language": "python",
   "name": "python3"
  },
  "language_info": {
   "codemirror_mode": {
    "name": "ipython",
    "version": 3
   },
   "file_extension": ".py",
   "mimetype": "text/x-python",
   "name": "python",
   "nbconvert_exporter": "python",
   "pygments_lexer": "ipython3",
   "version": "3.9.18"
  }
 },
 "nbformat": 4,
 "nbformat_minor": 5
}
