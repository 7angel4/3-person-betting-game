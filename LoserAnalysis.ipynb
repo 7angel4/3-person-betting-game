{
 "cells": [
  {
   "cell_type": "code",
   "execution_count": 1,
   "id": "ff20c38e",
   "metadata": {},
   "outputs": [],
   "source": [
    "import numpy as np\n",
    "import pandas as pd\n",
    "from fractions import Fraction"
   ]
  },
  {
   "cell_type": "code",
   "execution_count": 2,
   "id": "64b8137a",
   "metadata": {},
   "outputs": [],
   "source": [
    "NUM_PLAYERS = 3\n",
    "PLAYERS = list(range(1, NUM_PLAYERS+1))\n",
    "# all possible (giver, receiver) pairs\n",
    "OUTCOME_PROB = Fraction(1, NUM_PLAYERS * (NUM_PLAYERS-1))  # 1/6\n",
    "CANDIDATE_MOVES = [(g, r) for idx, g in enumerate(PLAYERS) for r in PLAYERS if g != r]\n",
    "LOSER_IDX = 0"
   ]
  },
  {
   "cell_type": "markdown",
   "id": "199f93bc",
   "metadata": {},
   "source": [
    "# Helper functions"
   ]
  },
  {
   "cell_type": "markdown",
   "id": "924a57ab",
   "metadata": {},
   "source": [
    "## Functional"
   ]
  },
  {
   "cell_type": "code",
   "execution_count": 3,
   "id": "46ca4a51",
   "metadata": {},
   "outputs": [],
   "source": [
    "def applyMove(initState, move):\n",
    "    \"\"\"\n",
    "    Applies the given move to the initial state:\n",
    "    - initState: an integer triple representing the initial wealth of each player\n",
    "    - move: a (giver, receiver) pair\n",
    "    Returns the resulting wealth of the players as a triple.\n",
    "    \"\"\"\n",
    "    g, r = move\n",
    "    initWealth = list(initState)\n",
    "    transferAmt = min(initWealth[g-1], initWealth[r-1])  # 0-indexed\n",
    "    initWealth[g-1] -= transferAmt  # give\n",
    "    initWealth[r-1] += transferAmt  # receive\n",
    "    return tuple(initWealth)\n",
    "\n",
    "\n",
    "def getChildStates(initState):\n",
    "    \"\"\"\n",
    "    Applies all possible moves to the initial state.\n",
    "    Returns the child states.\n",
    "    \"\"\"\n",
    "    return [applyMove(initState, move) for move in CANDIDATE_MOVES]\n",
    "\n",
    "def getCoef(initState):\n",
    "    \"\"\"\n",
    "    Returns a pair consisting of:\n",
    "    - a dictionary of (state:coefficient) pairs, representing the coefficient of the hitting probability \n",
    "      for each state in the first-step analysis, starting from the given initial state\n",
    "    - a rational number representing the constant in the equation.\n",
    "    \"\"\"\n",
    "    # assign all states the individual outcome probability\n",
    "    childStates = getChildStates(initState)\n",
    "    stateCoefs = {s:OUTCOME_PROB for s in childStates}\n",
    "    const = 0\n",
    "    \n",
    "    # apply any possible simplifications to the states\n",
    "    copy = stateCoefs.copy()\n",
    "    for state in copy:\n",
    "        # prune the 0 hitting prob states\n",
    "        if zeroHittingProb(state):\n",
    "            stateCoefs.pop(state)\n",
    "        # convert the hitting prob 1 states to constants\n",
    "        elif alreadyHit(state):\n",
    "            const += stateCoefs[state]\n",
    "            stateCoefs.pop(state)\n",
    "        # optimsation 1: convert equal wealth states to constants\n",
    "        elif equalWealth(state):\n",
    "            const += stateCoefs[state] / NUM_PLAYERS\n",
    "            stateCoefs.pop(state)\n",
    "    \n",
    "    # optimization 2: combine symmetrical states\n",
    "    copy = list(stateCoefs.copy().keys())\n",
    "    n = len(copy)\n",
    "    for i in range(n):\n",
    "        for j in range(i+1, n):\n",
    "            s1, s2 = copy[i], copy[j]\n",
    "            if (symmetricalStates(s1, s2)):\n",
    "                combinedProb = stateCoefs.pop(s1) + stateCoefs.pop(s2)\n",
    "                stateCoefs[standardiseState(s1)] = combinedProb\n",
    "    \n",
    "    return standardiseStates(stateCoefs), const\n",
    "\n",
    "def zeroHittingProb(state):\n",
    "    \"\"\"\n",
    "    Returns true if the given state cannot reach the state of Player 1 being the loser, false otherwise.\n",
    "    \"\"\"\n",
    "    return (0 in state) and (state[LOSER_IDX] > 0)\n",
    "\n",
    "def alreadyHit(state):\n",
    "    \"\"\"\n",
    "    Returns true if the given state reaches the state of Player 1 being the loser wp1, false otherwise.\n",
    "    \"\"\"\n",
    "    return state[LOSER_IDX] == 0\n",
    "\n",
    "def symmetricalStates(s1, s2):\n",
    "    \"\"\"\n",
    "    Returns true if the two states are symmetrical (undistinguished apart from the loser), false otherwise.\n",
    "    \"\"\"\n",
    "    return s1[LOSER_IDX] == s2[LOSER_IDX] and set(s1[LOSER_IDX+1:]) == set(s2[LOSER_IDX+1:])\n",
    "    \n",
    "def equalWealth(s):\n",
    "    \"\"\"\n",
    "    Returns true if all players have the same wealth in the current state (an integer triple), \n",
    "    false otherwise.\n",
    "    \"\"\"\n",
    "    return all(amt == s[0] for amt in s)"
   ]
  },
  {
   "cell_type": "markdown",
   "id": "5911ef7c",
   "metadata": {},
   "source": [
    "## Formatting / Representational"
   ]
  },
  {
   "cell_type": "code",
   "execution_count": 4,
   "id": "bdbe10de",
   "metadata": {},
   "outputs": [],
   "source": [
    "from sympy import *\n",
    "from sympy import nsolve\n",
    "from sympy.solvers import solve\n",
    "from ast import literal_eval as make_tuple  # for parsing state as a tuple"
   ]
  },
  {
   "cell_type": "code",
   "execution_count": 5,
   "id": "fa64cf1f",
   "metadata": {},
   "outputs": [],
   "source": [
    "def standardiseState(s):\n",
    "    \"\"\"\n",
    "    Returns the standardised form of the state (a triple).\n",
    "    The convention is to keep the smaller value of the undistinguished players at the front.\n",
    "    \"\"\"\n",
    "    return (s[LOSER_IDX],) + tuple(sorted(s[LOSER_IDX+1:]))\n",
    "\n",
    "def standardiseStates(stateCoefs):\n",
    "    \"\"\"\n",
    "    Standardises all states (keys) in the dictionary of (state:coefficient) pairs.\n",
    "    Returns the standardised form of the dictionary.\n",
    "    \"\"\"\n",
    "    return {standardiseState(s):p for s, p in stateCoefs.items()}\n",
    "\n",
    "def getEquation(initState, stateCoefs, const):\n",
    "    \"\"\"\n",
    "    Converts the dictionary of state:coefficient pairs and constant\n",
    "    into an equality of the form: h(initState) = coefs * h(states) + const\n",
    "    \"\"\"\n",
    "    # equation will be in the form of human readable equalities (like how we normally write down)\n",
    "    symbols = [stateToSymbol(s) for s in stateCoefs]\n",
    "    eqn = Eq(stateToSymbol(initState), getExpr(stateCoefs, const))\n",
    "    return eqn, symbols\n",
    "    \n",
    "def stateToSymbol(state):\n",
    "    \"\"\"\n",
    "    Converts the state (triple) to a Symbol object.\n",
    "    \"\"\"\n",
    "    return Symbol(f'h{state}')\n",
    "\n",
    "def symbolToState(symbol):\n",
    "    \"\"\"\n",
    "    Converts the Symbol object to a state (triple).\n",
    "    \"\"\"\n",
    "    return make_tuple(str(symbol)[1:])\n",
    "\n",
    "def getExpr(stateCoefs, const):\n",
    "    \"\"\"\n",
    "    Converts the dictionary of state:coefficient pairs and constant\n",
    "    into an expression.\n",
    "    \"\"\"\n",
    "    expr = const\n",
    "    for s in stateCoefs:\n",
    "        expr = Add(expr, stateCoefs[s] * stateToSymbol(s))\n",
    "    return expr\n",
    "\n",
    "def formatEquation(eqn):\n",
    "    \"\"\"\n",
    "    Returns the formatted string for the equation.\n",
    "    \"\"\"\n",
    "    return f'{eqn.lhs} = {eqn.rhs}'\n",
    "\n",
    "def formatSolutions(sol):\n",
    "    \"\"\"\n",
    "    Returns the solutions as a formatted list (states converted back to triples)\n",
    "    \"\"\"\n",
    "    return [(symbolToState(s), p) for s, p in sol.items()]"
   ]
  },
  {
   "cell_type": "markdown",
   "id": "11cbb7eb",
   "metadata": {},
   "source": [
    "# Main class for the first-step analysis"
   ]
  },
  {
   "cell_type": "code",
   "execution_count": 6,
   "id": "0fa130e2",
   "metadata": {},
   "outputs": [],
   "source": [
    "%run BettingGameSimulation.ipynb"
   ]
  },
  {
   "cell_type": "code",
   "execution_count": 7,
   "id": "ae80a889",
   "metadata": {},
   "outputs": [],
   "source": [
    "class LoserAnalysis():\n",
    "    def __init__(self, initState):\n",
    "        self.initState = standardiseState(initState)\n",
    "        self.generatedStates = set([initState])\n",
    "        self.equations = []\n",
    "        self.symbols = set([stateToSymbol(self.initState)]) # or can encode all generated states at once in the end\n",
    "    \n",
    "    def getEquations(self):\n",
    "        \"\"\"\n",
    "        Returns a list of equations (as Equality objects) generated during the first step analysis.\n",
    "        \"\"\"\n",
    "        self.recurseGenerateEqns(self.initState)\n",
    "        return self.equations\n",
    "        \n",
    "    def recurseGenerateEqns(self, initState):\n",
    "        \"\"\"\n",
    "        Recursively generates the first step analysis equations,\n",
    "        and records the new symbols and equations.\n",
    "        \"\"\"\n",
    "        childStatesProb, const = getCoef(initState)  # state:prob pairs, under unified representation\n",
    "        newStates = set(childStatesProb).difference(self.generatedStates)\n",
    "        \n",
    "        # compute for the current state\n",
    "        # do this before the recursion to close off the loop\n",
    "        eqn, symbols = getEquation(initState, childStatesProb, const)\n",
    "        self.equations.append(eqn)\n",
    "\n",
    "        # base case: no new states\n",
    "        if not newStates:\n",
    "            return\n",
    "\n",
    "        self.symbols = self.symbols.union(symbols)\n",
    "        self.generatedStates = self.generatedStates.union(newStates)\n",
    "        \n",
    "        # recurse\n",
    "        for state in newStates:\n",
    "            self.recurseGenerateEqns(state)\n",
    "    \n",
    "    def solveEqns(self):\n",
    "        \"\"\"\n",
    "        Returns the hitting probabilities of all states involved in the analysis,\n",
    "        as a dictionary of (state symbol : probability) pairs.\n",
    "        The probabilities are represented as fractions.\n",
    "        \"\"\"\n",
    "        self.getEquations()\n",
    "        return solve(self.equations, self.symbols)\n",
    "    \n",
    "    def solveEqnsApprox(self):\n",
    "        \"\"\"\n",
    "        Similar to `solveEqns()`, but the hitting probabilities are represented as floating point numbers.\n",
    "        \"\"\"\n",
    "        sol = self.solveEqns()\n",
    "        return {s:float(p) for s, p in sol.items() if sol}\n",
    "    \n",
    "    def exportEqns(self, filename):\n",
    "        \"\"\"\n",
    "        Exports the first step analysis equations to a text file, \n",
    "        using the provided filename.\n",
    "        \"\"\"\n",
    "        self.getEquations()\n",
    "        fp = open(filename, 'w')\n",
    "        for e in self.equations:\n",
    "            fp.write(formatEquation(e) + '\\n')\n",
    "        fp.close()\n",
    "    \n",
    "    def getHittingProb(self):\n",
    "        \"\"\"\n",
    "        Returns the exact hitting probability (as a fraction) of the initial state.\n",
    "        \"\"\"\n",
    "        sol = self.solveEqns()\n",
    "        return sol[stateToSymbol(self.initState)] if sol else None\n",
    "    \n",
    "    def getHittingProbNumerical(self):\n",
    "        \"\"\"\n",
    "        Returns the numerical approximation of the hitting probability.\n",
    "        \"\"\"\n",
    "        return simGame(100000, self.initState, report=False)"
   ]
  },
  {
   "cell_type": "markdown",
   "id": "3588ff4d",
   "metadata": {},
   "source": [
    "## Examples"
   ]
  },
  {
   "cell_type": "code",
   "execution_count": 8,
   "id": "a1a6d0be",
   "metadata": {},
   "outputs": [],
   "source": [
    "# Get the approximate solutions\n",
    "#LoserAnalysis((1,2,3)).solveEqnsApprox()"
   ]
  },
  {
   "cell_type": "code",
   "execution_count": 9,
   "id": "62267736",
   "metadata": {},
   "outputs": [],
   "source": [
    "# Get the exact solutions (as fractions)\n",
    "#LoserAnalysis((5,7,8)).solveEqns()"
   ]
  },
  {
   "cell_type": "code",
   "execution_count": 10,
   "id": "392985a0",
   "metadata": {},
   "outputs": [],
   "source": [
    "# Export the equations\n",
    "#LoserAnalysis((5,7,8)).exportEqns('578Equations.txt')"
   ]
  },
  {
   "cell_type": "markdown",
   "id": "5d19c906",
   "metadata": {},
   "source": [
    "# Aggregate states and hitting probs to one file"
   ]
  },
  {
   "cell_type": "code",
   "execution_count": 11,
   "id": "1f8d5f84",
   "metadata": {},
   "outputs": [],
   "source": [
    "import csv\n",
    "EXACT = 0\n",
    "APPROX = 1"
   ]
  },
  {
   "cell_type": "code",
   "execution_count": 12,
   "id": "d6578bdb",
   "metadata": {},
   "outputs": [],
   "source": [
    "def getProbsForStates(minWealth, maxWealth, solveType=EXACT):\n",
    "    \"\"\"\n",
    "    Returns hitting probabilities, i.e. P(Loser = Player 1) as a dictionary of (state:probability) pairs, \n",
    "    beginning from all possible initial states,\n",
    "    where each player's amount is within [`minWealth`, `maxWealth`] (inclusive).\n",
    "    The hitting probabilities of any intermediate states are included.\n",
    "    \"\"\"\n",
    "    stateProbs = dict()  # states as symbols : hitting prob\n",
    "\n",
    "    for x in range(minWealth, maxWealth+1):\n",
    "        for y in range(minWealth, maxWealth+1):\n",
    "            for z in range(minWealth, maxWealth+1):\n",
    "                initState = (x, y, z)\n",
    "                if solveType == EXACT:\n",
    "                    sols = LoserAnalysis(initState).solveEqns()\n",
    "                else:\n",
    "                    sols = LoserAnalysis(initState).solveEqnsApprox()\n",
    "                \n",
    "                if sols:\n",
    "                    newStates = set(sols).difference(stateProbs)\n",
    "                    for s in newStates:\n",
    "                        stateProbs[s] = sols[s]\n",
    "\n",
    "    # sort by state\n",
    "    return dict(sorted(formatSolutions(stateProbs)))"
   ]
  },
  {
   "cell_type": "code",
   "execution_count": 13,
   "id": "d30e2c1d",
   "metadata": {},
   "outputs": [],
   "source": [
    "def getTargetProbsForStates(minWealth, maxWealth, solveType=EXACT):\n",
    "    \"\"\"\n",
    "    Returns hitting probabilities, i.e. P(Loser = Player 1) as a dictionary of (state:probability) pairs, \n",
    "    beginning from all possible initial states,\n",
    "    where each player's amount is within [`minWealth`, `maxWealth`] (inclusive).\n",
    "    The hitting probabilities of any intermediate states are NOT included.\n",
    "    \"\"\"\n",
    "    stateProbs = dict()  # states as symbols : hitting prob\n",
    "\n",
    "    for x in range(minWealth, maxWealth+1):\n",
    "        for y in range(minWealth, maxWealth+1):\n",
    "            for z in range(minWealth, maxWealth+1):\n",
    "                initState = (x, y, z)\n",
    "                try:\n",
    "                    sol = LoserAnalysis(initState).getHittingProb()\n",
    "                    if solveType != EXACT:\n",
    "                        sol = float(sol)\n",
    "                    stateProbs[initState] = sol\n",
    "                except RecursionError:\n",
    "                    print(f'Maximum recursion depth exceeded for state {state}')\n",
    "\n",
    "    return stateProbs"
   ]
  },
  {
   "cell_type": "code",
   "execution_count": 14,
   "id": "2299d9f4",
   "metadata": {},
   "outputs": [],
   "source": [
    "def exportStateProbs(filename, stateProbs, append=False, header=True):\n",
    "    \"\"\"\n",
    "    Creates a CSV file with columns (Initial state, P(Loser = Player 1)).\n",
    "    The state is an integer triple, and the probability is a rational number.\n",
    "    - filename: a string representing the filename of the CSV file;\n",
    "    - stateProbs: a dictionary of state : hitting prob pairs, representing the contents to be exported.\n",
    "    \"\"\"\n",
    "    if append:\n",
    "        fp = open(filename, 'a')\n",
    "    else:\n",
    "        fp = open(filename, 'w')\n",
    "    writer = csv.writer(fp)\n",
    "    if header:\n",
    "        writer.writerow(['Initial state', 'P(Loser = Player 1)'])\n",
    "    writer.writerows(stateProbs.items())\n",
    "    fp.close()"
   ]
  },
  {
   "cell_type": "markdown",
   "id": "9799088a",
   "metadata": {},
   "source": [
    "## Example"
   ]
  },
  {
   "cell_type": "code",
   "execution_count": null,
   "id": "6c32596b",
   "metadata": {},
   "outputs": [],
   "source": [
    "# generates the hitting probs for (1,1,1), (1,1,2), ..., (5,5,5)\n",
    "probs = getTargetProbsForStates(1,10)\n",
    "exportStateProbs('Player1LoseProbs_1to10.csv', probs)\n",
    "#exportStateProbs('Player1LoseProbs_1to10_decimal.csv', getTargetProbsForStates(1,10, APPROX))"
   ]
  },
  {
   "cell_type": "code",
   "execution_count": 18,
   "id": "e837934a",
   "metadata": {},
   "outputs": [
    {
     "data": {
      "text/latex": [
       "$\\displaystyle \\frac{25424153614205494181829414445086271633}{57961442947535311667794994473863737322}$"
      ],
      "text/plain": [
       "25424153614205494181829414445086271633/57961442947535311667794994473863737322"
      ]
     },
     "execution_count": 18,
     "metadata": {},
     "output_type": "execute_result"
    }
   ],
   "source": [
    "#LoserAnalysis((5,7,8)).getHittingProb()"
   ]
  },
  {
   "cell_type": "code",
   "execution_count": null,
   "id": "c6b7c0c9",
   "metadata": {},
   "outputs": [],
   "source": []
  }
 ],
 "metadata": {
  "kernelspec": {
   "display_name": "Python 3 (ipykernel)",
   "language": "python",
   "name": "python3"
  },
  "language_info": {
   "codemirror_mode": {
    "name": "ipython",
    "version": 3
   },
   "file_extension": ".py",
   "mimetype": "text/x-python",
   "name": "python",
   "nbconvert_exporter": "python",
   "pygments_lexer": "ipython3",
   "version": "3.9.18"
  }
 },
 "nbformat": 4,
 "nbformat_minor": 5
}
