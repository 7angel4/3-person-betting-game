{
 "cells": [
  {
   "cell_type": "code",
   "execution_count": 1,
   "id": "ff20c38e",
   "metadata": {},
   "outputs": [],
   "source": [
    "import numpy as np\n",
    "import pandas as pd\n",
    "import sympy as sp\n",
    "from fractions import Fraction"
   ]
  },
  {
   "cell_type": "code",
   "execution_count": 2,
   "id": "64b8137a",
   "metadata": {},
   "outputs": [],
   "source": [
    "NUM_PLAYERS = 3\n",
    "PLAYERS = list(range(1, NUM_PLAYERS+1))\n",
    "# all possible (giver, receiver) pairs\n",
    "OUTCOME_PROB = Fraction(1, NUM_PLAYERS * (NUM_PLAYERS-1))  # 1/6\n",
    "CANDIDATE_MOVES = [(g, r) for idx, g in enumerate(PLAYERS) for r in PLAYERS if g != r]\n",
    "LOSER_IDX = 0"
   ]
  },
  {
   "cell_type": "code",
   "execution_count": 98,
   "id": "46ca4a51",
   "metadata": {},
   "outputs": [],
   "source": [
    "def applyMove(initState, move):\n",
    "    g, r = move\n",
    "    initWealth = list(initState)\n",
    "    transferAmt = min(initWealth[g-1], initWealth[r-1])  # 0-indexed\n",
    "    initWealth[g-1] -= transferAmt  # give\n",
    "    initWealth[r-1] += transferAmt  # receive\n",
    "    return tuple(initWealth)\n",
    "\n",
    "\n",
    "def getChildStates(initState):\n",
    "    \"\"\"\n",
    "    Applies all possible moves to the initial state.\n",
    "    Returns the child states.\n",
    "    \"\"\"\n",
    "    return [applyMove(initState, move) for move in CANDIDATE_MOVES]\n",
    "\n",
    "def getCoef(initState):\n",
    "    \"\"\"\n",
    "    Returns the coefficients for a first-step analysis equation,\n",
    "    where the hitting probability of the initial state is the subject.\n",
    "    \"\"\"\n",
    "    # assign all states the individual outcome probability\n",
    "    childStates = getChildStates(initState)\n",
    "    stateCoefs = {s:OUTCOME_PROB for s in childStates}\n",
    "    const = 0\n",
    "    \n",
    "    for state in stateCoefs.copy():\n",
    "        # prune the 0 hitting prob states\n",
    "        if zeroHittingProb(state):\n",
    "            stateCoefs.pop(state)\n",
    "        # convert the hitting prob 1 states to constants\n",
    "        elif alreadyHit(state):\n",
    "            const += stateCoefs[state]\n",
    "            stateCoefs.pop(state)\n",
    "        # optimsation 1: convert equal wealth states to constants\n",
    "        elif equalWealth(state):\n",
    "            const += stateCoefs[state] / NUM_PLAYERS\n",
    "            stateCoefs.pop(state)\n",
    "    \n",
    "    # optimization 2: combine symmetrical states\n",
    "    copy = list(stateCoefs.copy().keys())\n",
    "    n = len(copy)\n",
    "    for i in range(n):\n",
    "        for j in range(i+1, n):\n",
    "            s1, s2 = copy[i], copy[j]\n",
    "            if (symmetricalStates(s1, s2)):\n",
    "                combinedProb = stateCoefs.pop(s1) + stateCoefs.pop(s2)\n",
    "                stateCoefs[standardiseState(s1)] = combinedProb\n",
    "    \n",
    "    return standardiseStates(stateCoefs), const\n",
    "\n",
    "def zeroHittingProb(state):\n",
    "    \"\"\"\n",
    "    Returns true if the given state cannot reach the state of Player 1 being the loser, false otherwise.\n",
    "    \n",
    "    \"\"\"\n",
    "    return (0 in state) and (state[LOSER_IDX] > 0)\n",
    "\n",
    "def alreadyHit(state):\n",
    "    \"\"\"\n",
    "    Returns true if the given state reaches the state of Player 1 being the loser wp1, false otherwise.\n",
    "    \n",
    "    \"\"\"\n",
    "    return state[LOSER_IDX] == 0\n",
    "\n",
    "def symmetricalStates(s1, s2):\n",
    "    return s1[0] == s2[0] and set(s1[1:]) == set(s2[1:])\n",
    "\n",
    "def standardiseState(s):\n",
    "    # convention: keep the smaller value at the front\n",
    "    return s if s[1] <= s[2] else (s[0], s[2], s[1])\n",
    "\n",
    "def standardiseStates(stateCoefs):\n",
    "    return {standardiseState(s):p for s, p in stateCoefs.items()}\n",
    "    \n",
    "def equalWealth(s):\n",
    "    return s[0] == s[1] and s[1] == s[2]"
   ]
  },
  {
   "cell_type": "code",
   "execution_count": 99,
   "id": "f6e39e6b",
   "metadata": {},
   "outputs": [],
   "source": [
    "from sympy import *\n",
    "from sympy import nsolve\n",
    "from sympy.solvers import solve\n",
    "from ast import literal_eval as make_tuple  # for parsing state as a tuple"
   ]
  },
  {
   "cell_type": "code",
   "execution_count": 100,
   "id": "a9bd7b54",
   "metadata": {},
   "outputs": [
    {
     "data": {
      "text/plain": [
       "({}, Fraction(1, 3))"
      ]
     },
     "execution_count": 100,
     "metadata": {},
     "output_type": "execute_result"
    }
   ],
   "source": [
    "getCoef((2,2,2))"
   ]
  },
  {
   "cell_type": "code",
   "execution_count": 101,
   "id": "b8542437",
   "metadata": {},
   "outputs": [],
   "source": [
    "def getEquation(initState, stateCoefs, const):\n",
    "    \"\"\"\n",
    "    Converts the dictionary of state:coefficient pairs and constant\n",
    "    into an equality of the form: `initState` = A * states \n",
    "    \"\"\"\n",
    "    # equation will be in the form of human readable equalities (like how we normally write down)\n",
    "    symbols = [stateToSymbol(s) for s in stateCoefs]\n",
    "    eqn = Eq(stateToSymbol(initState), getExpr(stateCoefs, const))\n",
    "    return eqn, symbols\n",
    "    \n",
    "def stateToSymbol(state):\n",
    "    \"\"\"\n",
    "    Converts the state (triple) to a Symbol object.\n",
    "    \"\"\"\n",
    "    return Symbol(f'h{state}')\n",
    "\n",
    "def symbolToState(symbol):\n",
    "    \"\"\"\n",
    "    Converts the Symbol object to a state (triple).\n",
    "    \"\"\"\n",
    "    return make_tuple(str(symbol)[1:])\n",
    "\n",
    "def getExpr(stateCoefs, const):\n",
    "    \"\"\"\n",
    "    Converts the dictionary of state:coefficient pairs and constant\n",
    "    into an expression.\n",
    "    \"\"\"\n",
    "    expr = const\n",
    "    for s in stateCoefs:\n",
    "        expr = Add(expr, stateCoefs[s] * stateToSymbol(s))\n",
    "    return expr\n",
    "\n",
    "def formatEquation(eqn):\n",
    "    return f'{eqn.lhs} = {eqn.rhs}'\n",
    "\n",
    "def formatSolutions(sol):\n",
    "    return [(symbolToState(s), p) for s, p in sol.items()]"
   ]
  },
  {
   "cell_type": "code",
   "execution_count": 110,
   "id": "7eef2383",
   "metadata": {},
   "outputs": [],
   "source": [
    "class LoserAnalysis():\n",
    "    def __init__(self, initState):\n",
    "        self.initState = standardiseState(initState)\n",
    "        self.generatedStates = set([initState])\n",
    "        self.equations = []\n",
    "        self.symbols = set([stateToSymbol(self.initState)]) # or can encode all generated states at once in the end\n",
    "    \n",
    "    def getEquations(self):\n",
    "        \"\"\"\n",
    "        Returns a list of equations (as Equality objects) generated during the first step analysis.\n",
    "        \"\"\"\n",
    "        self.recurseGenerateEqns(self.initState)\n",
    "        return self.equations\n",
    "        \n",
    "    def recurseGenerateEqns(self, initState):\n",
    "        \"\"\"\n",
    "        Recursively generates the first step analysis equations,\n",
    "        and records the new symbols and equations.\n",
    "        \"\"\"\n",
    "        childStatesProb, const = getCoef(initState)  # state:prob pairs, under unified representation\n",
    "        newStates = set(childStatesProb).difference(self.generatedStates)\n",
    "        \n",
    "        # compute for the current state\n",
    "        # do this before the recursion to close off the loop\n",
    "        eqn, symbols = getEquation(initState, childStatesProb, const)\n",
    "        self.equations.append(eqn)\n",
    "\n",
    "        # base case: no new states\n",
    "        if not newStates:\n",
    "            return\n",
    "\n",
    "        self.symbols = self.symbols.union(symbols)\n",
    "        self.generatedStates = self.generatedStates.union(newStates)\n",
    "        \n",
    "        # recurse\n",
    "        for state in newStates:\n",
    "            self.recurseGenerateEqns(state)\n",
    "    \n",
    "    def solveEqns(self):\n",
    "        \"\"\"\n",
    "        Returns the hitting probabilities of the states involved in the analysis.\n",
    "        \"\"\"\n",
    "        self.getEquations()\n",
    "        return solve(self.equations, self.symbols)\n",
    "    \n",
    "    # numerical approx\n",
    "#     def nsolveEqns(self):\n",
    "#         self.getEquations()\n",
    "#         exprs = \n",
    "#         return nsolve(self.equations, self.symbols, np.repeat(1, len(self.symbols)))\n",
    "    \n",
    "    def exportEqns(self, filename):\n",
    "        \"\"\"\n",
    "        Exports the first step analysis equations to a text file, \n",
    "        using the provided filename.\n",
    "        \"\"\"\n",
    "        self.getEquations()\n",
    "        fp = open(filename, 'w')\n",
    "        for e in self.equations:\n",
    "            fp.write(formatEquation(e) + '\\n')\n",
    "        fp.close()"
   ]
  },
  {
   "cell_type": "code",
   "execution_count": 103,
   "id": "a1a6d0be",
   "metadata": {},
   "outputs": [
    {
     "data": {
      "text/plain": [
       "dict_items([(h(1, 1, 4), 44/93), (h(1, 2, 3), 113/217), (h(2, 1, 3), 69/217), (h(3, 1, 2), 5/31), (h(4, 1, 1), 5/93)])"
      ]
     },
     "execution_count": 103,
     "metadata": {},
     "output_type": "execute_result"
    }
   ],
   "source": [
    "LoserAnalysis((1,2,3)).solveEqns().items()"
   ]
  },
  {
   "cell_type": "code",
   "execution_count": 115,
   "id": "c9f5c276",
   "metadata": {},
   "outputs": [
    {
     "data": {
      "text/plain": [
       "{h(1, 2, 14): 1529250476843789301594/2626941360963688147249,\n",
       " h(1, 4, 12): 1587632244934798889985/2626941360963688147249,\n",
       " h(1, 6, 10): 1640810152833367160839/2626941360963688147249,\n",
       " h(1, 8, 8): 1360397809099802318197/2626941360963688147249,\n",
       " h(10, 1, 6): 247143895297849989524/2626941360963688147249,\n",
       " h(10, 2, 5): 278213826966303319797/2626941360963688147249,\n",
       " h(10, 3, 4): 21373553795588457943/202072412381822165173,\n",
       " h(11, 2, 4): 194380219368060771093/2626941360963688147249,\n",
       " h(12, 1, 4): 12237802262295428568/202072412381822165173,\n",
       " h(12, 2, 3): 126896581159039742685/2626941360963688147249,\n",
       " h(13, 2, 2): 64793406456020257031/2626941360963688147249,\n",
       " h(14, 1, 2): 44776967173172165683/2626941360963688147249,\n",
       " h(2, 1, 14): 1052913916946726679972/2626941360963688147249,\n",
       " h(2, 2, 13): 1281073977253833945109/2626941360963688147249,\n",
       " h(2, 3, 12): 1438371019815848745644/2626941360963688147249,\n",
       " h(2, 4, 11): 1473141918765765981571/2626941360963688147249,\n",
       " h(2, 5, 10): 1495573108152538186574/2626941360963688147249,\n",
       " h(2, 6, 9): 1507772841985489593977/2626941360963688147249,\n",
       " h(2, 7, 8): 1454252066335718807342/2626941360963688147249,\n",
       " h(3, 2, 12): 1061673759988799658920/2626941360963688147249,\n",
       " h(3, 4, 10): 1360732293257860294481/2626941360963688147249,\n",
       " h(3, 6, 8): 1328239203752978027607/2626941360963688147249,\n",
       " h(4, 1, 12): 880217686619048685880/2626941360963688147249,\n",
       " h(4, 2, 11): 959419222829861394585/2626941360963688147249,\n",
       " h(4, 3, 10): 988352868363177899509/2626941360963688147249,\n",
       " h(4, 4, 9): 1171297501501639393001/2626941360963688147249,\n",
       " h(4, 5, 8): 1235629950472136738863/2626941360963688147249,\n",
       " h(4, 6, 7): 1183085808668073130719/2626941360963688147249,\n",
       " h(5, 2, 10): 853154425844846640878/2626941360963688147249,\n",
       " h(5, 3, 9): 2685299410522836870038/7880824082891064441747,\n",
       " h(5, 4, 8): 853039073881228083741/2626941360963688147249,\n",
       " h(5, 6, 6): 958028418753846045591/2626941360963688147249,\n",
       " h(6, 1, 10): 738987312832470996886/2626941360963688147249,\n",
       " h(6, 2, 9): 794736660776450621805/2626941360963688147249,\n",
       " h(6, 3, 8): 819422269496771161395/2626941360963688147249,\n",
       " h(6, 4, 7): 843284521034336447895/2626941360963688147249,\n",
       " h(6, 5, 6): 834456471104921050829/2626941360963688147249,\n",
       " h(7, 2, 8): 687554738879894494218/2626941360963688147249,\n",
       " h(7, 4, 6): 600571031261278568635/2626941360963688147249,\n",
       " h(8, 1, 8): 633271775931942914526/2626941360963688147249,\n",
       " h(8, 2, 7): 485134555748074845689/2626941360963688147249,\n",
       " h(8, 3, 6): 479279887713938958247/2626941360963688147249,\n",
       " h(8, 4, 5): 538272336610323324645/2626941360963688147249,\n",
       " h(9, 2, 6): 324431858201747931467/2626941360963688147249,\n",
       " h(9, 4, 4): 284346357960409361247/2626941360963688147249}"
      ]
     },
     "execution_count": 115,
     "metadata": {},
     "output_type": "execute_result"
    }
   ],
   "source": [
    "LoserAnalysis((5,9,3)).solveEqns()"
   ]
  },
  {
   "cell_type": "code",
   "execution_count": 105,
   "id": "057c676c",
   "metadata": {},
   "outputs": [
    {
     "data": {
      "text/plain": [
       "{h(2, 2, 2): 1/3}"
      ]
     },
     "execution_count": 105,
     "metadata": {},
     "output_type": "execute_result"
    }
   ],
   "source": [
    "LoserAnalysis((2,2,2)).solveEqns()"
   ]
  },
  {
   "cell_type": "code",
   "execution_count": 119,
   "id": "fe07c5f4",
   "metadata": {},
   "outputs": [],
   "source": [
    "MAX_AMT = 10\n",
    "MIN_AMT = 1\n",
    "FILENAME = 'player1LoseProbs_10.csv'"
   ]
  },
  {
   "cell_type": "code",
   "execution_count": 120,
   "id": "00099160",
   "metadata": {},
   "outputs": [],
   "source": [
    "import csv"
   ]
  },
  {
   "cell_type": "code",
   "execution_count": 121,
   "id": "1882a8d7",
   "metadata": {},
   "outputs": [],
   "source": [
    "# aggregate to text file\n",
    "fp = open(FILENAME, 'w')\n",
    "writer = csv.writer(fp)\n",
    "\n",
    "stateProbs = dict()  # states as symbols : hitting prob\n",
    "\n",
    "for i in range(MIN_AMT, MAX_AMT+1):\n",
    "    for j in range(MIN_AMT, MAX_AMT+1):\n",
    "        for k in range(MIN_AMT, MAX_AMT+1):\n",
    "            initState = (i, j, k)\n",
    "            sols = LoserAnalysis(initState).solveEqns()\n",
    "            if sols:\n",
    "                newStates = set(sols).difference(stateProbs)\n",
    "                for s in newStates:\n",
    "                    stateProbs[s] = sols[s]\n",
    "                \n",
    "# export to CSV\n",
    "writer.writerows(formatSolutions(stateProbs))\n",
    "\n",
    "fp.close()"
   ]
  },
  {
   "cell_type": "code",
   "execution_count": null,
   "id": "b4a66d43",
   "metadata": {},
   "outputs": [],
   "source": []
  }
 ],
 "metadata": {
  "kernelspec": {
   "display_name": "Python 3 (ipykernel)",
   "language": "python",
   "name": "python3"
  },
  "language_info": {
   "codemirror_mode": {
    "name": "ipython",
    "version": 3
   },
   "file_extension": ".py",
   "mimetype": "text/x-python",
   "name": "python",
   "nbconvert_exporter": "python",
   "pygments_lexer": "ipython3",
   "version": "3.9.18"
  }
 },
 "nbformat": 4,
 "nbformat_minor": 5
}
