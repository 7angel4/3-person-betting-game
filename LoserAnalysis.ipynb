{
 "cells": [
  {
   "cell_type": "code",
   "execution_count": 1,
   "id": "ff20c38e",
   "metadata": {},
   "outputs": [],
   "source": [
    "import numpy as np\n",
    "import pandas as pd\n",
    "from fractions import Fraction"
   ]
  },
  {
   "cell_type": "code",
   "execution_count": 2,
   "id": "64b8137a",
   "metadata": {},
   "outputs": [],
   "source": [
    "NUM_PLAYERS = 3\n",
    "PLAYERS = list(range(1, NUM_PLAYERS+1))\n",
    "# all possible (giver, receiver) pairs\n",
    "OUTCOME_PROB = Fraction(1, NUM_PLAYERS * (NUM_PLAYERS-1))  # 1/6\n",
    "CANDIDATE_MOVES = [(g, r) for idx, g in enumerate(PLAYERS) for r in PLAYERS if g != r]\n",
    "LOSER_IDX = 0"
   ]
  },
  {
   "cell_type": "markdown",
   "id": "199f93bc",
   "metadata": {},
   "source": [
    "# Helper functions"
   ]
  },
  {
   "cell_type": "markdown",
   "id": "924a57ab",
   "metadata": {},
   "source": [
    "## Functional"
   ]
  },
  {
   "cell_type": "code",
   "execution_count": 29,
   "id": "46ca4a51",
   "metadata": {},
   "outputs": [],
   "source": [
    "def applyMove(initState, move):\n",
    "    \"\"\"\n",
    "    Applies the given move to the initial state:\n",
    "    - initState: an integer triple representing the initial wealth of each player\n",
    "    - move: a (giver, receiver) pair\n",
    "    Returns the resulting wealth of the players as a triple.\n",
    "    \"\"\"\n",
    "    g, r = move\n",
    "    initWealth = list(initState)\n",
    "    transferAmt = min(initWealth[g-1], initWealth[r-1])  # 0-indexed\n",
    "    initWealth[g-1] -= transferAmt  # give\n",
    "    initWealth[r-1] += transferAmt  # receive\n",
    "    return tuple(initWealth)\n",
    "\n",
    "\n",
    "def getChildStates(initState):\n",
    "    \"\"\"\n",
    "    Applies all possible moves to the initial state.\n",
    "    Returns the child states.\n",
    "    \"\"\"\n",
    "    return [applyMove(initState, move) for move in CANDIDATE_MOVES]\n",
    "\n",
    "def getCoef(initState):\n",
    "    \"\"\"\n",
    "    Returns a pair consisting of:\n",
    "    - a dictionary of (state:coefficient) pairs, representing the coefficient of the hitting probability \n",
    "      for each state in the first-step analysis, starting from the given initial state\n",
    "    - a rational number representing the constant in the equation.\n",
    "    \"\"\"\n",
    "    # assign all states the individual outcome probability\n",
    "    childStates = getChildStates(initState)\n",
    "    stateCoefs = {s:OUTCOME_PROB for s in childStates}\n",
    "    const = 0\n",
    "    \n",
    "    # apply any possible simplifications to the states\n",
    "    copy = stateCoefs.copy()\n",
    "    for state in copy:\n",
    "        # prune the 0 hitting prob states\n",
    "        if zeroHittingProb(state):\n",
    "            stateCoefs.pop(state)\n",
    "        # convert the hitting prob 1 states to constants\n",
    "        elif (status := alreadyHit(state)):\n",
    "            const += stateCoefs[state] * status  # 1 for True\n",
    "            stateCoefs.pop(state)\n",
    "        # optimsation 1: convert equal wealth states to constants\n",
    "        elif equalWealth(state):\n",
    "            const += stateCoefs[state] / NUM_PLAYERS\n",
    "            stateCoefs.pop(state)\n",
    "    \n",
    "    # optimization 2: combine symmetrical states\n",
    "    copy = list(stateCoefs.copy().keys())\n",
    "    n = len(copy)\n",
    "    for i in range(n):\n",
    "        for j in range(i+1, n):\n",
    "            s1, s2 = copy[i], copy[j]\n",
    "            if (symmetricalStates(s1, s2)):\n",
    "                combinedProb = stateCoefs.pop(s1) + stateCoefs.pop(s2)\n",
    "                stateCoefs[standardiseState(s1)] = combinedProb\n",
    "    \n",
    "    return standardiseStates(stateCoefs), const\n",
    "\n",
    "def zeroHittingProb(state):\n",
    "    \"\"\"\n",
    "    Returns true if the given state cannot reach the state of Player 1 being the loser, false otherwise.\n",
    "    \"\"\"\n",
    "    return (0 in state) and (state[LOSER_IDX] > 0)\n",
    "\n",
    "def alreadyHit(state):\n",
    "    \"\"\"\n",
    "    Returns true if the given state reaches the state of Player 1 being the loser wp1, false otherwise.\n",
    "    \"\"\"\n",
    "    return state[LOSER_IDX] == 0\n",
    "\n",
    "def symmetricalStates(s1, s2):\n",
    "    \"\"\"\n",
    "    Returns true if the two states are symmetrical (undistinguished apart from the loser), false otherwise.\n",
    "    \"\"\"\n",
    "    return s1[LOSER_IDX] == s2[LOSER_IDX] and set(s1[LOSER_IDX+1:]) == set(s2[LOSER_IDX+1:])\n",
    "    \n",
    "def equalWealth(s):\n",
    "    \"\"\"\n",
    "    Returns true if all players have the same wealth in the current state (an integer triple), \n",
    "    false otherwise.\n",
    "    \"\"\"\n",
    "    return all(amt == s[0] for amt in s)"
   ]
  },
  {
   "cell_type": "markdown",
   "id": "5911ef7c",
   "metadata": {},
   "source": [
    "## Formatting / Representational"
   ]
  },
  {
   "cell_type": "code",
   "execution_count": 4,
   "id": "bdbe10de",
   "metadata": {},
   "outputs": [],
   "source": [
    "from sympy import *\n",
    "from sympy import nsolve\n",
    "from sympy.solvers import solve\n",
    "from ast import literal_eval as make_tuple  # for parsing state as a tuple"
   ]
  },
  {
   "cell_type": "code",
   "execution_count": 5,
   "id": "fa64cf1f",
   "metadata": {},
   "outputs": [],
   "source": [
    "def standardiseState(s):\n",
    "    \"\"\"\n",
    "    Returns the standardised form of the state (a triple).\n",
    "    The convention is to keep the smaller value of the undistinguished players at the front.\n",
    "    \"\"\"\n",
    "    return (s[LOSER_IDX],) + tuple(sorted(s[LOSER_IDX+1:]))\n",
    "\n",
    "def standardiseStates(stateCoefs):\n",
    "    \"\"\"\n",
    "    Standardises all states (keys) in the dictionary of (state:coefficient) pairs.\n",
    "    Returns the standardised form of the dictionary.\n",
    "    \"\"\"\n",
    "    return {standardiseState(s):p for s, p in stateCoefs.items()}\n",
    "\n",
    "def getEquation(initState, stateCoefs, const):\n",
    "    \"\"\"\n",
    "    Converts the dictionary of state:coefficient pairs and constant\n",
    "    into an equality of the form: h(initState) = coefs * h(states) + const\n",
    "    \"\"\"\n",
    "    # equation will be in the form of human readable equalities (like how we normally write down)\n",
    "    symbols = [stateToSymbol(s) for s in stateCoefs]\n",
    "    eqn = Eq(stateToSymbol(initState), getExpr(stateCoefs, const))\n",
    "    return eqn, symbols\n",
    "    \n",
    "def stateToSymbol(state):\n",
    "    \"\"\"\n",
    "    Converts the state (triple) to a Symbol object.\n",
    "    \"\"\"\n",
    "    return Symbol(f'h{state}')\n",
    "\n",
    "def symbolToState(symbol):\n",
    "    \"\"\"\n",
    "    Converts the Symbol object to a state (triple).\n",
    "    \"\"\"\n",
    "    return make_tuple(str(symbol)[1:])\n",
    "\n",
    "def getExpr(stateCoefs, const):\n",
    "    \"\"\"\n",
    "    Converts the dictionary of state:coefficient pairs and constant\n",
    "    into an expression.\n",
    "    \"\"\"\n",
    "    expr = const\n",
    "    for s in stateCoefs:\n",
    "        expr = Add(expr, stateCoefs[s] * stateToSymbol(s))\n",
    "    return expr\n",
    "\n",
    "def formatEquation(eqn):\n",
    "    \"\"\"\n",
    "    Returns the formatted string for the equation.\n",
    "    \"\"\"\n",
    "    return f'{eqn.lhs} = {eqn.rhs}'\n",
    "\n",
    "def formatSolutions(sol):\n",
    "    \"\"\"\n",
    "    Returns the solutions as a formatted list (states converted back to triples)\n",
    "    \"\"\"\n",
    "    return [(symbolToState(s), p) for s, p in sol.items()]"
   ]
  },
  {
   "cell_type": "markdown",
   "id": "3a2e6c1d",
   "metadata": {},
   "source": [
    "## System"
   ]
  },
  {
   "cell_type": "code",
   "execution_count": 6,
   "id": "78c2eb8f",
   "metadata": {},
   "outputs": [],
   "source": [
    "import signal"
   ]
  },
  {
   "cell_type": "code",
   "execution_count": 7,
   "id": "828b935d",
   "metadata": {},
   "outputs": [],
   "source": [
    "class TimeoutException(Exception):\n",
    "    \"\"\"\n",
    "    Custom exception for timeout.\n",
    "    \"\"\"\n",
    "    pass\n",
    "\n",
    "def sigalarmHandler(signum, frame):\n",
    "    \"\"\"\n",
    "    Handler function to be called when SIGALRM is received.\n",
    "    \"\"\"\n",
    "    # We get signal!\n",
    "    raise TimeoutException()"
   ]
  },
  {
   "cell_type": "markdown",
   "id": "11cbb7eb",
   "metadata": {},
   "source": [
    "# Main class for the first-step analysis"
   ]
  },
  {
   "cell_type": "code",
   "execution_count": 8,
   "id": "4c87792d",
   "metadata": {},
   "outputs": [],
   "source": [
    "%run BettingGameSimulation.ipynb"
   ]
  },
  {
   "cell_type": "code",
   "execution_count": 9,
   "id": "ae80a889",
   "metadata": {},
   "outputs": [],
   "source": [
    "class LoserAnalysis():\n",
    "    def __init__(self, initState):\n",
    "        self.initState = standardiseState(initState)\n",
    "        self.generatedStates = set([initState])\n",
    "        self.equations = []\n",
    "        self.symbols = set([stateToSymbol(self.initState)]) # or can encode all generated states at once in the end\n",
    "    \n",
    "    def getEquations(self):\n",
    "        \"\"\"\n",
    "        Returns a list of equations (as Equality objects) generated during the first step analysis.\n",
    "        \"\"\"\n",
    "        self.recurseGenerateEqns(self.initState)\n",
    "        return self.equations\n",
    "        \n",
    "    def recurseGenerateEqns(self, initState):\n",
    "        \"\"\"\n",
    "        Recursively generates the first step analysis equations,\n",
    "        and records the new symbols and equations.\n",
    "        \"\"\"\n",
    "        childStatesProb, const = getCoef(initState)  # state:prob pairs, under unified representation\n",
    "        newStates = set(childStatesProb).difference(self.generatedStates)\n",
    "        \n",
    "        # compute for the current state\n",
    "        # do this before the recursion to close off the loop\n",
    "        eqn, symbols = getEquation(initState, childStatesProb, const)\n",
    "        self.equations.append(eqn)\n",
    "\n",
    "        # base case: no new states\n",
    "        if not newStates:\n",
    "            return\n",
    "\n",
    "        self.symbols = self.symbols.union(symbols)\n",
    "        self.generatedStates = self.generatedStates.union(newStates)\n",
    "        \n",
    "        # recurse\n",
    "        for state in newStates:\n",
    "            self.recurseGenerateEqns(state)\n",
    "    \n",
    "    def solveEqns(self):\n",
    "        \"\"\"\n",
    "        Returns the hitting probabilities of all states involved in the analysis,\n",
    "        as a dictionary of (state symbol : probability) pairs.\n",
    "        The probabilities are represented as fractions.\n",
    "        \"\"\"\n",
    "        self.getEquations()\n",
    "        return solve(self.equations, self.symbols)\n",
    "    \n",
    "    def solveEqnsFloat(self):\n",
    "        \"\"\"\n",
    "        Similar to `solveEqns()`, but the hitting probabilities are represented as floating point numbers.\n",
    "        \"\"\"\n",
    "        sol = self.solveEqns()\n",
    "        return {s:float(p) for s, p in sol.items() if sol}\n",
    "    \n",
    "    def exportEqns(self, filename):\n",
    "        \"\"\"\n",
    "        Exports the first step analysis equations to a text file, \n",
    "        using the provided filename.\n",
    "        \"\"\"\n",
    "        self.getEquations()\n",
    "        fp = open(filename, 'w')\n",
    "        for e in self.equations:\n",
    "            fp.write(formatEquation(e) + '\\n')\n",
    "        fp.close()\n",
    "    \n",
    "    def getHittingProb(self):\n",
    "        \"\"\"\n",
    "        Returns the exact hitting probability (as a fraction) of the initial state.\n",
    "        \"\"\"\n",
    "        sol = self.solveEqns()\n",
    "        return sol[stateToSymbol(self.initState)] if sol else None\n",
    "    \n",
    "    def getHittingProbNumerical(self):\n",
    "        \"\"\"\n",
    "        Returns the numerical approximation of the hitting probability.\n",
    "        \"\"\"\n",
    "        return simGame(100000, self.initState, report=False)"
   ]
  },
  {
   "cell_type": "markdown",
   "id": "3588ff4d",
   "metadata": {},
   "source": [
    "## Examples"
   ]
  },
  {
   "cell_type": "code",
   "execution_count": 10,
   "id": "a1a6d0be",
   "metadata": {},
   "outputs": [],
   "source": [
    "# Get the approximate solutions\n",
    "#LoserAnalysis((1,2,3)).solveEqnsApprox()"
   ]
  },
  {
   "cell_type": "code",
   "execution_count": 11,
   "id": "62267736",
   "metadata": {},
   "outputs": [],
   "source": [
    "# Get the exact solutions (as fractions)\n",
    "#LoserAnalysis((5,7,8)).solveEqns()"
   ]
  },
  {
   "cell_type": "code",
   "execution_count": 12,
   "id": "d16db7c8",
   "metadata": {},
   "outputs": [],
   "source": [
    "# Export the equations\n",
    "#LoserAnalysis((5,7,8)).exportEqns('578Equations.txt')"
   ]
  },
  {
   "cell_type": "markdown",
   "id": "5d19c906",
   "metadata": {},
   "source": [
    "# Aggregate states and hitting probs to one file"
   ]
  },
  {
   "cell_type": "code",
   "execution_count": 21,
   "id": "1f8d5f84",
   "metadata": {},
   "outputs": [],
   "source": [
    "import csv"
   ]
  },
  {
   "cell_type": "code",
   "execution_count": 22,
   "id": "926d8666",
   "metadata": {},
   "outputs": [],
   "source": [
    "def getTargetProbsForStates(minWealth, maxWealth, exact=True, fraction=True):\n",
    "    \"\"\"\n",
    "    Returns hitting probabilities as a dictionary of state : P(Loser = Player 1) pairs, \n",
    "    beginning from all possible initial states within the range [`minWealth`, `maxWealth`] (inclusive).\n",
    "    The hitting probabilities of any intermediate states are NOT included.\n",
    "    \"\"\"\n",
    "    stateProbs = dict()  # states as symbols : hitting prob\n",
    "\n",
    "    for x in range(minWealth, maxWealth+1):\n",
    "        for y in range(minWealth, maxWealth+1):\n",
    "            for z in range(minWealth, maxWealth+1):\n",
    "                initState = (x, y, z)\n",
    "                try:\n",
    "                    if exact:\n",
    "                        sol = LoserAnalysis(initState).getHittingProb()\n",
    "                        if not fraction:\n",
    "                            sol = float(sol)\n",
    "                    else:\n",
    "                        sol = LoserAnalysis(initState).getHittingProbNumerical()\n",
    "                    stateProbs[initState] = sol\n",
    "                except RecursionError:\n",
    "                    print(f'Maximum recursion depth exceeded for state {state}')\n",
    "\n",
    "    return stateProbs"
   ]
  },
  {
   "cell_type": "code",
   "execution_count": 16,
   "id": "2299d9f4",
   "metadata": {},
   "outputs": [],
   "source": [
    "def exportStateProbs(filename, stateProbs, append=False, header=True):\n",
    "    \"\"\"\n",
    "    Creates a CSV file with columns (Initial state, P(Loser = Player 1)).\n",
    "    The state is an integer triple, and the probability is a rational number.\n",
    "    - filename: a string representing the filename of the CSV file;\n",
    "    - stateProbs: a dictionary of state : hitting prob pairs, representing the contents to be exported.\n",
    "    \"\"\"\n",
    "    if append:\n",
    "        fp = open(filename, 'a')\n",
    "    else:\n",
    "        fp = open(filename, 'w')\n",
    "    writer = csv.writer(fp)\n",
    "    if header:\n",
    "        writer.writerow(['Initial state', 'P(Loser = Player 1)'])\n",
    "    \n",
    "    writer.writerows(stateProbs.items())\n",
    "    fp.close()"
   ]
  },
  {
   "cell_type": "markdown",
   "id": "9799088a",
   "metadata": {},
   "source": [
    "## Example"
   ]
  },
  {
   "cell_type": "code",
   "execution_count": 19,
   "id": "8055325d",
   "metadata": {},
   "outputs": [
    {
     "ename": "KeyboardInterrupt",
     "evalue": "",
     "output_type": "error",
     "traceback": [
      "\u001b[0;31m---------------------------------------------------------------------------\u001b[0m",
      "\u001b[0;31mKeyboardInterrupt\u001b[0m                         Traceback (most recent call last)",
      "Cell \u001b[0;32mIn[19], line 2\u001b[0m\n\u001b[1;32m      1\u001b[0m \u001b[38;5;66;03m# generates the hitting probs for (1,1,1), (1,1,2), ..., (5,5,5)\u001b[39;00m\n\u001b[0;32m----> 2\u001b[0m probs \u001b[38;5;241m=\u001b[39m \u001b[43mgetTargetProbsForStates\u001b[49m\u001b[43m(\u001b[49m\u001b[38;5;241;43m11\u001b[39;49m\u001b[43m,\u001b[49m\u001b[38;5;241;43m20\u001b[39;49m\u001b[43m)\u001b[49m\n\u001b[1;32m      3\u001b[0m exportStateProbs(\u001b[38;5;124m'\u001b[39m\u001b[38;5;124mGame1_Player1LoseProbs_1to100.csv\u001b[39m\u001b[38;5;124m'\u001b[39m, probs, append\u001b[38;5;241m=\u001b[39m\u001b[38;5;28;01mTrue\u001b[39;00m, header\u001b[38;5;241m=\u001b[39m\u001b[38;5;28;01mFalse\u001b[39;00m)\n\u001b[1;32m      4\u001b[0m exportStateProbs(\u001b[38;5;124m'\u001b[39m\u001b[38;5;124mGame2_Player1LoseProbs_1to100_float.csv\u001b[39m\u001b[38;5;124m'\u001b[39m, {s:\u001b[38;5;28mfloat\u001b[39m(p) \u001b[38;5;28;01mfor\u001b[39;00m s,p \u001b[38;5;129;01min\u001b[39;00m probs\u001b[38;5;241m.\u001b[39mitems()}, append\u001b[38;5;241m=\u001b[39m\u001b[38;5;28;01mTrue\u001b[39;00m, header\u001b[38;5;241m=\u001b[39m\u001b[38;5;28;01mFalse\u001b[39;00m)\n",
      "Cell \u001b[0;32mIn[15], line 14\u001b[0m, in \u001b[0;36mgetTargetProbsForStates\u001b[0;34m(minWealth, maxWealth, solveType)\u001b[0m\n\u001b[1;32m     12\u001b[0m initState \u001b[38;5;241m=\u001b[39m (x, y, z)\n\u001b[1;32m     13\u001b[0m \u001b[38;5;28;01mtry\u001b[39;00m:\n\u001b[0;32m---> 14\u001b[0m     sol \u001b[38;5;241m=\u001b[39m \u001b[43mLoserAnalysis\u001b[49m\u001b[43m(\u001b[49m\u001b[43minitState\u001b[49m\u001b[43m)\u001b[49m\u001b[38;5;241;43m.\u001b[39;49m\u001b[43mgetHittingProb\u001b[49m\u001b[43m(\u001b[49m\u001b[43m)\u001b[49m\n\u001b[1;32m     15\u001b[0m     \u001b[38;5;28;01mif\u001b[39;00m solveType \u001b[38;5;241m!=\u001b[39m EXACT:\n\u001b[1;32m     16\u001b[0m         sol \u001b[38;5;241m=\u001b[39m \u001b[38;5;28mfloat\u001b[39m(sol)\n",
      "Cell \u001b[0;32mIn[9], line 70\u001b[0m, in \u001b[0;36mLoserAnalysis.getHittingProb\u001b[0;34m(self)\u001b[0m\n\u001b[1;32m     66\u001b[0m \u001b[38;5;28;01mdef\u001b[39;00m \u001b[38;5;21mgetHittingProb\u001b[39m(\u001b[38;5;28mself\u001b[39m):\n\u001b[1;32m     67\u001b[0m \u001b[38;5;250m    \u001b[39m\u001b[38;5;124;03m\"\"\"\u001b[39;00m\n\u001b[1;32m     68\u001b[0m \u001b[38;5;124;03m    Returns the exact hitting probability (as a fraction) of the initial state.\u001b[39;00m\n\u001b[1;32m     69\u001b[0m \u001b[38;5;124;03m    \"\"\"\u001b[39;00m\n\u001b[0;32m---> 70\u001b[0m     sol \u001b[38;5;241m=\u001b[39m \u001b[38;5;28;43mself\u001b[39;49m\u001b[38;5;241;43m.\u001b[39;49m\u001b[43msolveEqns\u001b[49m\u001b[43m(\u001b[49m\u001b[43m)\u001b[49m\n\u001b[1;32m     71\u001b[0m     \u001b[38;5;28;01mreturn\u001b[39;00m sol[stateToSymbol(\u001b[38;5;28mself\u001b[39m\u001b[38;5;241m.\u001b[39minitState)] \u001b[38;5;28;01mif\u001b[39;00m sol \u001b[38;5;28;01melse\u001b[39;00m \u001b[38;5;28;01mNone\u001b[39;00m\n",
      "Cell \u001b[0;32mIn[9], line 46\u001b[0m, in \u001b[0;36mLoserAnalysis.solveEqns\u001b[0;34m(self)\u001b[0m\n\u001b[1;32m     40\u001b[0m \u001b[38;5;250m\u001b[39m\u001b[38;5;124;03m\"\"\"\u001b[39;00m\n\u001b[1;32m     41\u001b[0m \u001b[38;5;124;03mReturns the hitting probabilities of all states involved in the analysis,\u001b[39;00m\n\u001b[1;32m     42\u001b[0m \u001b[38;5;124;03mas a dictionary of (state symbol : probability) pairs.\u001b[39;00m\n\u001b[1;32m     43\u001b[0m \u001b[38;5;124;03mThe probabilities are represented as fractions.\u001b[39;00m\n\u001b[1;32m     44\u001b[0m \u001b[38;5;124;03m\"\"\"\u001b[39;00m\n\u001b[1;32m     45\u001b[0m \u001b[38;5;28mself\u001b[39m\u001b[38;5;241m.\u001b[39mgetEquations()\n\u001b[0;32m---> 46\u001b[0m \u001b[38;5;28;01mreturn\u001b[39;00m \u001b[43msolve\u001b[49m\u001b[43m(\u001b[49m\u001b[38;5;28;43mself\u001b[39;49m\u001b[38;5;241;43m.\u001b[39;49m\u001b[43mequations\u001b[49m\u001b[43m,\u001b[49m\u001b[43m \u001b[49m\u001b[38;5;28;43mself\u001b[39;49m\u001b[38;5;241;43m.\u001b[39;49m\u001b[43msymbols\u001b[49m\u001b[43m)\u001b[49m\n",
      "File \u001b[0;32m/usr/local/lib/python3.9/site-packages/sympy/solvers/solvers.py:1147\u001b[0m, in \u001b[0;36msolve\u001b[0;34m(f, *symbols, **flags)\u001b[0m\n\u001b[1;32m   1145\u001b[0m         solution \u001b[38;5;241m=\u001b[39m _solve(f[\u001b[38;5;241m0\u001b[39m], \u001b[38;5;241m*\u001b[39msymbols, \u001b[38;5;241m*\u001b[39m\u001b[38;5;241m*\u001b[39mflags)\n\u001b[1;32m   1146\u001b[0m \u001b[38;5;28;01melse\u001b[39;00m:\n\u001b[0;32m-> 1147\u001b[0m     linear, solution \u001b[38;5;241m=\u001b[39m \u001b[43m_solve_system\u001b[49m\u001b[43m(\u001b[49m\u001b[43mf\u001b[49m\u001b[43m,\u001b[49m\u001b[43m \u001b[49m\u001b[43msymbols\u001b[49m\u001b[43m,\u001b[49m\u001b[43m \u001b[49m\u001b[38;5;241;43m*\u001b[39;49m\u001b[38;5;241;43m*\u001b[39;49m\u001b[43mflags\u001b[49m\u001b[43m)\u001b[49m\n\u001b[1;32m   1148\u001b[0m \u001b[38;5;28;01massert\u001b[39;00m \u001b[38;5;28mtype\u001b[39m(solution) \u001b[38;5;129;01mis\u001b[39;00m \u001b[38;5;28mlist\u001b[39m\n\u001b[1;32m   1149\u001b[0m \u001b[38;5;28;01massert\u001b[39;00m \u001b[38;5;129;01mnot\u001b[39;00m solution \u001b[38;5;129;01mor\u001b[39;00m \u001b[38;5;28mtype\u001b[39m(solution[\u001b[38;5;241m0\u001b[39m]) \u001b[38;5;129;01mis\u001b[39;00m \u001b[38;5;28mdict\u001b[39m, solution\n",
      "File \u001b[0;32m/usr/local/lib/python3.9/site-packages/sympy/solvers/solvers.py:1812\u001b[0m, in \u001b[0;36m_solve_system\u001b[0;34m(exprs, symbols, **flags)\u001b[0m\n\u001b[1;32m   1809\u001b[0m matrix \u001b[38;5;241m=\u001b[39m zeros(n, m \u001b[38;5;241m+\u001b[39m \u001b[38;5;241m1\u001b[39m)\n\u001b[1;32m   1811\u001b[0m \u001b[38;5;28;01mfor\u001b[39;00m i, poly \u001b[38;5;129;01min\u001b[39;00m \u001b[38;5;28menumerate\u001b[39m(polys):\n\u001b[0;32m-> 1812\u001b[0m     \u001b[38;5;28;01mfor\u001b[39;00m monom, coeff \u001b[38;5;129;01min\u001b[39;00m \u001b[43mpoly\u001b[49m\u001b[38;5;241;43m.\u001b[39;49m\u001b[43mterms\u001b[49m\u001b[43m(\u001b[49m\u001b[43m)\u001b[49m:\n\u001b[1;32m   1813\u001b[0m         \u001b[38;5;28;01mtry\u001b[39;00m:\n\u001b[1;32m   1814\u001b[0m             j \u001b[38;5;241m=\u001b[39m monom\u001b[38;5;241m.\u001b[39mindex(\u001b[38;5;241m1\u001b[39m)\n",
      "File \u001b[0;32m/usr/local/lib/python3.9/site-packages/sympy/polys/polytools.py:928\u001b[0m, in \u001b[0;36mPoly.terms\u001b[0;34m(f, order)\u001b[0m\n\u001b[1;32m    910\u001b[0m \u001b[38;5;28;01mdef\u001b[39;00m \u001b[38;5;21mterms\u001b[39m(f, order\u001b[38;5;241m=\u001b[39m\u001b[38;5;28;01mNone\u001b[39;00m):\n\u001b[1;32m    911\u001b[0m \u001b[38;5;250m    \u001b[39m\u001b[38;5;124;03m\"\"\"\u001b[39;00m\n\u001b[1;32m    912\u001b[0m \u001b[38;5;124;03m    Returns all non-zero terms from ``f`` in lex order.\u001b[39;00m\n\u001b[1;32m    913\u001b[0m \n\u001b[0;32m   (...)\u001b[0m\n\u001b[1;32m    926\u001b[0m \n\u001b[1;32m    927\u001b[0m \u001b[38;5;124;03m    \"\"\"\u001b[39;00m\n\u001b[0;32m--> 928\u001b[0m     \u001b[38;5;28;01mreturn\u001b[39;00m [(m, f\u001b[38;5;241m.\u001b[39mrep\u001b[38;5;241m.\u001b[39mdom\u001b[38;5;241m.\u001b[39mto_sympy(c)) \u001b[38;5;28;01mfor\u001b[39;00m m, c \u001b[38;5;129;01min\u001b[39;00m \u001b[43mf\u001b[49m\u001b[38;5;241;43m.\u001b[39;49m\u001b[43mrep\u001b[49m\u001b[38;5;241;43m.\u001b[39;49m\u001b[43mterms\u001b[49m\u001b[43m(\u001b[49m\u001b[43morder\u001b[49m\u001b[38;5;241;43m=\u001b[39;49m\u001b[43morder\u001b[49m\u001b[43m)\u001b[49m]\n",
      "File \u001b[0;32m/usr/local/lib/python3.9/site-packages/sympy/polys/polyclasses.py:318\u001b[0m, in \u001b[0;36mDMP.terms\u001b[0;34m(f, order)\u001b[0m\n\u001b[1;32m    316\u001b[0m \u001b[38;5;28;01mdef\u001b[39;00m \u001b[38;5;21mterms\u001b[39m(f, order\u001b[38;5;241m=\u001b[39m\u001b[38;5;28;01mNone\u001b[39;00m):\n\u001b[1;32m    317\u001b[0m \u001b[38;5;250m    \u001b[39m\u001b[38;5;124;03m\"\"\"Returns all non-zero terms from ``f`` in lex order. \"\"\"\u001b[39;00m\n\u001b[0;32m--> 318\u001b[0m     \u001b[38;5;28;01mreturn\u001b[39;00m \u001b[43mdmp_list_terms\u001b[49m\u001b[43m(\u001b[49m\u001b[43mf\u001b[49m\u001b[38;5;241;43m.\u001b[39;49m\u001b[43mrep\u001b[49m\u001b[43m,\u001b[49m\u001b[43m \u001b[49m\u001b[43mf\u001b[49m\u001b[38;5;241;43m.\u001b[39;49m\u001b[43mlev\u001b[49m\u001b[43m,\u001b[49m\u001b[43m \u001b[49m\u001b[43mf\u001b[49m\u001b[38;5;241;43m.\u001b[39;49m\u001b[43mdom\u001b[49m\u001b[43m,\u001b[49m\u001b[43m \u001b[49m\u001b[43morder\u001b[49m\u001b[38;5;241;43m=\u001b[39;49m\u001b[43morder\u001b[49m\u001b[43m)\u001b[49m\n",
      "File \u001b[0;32m/usr/local/lib/python3.9/site-packages/sympy/polys/densebasic.py:1734\u001b[0m, in \u001b[0;36mdmp_list_terms\u001b[0;34m(f, u, K, order)\u001b[0m\n\u001b[1;32m   1731\u001b[0m \u001b[38;5;28;01mdef\u001b[39;00m \u001b[38;5;21msort\u001b[39m(terms, O):\n\u001b[1;32m   1732\u001b[0m     \u001b[38;5;28;01mreturn\u001b[39;00m \u001b[38;5;28msorted\u001b[39m(terms, key\u001b[38;5;241m=\u001b[39m\u001b[38;5;28;01mlambda\u001b[39;00m term: O(term[\u001b[38;5;241m0\u001b[39m]), reverse\u001b[38;5;241m=\u001b[39m\u001b[38;5;28;01mTrue\u001b[39;00m)\n\u001b[0;32m-> 1734\u001b[0m terms \u001b[38;5;241m=\u001b[39m \u001b[43m_rec_list_terms\u001b[49m\u001b[43m(\u001b[49m\u001b[43mf\u001b[49m\u001b[43m,\u001b[49m\u001b[43m \u001b[49m\u001b[43mu\u001b[49m\u001b[43m,\u001b[49m\u001b[43m \u001b[49m\u001b[43m(\u001b[49m\u001b[43m)\u001b[49m\u001b[43m)\u001b[49m\n\u001b[1;32m   1736\u001b[0m \u001b[38;5;28;01mif\u001b[39;00m \u001b[38;5;129;01mnot\u001b[39;00m terms:\n\u001b[1;32m   1737\u001b[0m     \u001b[38;5;28;01mreturn\u001b[39;00m [((\u001b[38;5;241m0\u001b[39m,)\u001b[38;5;241m*\u001b[39m(u \u001b[38;5;241m+\u001b[39m \u001b[38;5;241m1\u001b[39m), K\u001b[38;5;241m.\u001b[39mzero)]\n",
      "File \u001b[0;32m/usr/local/lib/python3.9/site-packages/sympy/polys/densebasic.py:1708\u001b[0m, in \u001b[0;36m_rec_list_terms\u001b[0;34m(g, v, monom)\u001b[0m\n\u001b[1;32m   1705\u001b[0m     w \u001b[38;5;241m=\u001b[39m v \u001b[38;5;241m-\u001b[39m \u001b[38;5;241m1\u001b[39m\n\u001b[1;32m   1707\u001b[0m     \u001b[38;5;28;01mfor\u001b[39;00m i, c \u001b[38;5;129;01min\u001b[39;00m \u001b[38;5;28menumerate\u001b[39m(g):\n\u001b[0;32m-> 1708\u001b[0m         terms\u001b[38;5;241m.\u001b[39mextend(\u001b[43m_rec_list_terms\u001b[49m\u001b[43m(\u001b[49m\u001b[43mc\u001b[49m\u001b[43m,\u001b[49m\u001b[43m \u001b[49m\u001b[43mw\u001b[49m\u001b[43m,\u001b[49m\u001b[43m \u001b[49m\u001b[43mmonom\u001b[49m\u001b[43m \u001b[49m\u001b[38;5;241;43m+\u001b[39;49m\u001b[43m \u001b[49m\u001b[43m(\u001b[49m\u001b[43md\u001b[49m\u001b[43m \u001b[49m\u001b[38;5;241;43m-\u001b[39;49m\u001b[43m \u001b[49m\u001b[43mi\u001b[49m\u001b[43m,\u001b[49m\u001b[43m)\u001b[49m\u001b[43m)\u001b[49m)\n\u001b[1;32m   1710\u001b[0m \u001b[38;5;28;01mreturn\u001b[39;00m terms\n",
      "File \u001b[0;32m/usr/local/lib/python3.9/site-packages/sympy/polys/densebasic.py:1708\u001b[0m, in \u001b[0;36m_rec_list_terms\u001b[0;34m(g, v, monom)\u001b[0m\n\u001b[1;32m   1705\u001b[0m     w \u001b[38;5;241m=\u001b[39m v \u001b[38;5;241m-\u001b[39m \u001b[38;5;241m1\u001b[39m\n\u001b[1;32m   1707\u001b[0m     \u001b[38;5;28;01mfor\u001b[39;00m i, c \u001b[38;5;129;01min\u001b[39;00m \u001b[38;5;28menumerate\u001b[39m(g):\n\u001b[0;32m-> 1708\u001b[0m         terms\u001b[38;5;241m.\u001b[39mextend(\u001b[43m_rec_list_terms\u001b[49m\u001b[43m(\u001b[49m\u001b[43mc\u001b[49m\u001b[43m,\u001b[49m\u001b[43m \u001b[49m\u001b[43mw\u001b[49m\u001b[43m,\u001b[49m\u001b[43m \u001b[49m\u001b[43mmonom\u001b[49m\u001b[43m \u001b[49m\u001b[38;5;241;43m+\u001b[39;49m\u001b[43m \u001b[49m\u001b[43m(\u001b[49m\u001b[43md\u001b[49m\u001b[43m \u001b[49m\u001b[38;5;241;43m-\u001b[39;49m\u001b[43m \u001b[49m\u001b[43mi\u001b[49m\u001b[43m,\u001b[49m\u001b[43m)\u001b[49m\u001b[43m)\u001b[49m)\n\u001b[1;32m   1710\u001b[0m \u001b[38;5;28;01mreturn\u001b[39;00m terms\n",
      "    \u001b[0;31m[... skipping similar frames: _rec_list_terms at line 1708 (179 times)]\u001b[0m\n",
      "File \u001b[0;32m/usr/local/lib/python3.9/site-packages/sympy/polys/densebasic.py:1708\u001b[0m, in \u001b[0;36m_rec_list_terms\u001b[0;34m(g, v, monom)\u001b[0m\n\u001b[1;32m   1705\u001b[0m     w \u001b[38;5;241m=\u001b[39m v \u001b[38;5;241m-\u001b[39m \u001b[38;5;241m1\u001b[39m\n\u001b[1;32m   1707\u001b[0m     \u001b[38;5;28;01mfor\u001b[39;00m i, c \u001b[38;5;129;01min\u001b[39;00m \u001b[38;5;28menumerate\u001b[39m(g):\n\u001b[0;32m-> 1708\u001b[0m         terms\u001b[38;5;241m.\u001b[39mextend(\u001b[43m_rec_list_terms\u001b[49m\u001b[43m(\u001b[49m\u001b[43mc\u001b[49m\u001b[43m,\u001b[49m\u001b[43m \u001b[49m\u001b[43mw\u001b[49m\u001b[43m,\u001b[49m\u001b[43m \u001b[49m\u001b[43mmonom\u001b[49m\u001b[43m \u001b[49m\u001b[38;5;241;43m+\u001b[39;49m\u001b[43m \u001b[49m\u001b[43m(\u001b[49m\u001b[43md\u001b[49m\u001b[43m \u001b[49m\u001b[38;5;241;43m-\u001b[39;49m\u001b[43m \u001b[49m\u001b[43mi\u001b[49m\u001b[43m,\u001b[49m\u001b[43m)\u001b[49m\u001b[43m)\u001b[49m)\n\u001b[1;32m   1710\u001b[0m \u001b[38;5;28;01mreturn\u001b[39;00m terms\n",
      "File \u001b[0;32m/usr/local/lib/python3.9/site-packages/sympy/polys/densebasic.py:1696\u001b[0m, in \u001b[0;36m_rec_list_terms\u001b[0;34m(g, v, monom)\u001b[0m\n\u001b[1;32m   1694\u001b[0m \u001b[38;5;28;01mdef\u001b[39;00m \u001b[38;5;21m_rec_list_terms\u001b[39m(g, v, monom):\n\u001b[1;32m   1695\u001b[0m \u001b[38;5;250m    \u001b[39m\u001b[38;5;124;03m\"\"\"Recursive helper for :func:`dmp_list_terms`.\"\"\"\u001b[39;00m\n\u001b[0;32m-> 1696\u001b[0m     d, terms \u001b[38;5;241m=\u001b[39m \u001b[43mdmp_degree\u001b[49m\u001b[43m(\u001b[49m\u001b[43mg\u001b[49m\u001b[43m,\u001b[49m\u001b[43m \u001b[49m\u001b[43mv\u001b[49m\u001b[43m)\u001b[49m, []\n\u001b[1;32m   1698\u001b[0m     \u001b[38;5;28;01mif\u001b[39;00m \u001b[38;5;129;01mnot\u001b[39;00m v:\n\u001b[1;32m   1699\u001b[0m         \u001b[38;5;28;01mfor\u001b[39;00m i, c \u001b[38;5;129;01min\u001b[39;00m \u001b[38;5;28menumerate\u001b[39m(g):\n",
      "File \u001b[0;32m/usr/local/lib/python3.9/site-packages/sympy/polys/densebasic.py:178\u001b[0m, in \u001b[0;36mdmp_degree\u001b[0;34m(f, u)\u001b[0m\n\u001b[1;32m    157\u001b[0m \u001b[38;5;28;01mdef\u001b[39;00m \u001b[38;5;21mdmp_degree\u001b[39m(f, u):\n\u001b[1;32m    158\u001b[0m \u001b[38;5;250m    \u001b[39m\u001b[38;5;124;03m\"\"\"\u001b[39;00m\n\u001b[1;32m    159\u001b[0m \u001b[38;5;124;03m    Return the leading degree of ``f`` in ``x_0`` in ``K[X]``.\u001b[39;00m\n\u001b[1;32m    160\u001b[0m \n\u001b[0;32m   (...)\u001b[0m\n\u001b[1;32m    176\u001b[0m \n\u001b[1;32m    177\u001b[0m \u001b[38;5;124;03m    \"\"\"\u001b[39;00m\n\u001b[0;32m--> 178\u001b[0m     \u001b[38;5;28;01mif\u001b[39;00m \u001b[43mdmp_zero_p\u001b[49m\u001b[43m(\u001b[49m\u001b[43mf\u001b[49m\u001b[43m,\u001b[49m\u001b[43m \u001b[49m\u001b[43mu\u001b[49m\u001b[43m)\u001b[49m:\n\u001b[1;32m    179\u001b[0m         \u001b[38;5;28;01mreturn\u001b[39;00m \u001b[38;5;241m-\u001b[39moo\n\u001b[1;32m    180\u001b[0m     \u001b[38;5;28;01melse\u001b[39;00m:\n",
      "File \u001b[0;32m/usr/local/lib/python3.9/site-packages/sympy/polys/densebasic.py:711\u001b[0m, in \u001b[0;36mdmp_zero_p\u001b[0;34m(f, u)\u001b[0m\n\u001b[1;32m    696\u001b[0m \u001b[38;5;250m\u001b[39m\u001b[38;5;124;03m\"\"\"\u001b[39;00m\n\u001b[1;32m    697\u001b[0m \u001b[38;5;124;03mReturn ``True`` if ``f`` is zero in ``K[X]``.\u001b[39;00m\n\u001b[1;32m    698\u001b[0m \n\u001b[0;32m   (...)\u001b[0m\n\u001b[1;32m    708\u001b[0m \n\u001b[1;32m    709\u001b[0m \u001b[38;5;124;03m\"\"\"\u001b[39;00m\n\u001b[1;32m    710\u001b[0m \u001b[38;5;28;01mwhile\u001b[39;00m u:\n\u001b[0;32m--> 711\u001b[0m     \u001b[38;5;28;01mif\u001b[39;00m \u001b[38;5;28;43mlen\u001b[39;49m(f) \u001b[38;5;241m!=\u001b[39m \u001b[38;5;241m1\u001b[39m:\n\u001b[1;32m    712\u001b[0m         \u001b[38;5;28;01mreturn\u001b[39;00m \u001b[38;5;28;01mFalse\u001b[39;00m\n\u001b[1;32m    714\u001b[0m     f \u001b[38;5;241m=\u001b[39m f[\u001b[38;5;241m0\u001b[39m]\n",
      "\u001b[0;31mKeyboardInterrupt\u001b[0m: "
     ]
    }
   ],
   "source": [
    "# generates the hitting probs for (1,1,1), (1,1,2), ..., (5,5,5)\n",
    "# probs = getTargetProbsForStates(11,15)\n",
    "# exportStateProbs('Game1_Player1LoseProbs_1to100.csv', probs, append=True, header=False)\n",
    "# exportStateProbs('Game2_Player1LoseProbs_1to100_float.csv', {s:float(p) for s,p in probs.items()}, append=True, header=False)"
   ]
  },
  {
   "cell_type": "code",
   "execution_count": 18,
   "id": "4d8ebfa6",
   "metadata": {},
   "outputs": [],
   "source": [
    "#LoserAnalysis((5,7,8)).getHittingProb()"
   ]
  },
  {
   "cell_type": "code",
   "execution_count": null,
   "id": "d0a62892",
   "metadata": {},
   "outputs": [],
   "source": []
  }
 ],
 "metadata": {
  "kernelspec": {
   "display_name": "Python 3 (ipykernel)",
   "language": "python",
   "name": "python3"
  },
  "language_info": {
   "codemirror_mode": {
    "name": "ipython",
    "version": 3
   },
   "file_extension": ".py",
   "mimetype": "text/x-python",
   "name": "python",
   "nbconvert_exporter": "python",
   "pygments_lexer": "ipython3",
   "version": "3.9.18"
  }
 },
 "nbformat": 4,
 "nbformat_minor": 5
}
