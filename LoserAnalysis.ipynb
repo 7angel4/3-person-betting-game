{
 "cells": [
  {
   "cell_type": "code",
   "execution_count": 1,
   "id": "ff20c38e",
   "metadata": {},
   "outputs": [],
   "source": [
    "import numpy as np\n",
    "import pandas as pd\n",
    "import sympy as sp\n",
    "from fractions import Fraction"
   ]
  },
  {
   "cell_type": "code",
   "execution_count": 2,
   "id": "64b8137a",
   "metadata": {},
   "outputs": [],
   "source": [
    "NUM_PLAYERS = 3\n",
    "PLAYERS = list(range(1, NUM_PLAYERS+1))\n",
    "# all possible (giver, receiver) pairs\n",
    "OUTCOME_PROB = Fraction(1, NUM_PLAYERS * (NUM_PLAYERS-1))  # 1/6\n",
    "CANDIDATE_MOVES = [(g, r) for idx, g in enumerate(PLAYERS) for r in PLAYERS if g != r]\n",
    "LOSER_IDX = 0"
   ]
  },
  {
   "cell_type": "code",
   "execution_count": 3,
   "id": "46ca4a51",
   "metadata": {},
   "outputs": [],
   "source": [
    "def applyMove(initState, move):\n",
    "    g, r = move\n",
    "    initWealth = list(initState)\n",
    "    transferAmt = min(initWealth[g-1], initWealth[r-1])  # 0-indexed\n",
    "    initWealth[g-1] -= transferAmt  # give\n",
    "    initWealth[r-1] += transferAmt  # receive\n",
    "    return tuple(initWealth)\n",
    "\n",
    "\n",
    "def getChildStates(initState):\n",
    "    \"\"\"\n",
    "    Applies all possible moves to the initial state.\n",
    "    Returns the child states.\n",
    "    \"\"\"\n",
    "    return [applyMove(initState, move) for move in CANDIDATE_MOVES]\n",
    "\n",
    "def getCoef(initState):\n",
    "    \"\"\"\n",
    "    Returns the coefficients for a first-step analysis equation,\n",
    "    where the hitting probability of the initial state is the subject.\n",
    "    \"\"\"\n",
    "    # assign all states the individual outcome probability\n",
    "    childStates = getChildStates(initState)\n",
    "    stateCoefs = {s:OUTCOME_PROB for s in childStates}\n",
    "    const = 0\n",
    "    \n",
    "    for state in stateCoefs.copy():\n",
    "        # prune the 0 hitting prob states\n",
    "        if zeroHittingProb(state):\n",
    "            stateCoefs.pop(state)\n",
    "        # convert the hitting prob 1 states to constants\n",
    "        elif alreadyHit(state):\n",
    "            const += stateCoefs[state]\n",
    "            stateCoefs.pop(state)\n",
    "        # optimsation 1: convert equal wealth states to constants\n",
    "        elif equalWealth(state):\n",
    "            const += stateCoefs[state] / NUM_PLAYERS\n",
    "            stateCoefs.pop(state)\n",
    "    \n",
    "    # optimization 2: combine symmetrical states\n",
    "    copy = list(stateCoefs.copy().keys())\n",
    "    n = len(copy)\n",
    "    for i in range(n):\n",
    "        for j in range(i+1, n):\n",
    "            s1, s2 = copy[i], copy[j]\n",
    "            if (symmetricalStates(s1, s2)):\n",
    "                combinedProb = stateCoefs.pop(s1) + stateCoefs.pop(s2)\n",
    "                stateCoefs[standardiseState(s1)] = combinedProb\n",
    "    \n",
    "    return standardiseStates(stateCoefs), const\n",
    "\n",
    "def zeroHittingProb(state):\n",
    "    \"\"\"\n",
    "    Returns true if the given state cannot reach the state of Player 1 being the loser, false otherwise.\n",
    "    \n",
    "    \"\"\"\n",
    "    return (0 in state) and (state[LOSER_IDX] > 0)\n",
    "\n",
    "def alreadyHit(state):\n",
    "    \"\"\"\n",
    "    Returns true if the given state reaches the state of Player 1 being the loser wp1, false otherwise.\n",
    "    \n",
    "    \"\"\"\n",
    "    return state[LOSER_IDX] == 0\n",
    "\n",
    "def symmetricalStates(s1, s2):\n",
    "    return s1[0] == s2[0] and set(s1[1:]) == set(s2[1:])\n",
    "\n",
    "def standardiseState(s):\n",
    "    # convention: keep the smaller value at the front\n",
    "    return s if s[1] <= s[2] else (s[0], s[2], s[1])\n",
    "\n",
    "def standardiseStates(stateCoefs):\n",
    "    return {standardiseState(s):p for s, p in stateCoefs.items()}\n",
    "    \n",
    "def equalWealth(s):\n",
    "    return s[0] == s[1] and s[1] == s[2]"
   ]
  },
  {
   "cell_type": "code",
   "execution_count": 55,
   "id": "4c926b11",
   "metadata": {},
   "outputs": [],
   "source": [
    "from sympy import *\n",
    "from sympy import nsolve\n",
    "from sympy.solvers import solve\n",
    "from ast import literal_eval as make_tuple  # for parsing state as a tuple"
   ]
  },
  {
   "cell_type": "code",
   "execution_count": 70,
   "id": "5cc70589",
   "metadata": {},
   "outputs": [],
   "source": [
    "def getEquation(initState, stateCoefs, const):\n",
    "    # equation will be in the form of human readable equalities (like how we normally write down)\n",
    "    symbols = [stateToSymbol(s) for s in stateCoefs]\n",
    "    eqn = Eq(stateToSymbol(initState), getExpr(stateCoefs, const))\n",
    "    return eqn, symbols\n",
    "    \n",
    "def stateToSymbol(state):\n",
    "    return Symbol(f'h{state}')\n",
    "\n",
    "def symbolToState(symbol):\n",
    "    return make_tuple(str(symbol)[1:])\n",
    "\n",
    "def getExpr(stateCoefs, const):\n",
    "    expr = const\n",
    "    for s in stateCoefs:\n",
    "        expr = Add(expr, stateCoefs[s] * stateToSymbol(s))\n",
    "    return expr\n",
    "\n",
    "def formatEquation(eqn):\n",
    "    return f'{eqn.lhs} = {eqn.rhs}'\n",
    "\n",
    "def formatSolutions(sol):\n",
    "    return [(symbolToState(s), p) for s, p in sol.items()]"
   ]
  },
  {
   "cell_type": "code",
   "execution_count": 63,
   "id": "8faca930",
   "metadata": {},
   "outputs": [],
   "source": [
    "class LoserAnalysis():\n",
    "    def __init__(self, initState):\n",
    "        self.initState = standardiseState(initState)\n",
    "        self.generatedStates = set([initState])\n",
    "        self.equations = []\n",
    "        self.symbols = set() # or can encode all generated states at once in the end\n",
    "    \n",
    "    def getEquations(self):\n",
    "        self.recurseGenerateEqns(self.initState)\n",
    "        return self.equations\n",
    "        \n",
    "    def recurseGenerateEqns(self, initState):\n",
    "        childStatesProb, const = getCoef(initState)  # state:prob pairs, under unified representation\n",
    "        newStates = set(childStatesProb).difference(self.generatedStates)\n",
    "        \n",
    "        # compute for the current state\n",
    "        # do this before the recursion to close off the loop\n",
    "        eqn, symbols = getEquation(initState, childStatesProb, const)\n",
    "        self.equations.append(eqn)\n",
    "\n",
    "        # base case: no new states\n",
    "        if not newStates:\n",
    "            return\n",
    "\n",
    "        self.symbols = self.symbols.union(symbols)\n",
    "        self.generatedStates = self.generatedStates.union(newStates)\n",
    "        \n",
    "        # recurse\n",
    "        for state in newStates:\n",
    "            self.recurseGenerateEqns(state)\n",
    "    \n",
    "    def solveEqns(self):\n",
    "        self.getEquations()\n",
    "        return solve(self.equations, self.symbols)\n",
    "    \n",
    "    # numerical approx\n",
    "#     def nsolveEqns(self):\n",
    "#         self.getEquations()\n",
    "#         exprs = \n",
    "#         return nsolve(self.equations, self.symbols, np.repeat(1, len(self.symbols)))\n",
    "    \n",
    "    def exportEqns(self, filename):\n",
    "        \"\"\"\n",
    "        Exports the first step analysis equations to a text file, \n",
    "        using the provided filename.\n",
    "        \"\"\"\n",
    "        self.getEquations()\n",
    "        fp = open(filename, 'w')\n",
    "        for e in self.equations:\n",
    "            fp.write(formatEquation(e) + '\\n')\n",
    "        fp.close()"
   ]
  },
  {
   "cell_type": "code",
   "execution_count": 64,
   "id": "a1a6d0be",
   "metadata": {},
   "outputs": [
    {
     "data": {
      "text/plain": [
       "dict_items([(h(1, 1, 4), 44/93), (h(1, 2, 3), 113/217), (h(2, 1, 3), 69/217), (h(3, 1, 2), 5/31), (h(4, 1, 1), 5/93)])"
      ]
     },
     "execution_count": 64,
     "metadata": {},
     "output_type": "execute_result"
    }
   ],
   "source": [
    "LoserAnalysis((1,2,3)).solveEqns().items()"
   ]
  },
  {
   "cell_type": "code",
   "execution_count": 65,
   "id": "818e6792",
   "metadata": {},
   "outputs": [
    {
     "data": {
      "text/plain": [
       "{h(1, 2, 6): 8298/15019,\n",
       " h(1, 4, 4): 7379/15019,\n",
       " h(2, 1, 6): 5644/15019,\n",
       " h(2, 2, 5): 6727/15019,\n",
       " h(2, 3, 4): 7118/15019,\n",
       " h(3, 2, 4): 4695/15019,\n",
       " h(4, 1, 4): 3820/15019,\n",
       " h(4, 2, 3): 3206/15019,\n",
       " h(5, 2, 2): 1565/15019,\n",
       " h(6, 1, 2): 1077/15019}"
      ]
     },
     "execution_count": 65,
     "metadata": {},
     "output_type": "execute_result"
    }
   ],
   "source": [
    "LoserAnalysis((4,2,3)).solveEqns()"
   ]
  },
  {
   "cell_type": "code",
   "execution_count": 76,
   "id": "33d5f4c6",
   "metadata": {},
   "outputs": [
    {
     "data": {
      "text/plain": [
       "[]"
      ]
     },
     "execution_count": 76,
     "metadata": {},
     "output_type": "execute_result"
    }
   ],
   "source": [
    "LoserAnalysis((2,2,2)).solveEqns()"
   ]
  },
  {
   "cell_type": "code",
   "execution_count": 73,
   "id": "4043012a",
   "metadata": {},
   "outputs": [],
   "source": [
    "MAX_AMT = 10\n",
    "MIN_AMT = 1\n",
    "FILENAME = 'player1LoseProbs.csv'"
   ]
  },
  {
   "cell_type": "code",
   "execution_count": 74,
   "id": "fc745553",
   "metadata": {},
   "outputs": [],
   "source": [
    "import csv"
   ]
  },
  {
   "cell_type": "code",
   "execution_count": 75,
   "id": "e7b77ca1",
   "metadata": {},
   "outputs": [
    {
     "ename": "KeyboardInterrupt",
     "evalue": "",
     "output_type": "error",
     "traceback": [
      "\u001b[0;31m---------------------------------------------------------------------------\u001b[0m",
      "\u001b[0;31mKeyboardInterrupt\u001b[0m                         Traceback (most recent call last)",
      "Cell \u001b[0;32mIn[75], line 11\u001b[0m\n\u001b[1;32m      9\u001b[0m \u001b[38;5;28;01mfor\u001b[39;00m k \u001b[38;5;129;01min\u001b[39;00m \u001b[38;5;28mrange\u001b[39m(\u001b[38;5;241m3\u001b[39m, MAX_AMT\u001b[38;5;241m+\u001b[39m\u001b[38;5;241m1\u001b[39m):\n\u001b[1;32m     10\u001b[0m     initState \u001b[38;5;241m=\u001b[39m (i, j, k)\n\u001b[0;32m---> 11\u001b[0m     sols \u001b[38;5;241m=\u001b[39m \u001b[43mLoserAnalysis\u001b[49m\u001b[43m(\u001b[49m\u001b[43minitState\u001b[49m\u001b[43m)\u001b[49m\u001b[38;5;241;43m.\u001b[39;49m\u001b[43msolveEqns\u001b[49m\u001b[43m(\u001b[49m\u001b[43m)\u001b[49m\n\u001b[1;32m     12\u001b[0m     \u001b[38;5;28;01mif\u001b[39;00m sols:\n\u001b[1;32m     13\u001b[0m         newStates \u001b[38;5;241m=\u001b[39m \u001b[38;5;28mset\u001b[39m(sols)\u001b[38;5;241m.\u001b[39mdifference(stateProbs)\n",
      "Cell \u001b[0;32mIn[63], line 34\u001b[0m, in \u001b[0;36mLoserAnalysis.solveEqns\u001b[0;34m(self)\u001b[0m\n\u001b[1;32m     32\u001b[0m \u001b[38;5;28;01mdef\u001b[39;00m \u001b[38;5;21msolveEqns\u001b[39m(\u001b[38;5;28mself\u001b[39m):\n\u001b[1;32m     33\u001b[0m     \u001b[38;5;28mself\u001b[39m\u001b[38;5;241m.\u001b[39mgetEquations()\n\u001b[0;32m---> 34\u001b[0m     \u001b[38;5;28;01mreturn\u001b[39;00m \u001b[43msolve\u001b[49m\u001b[43m(\u001b[49m\u001b[38;5;28;43mself\u001b[39;49m\u001b[38;5;241;43m.\u001b[39;49m\u001b[43mequations\u001b[49m\u001b[43m,\u001b[49m\u001b[43m \u001b[49m\u001b[38;5;28;43mself\u001b[39;49m\u001b[38;5;241;43m.\u001b[39;49m\u001b[43msymbols\u001b[49m\u001b[43m)\u001b[49m\n",
      "File \u001b[0;32m/usr/local/lib/python3.9/site-packages/sympy/solvers/solvers.py:1147\u001b[0m, in \u001b[0;36msolve\u001b[0;34m(f, *symbols, **flags)\u001b[0m\n\u001b[1;32m   1145\u001b[0m         solution \u001b[38;5;241m=\u001b[39m _solve(f[\u001b[38;5;241m0\u001b[39m], \u001b[38;5;241m*\u001b[39msymbols, \u001b[38;5;241m*\u001b[39m\u001b[38;5;241m*\u001b[39mflags)\n\u001b[1;32m   1146\u001b[0m \u001b[38;5;28;01melse\u001b[39;00m:\n\u001b[0;32m-> 1147\u001b[0m     linear, solution \u001b[38;5;241m=\u001b[39m \u001b[43m_solve_system\u001b[49m\u001b[43m(\u001b[49m\u001b[43mf\u001b[49m\u001b[43m,\u001b[49m\u001b[43m \u001b[49m\u001b[43msymbols\u001b[49m\u001b[43m,\u001b[49m\u001b[43m \u001b[49m\u001b[38;5;241;43m*\u001b[39;49m\u001b[38;5;241;43m*\u001b[39;49m\u001b[43mflags\u001b[49m\u001b[43m)\u001b[49m\n\u001b[1;32m   1148\u001b[0m \u001b[38;5;28;01massert\u001b[39;00m \u001b[38;5;28mtype\u001b[39m(solution) \u001b[38;5;129;01mis\u001b[39;00m \u001b[38;5;28mlist\u001b[39m\n\u001b[1;32m   1149\u001b[0m \u001b[38;5;28;01massert\u001b[39;00m \u001b[38;5;129;01mnot\u001b[39;00m solution \u001b[38;5;129;01mor\u001b[39;00m \u001b[38;5;28mtype\u001b[39m(solution[\u001b[38;5;241m0\u001b[39m]) \u001b[38;5;129;01mis\u001b[39;00m \u001b[38;5;28mdict\u001b[39m, solution\n",
      "File \u001b[0;32m/usr/local/lib/python3.9/site-packages/sympy/solvers/solvers.py:1807\u001b[0m, in \u001b[0;36m_solve_system\u001b[0;34m(exprs, symbols, **flags)\u001b[0m\n\u001b[1;32m   1804\u001b[0m         failed\u001b[38;5;241m.\u001b[39mappend(g)\n\u001b[1;32m   1806\u001b[0m \u001b[38;5;28;01mif\u001b[39;00m polys:\n\u001b[0;32m-> 1807\u001b[0m     \u001b[38;5;28;01mif\u001b[39;00m \u001b[38;5;28;43mall\u001b[39;49m\u001b[43m(\u001b[49m\u001b[43mp\u001b[49m\u001b[38;5;241;43m.\u001b[39;49m\u001b[43mis_linear\u001b[49m\u001b[43m \u001b[49m\u001b[38;5;28;43;01mfor\u001b[39;49;00m\u001b[43m \u001b[49m\u001b[43mp\u001b[49m\u001b[43m \u001b[49m\u001b[38;5;129;43;01min\u001b[39;49;00m\u001b[43m \u001b[49m\u001b[43mpolys\u001b[49m\u001b[43m)\u001b[49m:\n\u001b[1;32m   1808\u001b[0m         n, m \u001b[38;5;241m=\u001b[39m \u001b[38;5;28mlen\u001b[39m(polys), \u001b[38;5;28mlen\u001b[39m(symbols)\n\u001b[1;32m   1809\u001b[0m         matrix \u001b[38;5;241m=\u001b[39m zeros(n, m \u001b[38;5;241m+\u001b[39m \u001b[38;5;241m1\u001b[39m)\n",
      "File \u001b[0;32m/usr/local/lib/python3.9/site-packages/sympy/solvers/solvers.py:1807\u001b[0m, in \u001b[0;36m<genexpr>\u001b[0;34m(.0)\u001b[0m\n\u001b[1;32m   1804\u001b[0m         failed\u001b[38;5;241m.\u001b[39mappend(g)\n\u001b[1;32m   1806\u001b[0m \u001b[38;5;28;01mif\u001b[39;00m polys:\n\u001b[0;32m-> 1807\u001b[0m     \u001b[38;5;28;01mif\u001b[39;00m \u001b[38;5;28mall\u001b[39m(\u001b[43mp\u001b[49m\u001b[38;5;241;43m.\u001b[39;49m\u001b[43mis_linear\u001b[49m \u001b[38;5;28;01mfor\u001b[39;00m p \u001b[38;5;129;01min\u001b[39;00m polys):\n\u001b[1;32m   1808\u001b[0m         n, m \u001b[38;5;241m=\u001b[39m \u001b[38;5;28mlen\u001b[39m(polys), \u001b[38;5;28mlen\u001b[39m(symbols)\n\u001b[1;32m   1809\u001b[0m         matrix \u001b[38;5;241m=\u001b[39m zeros(n, m \u001b[38;5;241m+\u001b[39m \u001b[38;5;241m1\u001b[39m)\n",
      "File \u001b[0;32m/usr/local/lib/python3.9/site-packages/sympy/polys/polytools.py:4099\u001b[0m, in \u001b[0;36mPoly.is_linear\u001b[0;34m(f)\u001b[0m\n\u001b[1;32m   4082\u001b[0m \u001b[38;5;129m@property\u001b[39m\n\u001b[1;32m   4083\u001b[0m \u001b[38;5;28;01mdef\u001b[39;00m \u001b[38;5;21mis_linear\u001b[39m(f):\n\u001b[1;32m   4084\u001b[0m \u001b[38;5;250m    \u001b[39m\u001b[38;5;124;03m\"\"\"\u001b[39;00m\n\u001b[1;32m   4085\u001b[0m \u001b[38;5;124;03m    Returns ``True`` if ``f`` is linear in all its variables.\u001b[39;00m\n\u001b[1;32m   4086\u001b[0m \n\u001b[0;32m   (...)\u001b[0m\n\u001b[1;32m   4097\u001b[0m \n\u001b[1;32m   4098\u001b[0m \u001b[38;5;124;03m    \"\"\"\u001b[39;00m\n\u001b[0;32m-> 4099\u001b[0m     \u001b[38;5;28;01mreturn\u001b[39;00m \u001b[43mf\u001b[49m\u001b[38;5;241;43m.\u001b[39;49m\u001b[43mrep\u001b[49m\u001b[38;5;241;43m.\u001b[39;49m\u001b[43mis_linear\u001b[49m\n",
      "File \u001b[0;32m/usr/local/lib/python3.9/site-packages/sympy/polys/polyclasses.py:902\u001b[0m, in \u001b[0;36mDMP.is_linear\u001b[0;34m(f)\u001b[0m\n\u001b[1;32m    899\u001b[0m \u001b[38;5;129m@property\u001b[39m\n\u001b[1;32m    900\u001b[0m \u001b[38;5;28;01mdef\u001b[39;00m \u001b[38;5;21mis_linear\u001b[39m(f):\n\u001b[1;32m    901\u001b[0m \u001b[38;5;250m    \u001b[39m\u001b[38;5;124;03m\"\"\"Returns ``True`` if ``f`` is linear in all its variables. \"\"\"\u001b[39;00m\n\u001b[0;32m--> 902\u001b[0m     \u001b[38;5;28;01mreturn\u001b[39;00m \u001b[38;5;28mall\u001b[39m(\u001b[38;5;28msum\u001b[39m(monom) \u001b[38;5;241m<\u001b[39m\u001b[38;5;241m=\u001b[39m \u001b[38;5;241m1\u001b[39m \u001b[38;5;28;01mfor\u001b[39;00m monom \u001b[38;5;129;01min\u001b[39;00m \u001b[43mdmp_to_dict\u001b[49m\u001b[43m(\u001b[49m\u001b[43mf\u001b[49m\u001b[38;5;241;43m.\u001b[39;49m\u001b[43mrep\u001b[49m\u001b[43m,\u001b[49m\u001b[43m \u001b[49m\u001b[43mf\u001b[49m\u001b[38;5;241;43m.\u001b[39;49m\u001b[43mlev\u001b[49m\u001b[43m,\u001b[49m\u001b[43m \u001b[49m\u001b[43mf\u001b[49m\u001b[38;5;241;43m.\u001b[39;49m\u001b[43mdom\u001b[49m\u001b[43m)\u001b[49m\u001b[38;5;241m.\u001b[39mkeys())\n",
      "File \u001b[0;32m/usr/local/lib/python3.9/site-packages/sympy/polys/densebasic.py:1098\u001b[0m, in \u001b[0;36mdmp_to_dict\u001b[0;34m(f, u, K, zero)\u001b[0m\n\u001b[1;32m   1095\u001b[0m     n \u001b[38;5;241m=\u001b[39m \u001b[38;5;241m-\u001b[39m\u001b[38;5;241m1\u001b[39m\n\u001b[1;32m   1097\u001b[0m \u001b[38;5;28;01mfor\u001b[39;00m k \u001b[38;5;129;01min\u001b[39;00m \u001b[38;5;28mrange\u001b[39m(\u001b[38;5;241m0\u001b[39m, n \u001b[38;5;241m+\u001b[39m \u001b[38;5;241m1\u001b[39m):\n\u001b[0;32m-> 1098\u001b[0m     h \u001b[38;5;241m=\u001b[39m \u001b[43mdmp_to_dict\u001b[49m\u001b[43m(\u001b[49m\u001b[43mf\u001b[49m\u001b[43m[\u001b[49m\u001b[43mn\u001b[49m\u001b[43m \u001b[49m\u001b[38;5;241;43m-\u001b[39;49m\u001b[43m \u001b[49m\u001b[43mk\u001b[49m\u001b[43m]\u001b[49m\u001b[43m,\u001b[49m\u001b[43m \u001b[49m\u001b[43mv\u001b[49m\u001b[43m)\u001b[49m\n\u001b[1;32m   1100\u001b[0m     \u001b[38;5;28;01mfor\u001b[39;00m exp, coeff \u001b[38;5;129;01min\u001b[39;00m h\u001b[38;5;241m.\u001b[39mitems():\n\u001b[1;32m   1101\u001b[0m         result[(k,) \u001b[38;5;241m+\u001b[39m exp] \u001b[38;5;241m=\u001b[39m coeff\n",
      "File \u001b[0;32m/usr/local/lib/python3.9/site-packages/sympy/polys/densebasic.py:1098\u001b[0m, in \u001b[0;36mdmp_to_dict\u001b[0;34m(f, u, K, zero)\u001b[0m\n\u001b[1;32m   1095\u001b[0m     n \u001b[38;5;241m=\u001b[39m \u001b[38;5;241m-\u001b[39m\u001b[38;5;241m1\u001b[39m\n\u001b[1;32m   1097\u001b[0m \u001b[38;5;28;01mfor\u001b[39;00m k \u001b[38;5;129;01min\u001b[39;00m \u001b[38;5;28mrange\u001b[39m(\u001b[38;5;241m0\u001b[39m, n \u001b[38;5;241m+\u001b[39m \u001b[38;5;241m1\u001b[39m):\n\u001b[0;32m-> 1098\u001b[0m     h \u001b[38;5;241m=\u001b[39m \u001b[43mdmp_to_dict\u001b[49m\u001b[43m(\u001b[49m\u001b[43mf\u001b[49m\u001b[43m[\u001b[49m\u001b[43mn\u001b[49m\u001b[43m \u001b[49m\u001b[38;5;241;43m-\u001b[39;49m\u001b[43m \u001b[49m\u001b[43mk\u001b[49m\u001b[43m]\u001b[49m\u001b[43m,\u001b[49m\u001b[43m \u001b[49m\u001b[43mv\u001b[49m\u001b[43m)\u001b[49m\n\u001b[1;32m   1100\u001b[0m     \u001b[38;5;28;01mfor\u001b[39;00m exp, coeff \u001b[38;5;129;01min\u001b[39;00m h\u001b[38;5;241m.\u001b[39mitems():\n\u001b[1;32m   1101\u001b[0m         result[(k,) \u001b[38;5;241m+\u001b[39m exp] \u001b[38;5;241m=\u001b[39m coeff\n",
      "    \u001b[0;31m[... skipping similar frames: dmp_to_dict at line 1098 (16 times)]\u001b[0m\n",
      "File \u001b[0;32m/usr/local/lib/python3.9/site-packages/sympy/polys/densebasic.py:1098\u001b[0m, in \u001b[0;36mdmp_to_dict\u001b[0;34m(f, u, K, zero)\u001b[0m\n\u001b[1;32m   1095\u001b[0m     n \u001b[38;5;241m=\u001b[39m \u001b[38;5;241m-\u001b[39m\u001b[38;5;241m1\u001b[39m\n\u001b[1;32m   1097\u001b[0m \u001b[38;5;28;01mfor\u001b[39;00m k \u001b[38;5;129;01min\u001b[39;00m \u001b[38;5;28mrange\u001b[39m(\u001b[38;5;241m0\u001b[39m, n \u001b[38;5;241m+\u001b[39m \u001b[38;5;241m1\u001b[39m):\n\u001b[0;32m-> 1098\u001b[0m     h \u001b[38;5;241m=\u001b[39m \u001b[43mdmp_to_dict\u001b[49m\u001b[43m(\u001b[49m\u001b[43mf\u001b[49m\u001b[43m[\u001b[49m\u001b[43mn\u001b[49m\u001b[43m \u001b[49m\u001b[38;5;241;43m-\u001b[39;49m\u001b[43m \u001b[49m\u001b[43mk\u001b[49m\u001b[43m]\u001b[49m\u001b[43m,\u001b[49m\u001b[43m \u001b[49m\u001b[43mv\u001b[49m\u001b[43m)\u001b[49m\n\u001b[1;32m   1100\u001b[0m     \u001b[38;5;28;01mfor\u001b[39;00m exp, coeff \u001b[38;5;129;01min\u001b[39;00m h\u001b[38;5;241m.\u001b[39mitems():\n\u001b[1;32m   1101\u001b[0m         result[(k,) \u001b[38;5;241m+\u001b[39m exp] \u001b[38;5;241m=\u001b[39m coeff\n",
      "File \u001b[0;32m/usr/local/lib/python3.9/site-packages/sympy/polys/densebasic.py:1100\u001b[0m, in \u001b[0;36mdmp_to_dict\u001b[0;34m(f, u, K, zero)\u001b[0m\n\u001b[1;32m   1097\u001b[0m \u001b[38;5;28;01mfor\u001b[39;00m k \u001b[38;5;129;01min\u001b[39;00m \u001b[38;5;28mrange\u001b[39m(\u001b[38;5;241m0\u001b[39m, n \u001b[38;5;241m+\u001b[39m \u001b[38;5;241m1\u001b[39m):\n\u001b[1;32m   1098\u001b[0m     h \u001b[38;5;241m=\u001b[39m dmp_to_dict(f[n \u001b[38;5;241m-\u001b[39m k], v)\n\u001b[0;32m-> 1100\u001b[0m     \u001b[38;5;28;01mfor\u001b[39;00m exp, coeff \u001b[38;5;129;01min\u001b[39;00m \u001b[43mh\u001b[49m\u001b[38;5;241;43m.\u001b[39;49m\u001b[43mitems\u001b[49m\u001b[43m(\u001b[49m\u001b[43m)\u001b[49m:\n\u001b[1;32m   1101\u001b[0m         result[(k,) \u001b[38;5;241m+\u001b[39m exp] \u001b[38;5;241m=\u001b[39m coeff\n\u001b[1;32m   1103\u001b[0m \u001b[38;5;28;01mreturn\u001b[39;00m result\n",
      "\u001b[0;31mKeyboardInterrupt\u001b[0m: "
     ]
    }
   ],
   "source": [
    "# aggregate to text file\n",
    "fp = open(FILENAME, 'w')\n",
    "writer = csv.writer(fp)\n",
    "\n",
    "stateProbs = dict()  # states as symbols : hitting prob\n",
    "\n",
    "for i in range(MIN_AMT, MAX_AMT+1):\n",
    "    for j in range(2, MAX_AMT+1):\n",
    "        for k in range(3, MAX_AMT+1):\n",
    "            initState = (i, j, k)\n",
    "            sols = LoserAnalysis(initState).solveEqns()\n",
    "            if sols:\n",
    "                newStates = set(sols).difference(stateProbs)\n",
    "                for s in newStates:\n",
    "                    stateProbs[s] = sols[s]\n",
    "                \n",
    "# export to CSV\n",
    "writer.writerows(formatSolutions(stateProbs))\n",
    "\n",
    "fp.close()"
   ]
  },
  {
   "cell_type": "code",
   "execution_count": null,
   "id": "99a824a9",
   "metadata": {},
   "outputs": [],
   "source": []
  }
 ],
 "metadata": {
  "kernelspec": {
   "display_name": "Python 3 (ipykernel)",
   "language": "python",
   "name": "python3"
  },
  "language_info": {
   "codemirror_mode": {
    "name": "ipython",
    "version": 3
   },
   "file_extension": ".py",
   "mimetype": "text/x-python",
   "name": "python",
   "nbconvert_exporter": "python",
   "pygments_lexer": "ipython3",
   "version": "3.9.18"
  }
 },
 "nbformat": 4,
 "nbformat_minor": 5
}
