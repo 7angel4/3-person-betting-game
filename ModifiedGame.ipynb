{
 "cells": [
  {
   "cell_type": "code",
   "execution_count": 1,
   "id": "d2a17738",
   "metadata": {},
   "outputs": [],
   "source": [
    "%run LoserAnalysis.ipynb"
   ]
  },
  {
   "cell_type": "markdown",
   "id": "c8b64041",
   "metadata": {},
   "source": [
    "# Modified game"
   ]
  },
  {
   "cell_type": "code",
   "execution_count": 8,
   "id": "fd2378d0",
   "metadata": {},
   "outputs": [],
   "source": [
    "def applyMove(initState, r):\n",
    "    \"\"\"\n",
    "    Applies the given move to the initial state:\n",
    "    - initState: an integer triple representing the initial wealth of each player\n",
    "    - r: an integer representing the player that is the receiver\n",
    "    Returns the resulting wealth of the players as a triple.\n",
    "    \"\"\"\n",
    "    initWealth = list(initState)\n",
    "    transferAmt = min(initState)  # minimum of all players' wealth\n",
    "    rWealth = initWealth[r-1] + transferAmt * (len(initWealth)-1)\n",
    "    initWealth = [w - transferAmt for w in initWealth]\n",
    "    initWealth[r-1] = rWealth\n",
    "    \n",
    "    return tuple(initWealth)\n",
    "\n",
    "def getChildStates(initState):\n",
    "    \"\"\"\n",
    "    Applies all possible moves to the initial state.\n",
    "    Returns the child states.\n",
    "    \"\"\"\n",
    "    return [applyMove(initState, r) for r in range(1, NUM_PLAYERS+1)]"
   ]
  },
  {
   "cell_type": "code",
   "execution_count": 10,
   "id": "1abf6c1f",
   "metadata": {},
   "outputs": [],
   "source": [
    "import random\n",
    "random.seed(7)"
   ]
  },
  {
   "cell_type": "code",
   "execution_count": 11,
   "id": "edfd727a",
   "metadata": {},
   "outputs": [],
   "source": [
    "def alreadyHit(state):\n",
    "    \"\"\"\n",
    "    Returns true if the given state reaches the state of Player 1 being the loser wp1, false otherwise.\n",
    "    \"\"\"\n",
    "    if state[LOSER_IDX] > 0:\n",
    "        return False\n",
    "    \n",
    "    # player 1 reached 0\n",
    "    numZeros = len([i for i in state if i == 0])\n",
    "    if numZeros > 1: # two players reached 0 at the same time\n",
    "        loser = random.randint(0, 1)\n",
    "        return loser == LOSER_IDX\n",
    "    else:  # only player 1 lost\n",
    "        return True"
   ]
  },
  {
   "cell_type": "markdown",
   "id": "d82fdd4c",
   "metadata": {},
   "source": [
    "## Example"
   ]
  },
  {
   "cell_type": "code",
   "execution_count": 14,
   "id": "4d532c5d",
   "metadata": {},
   "outputs": [
    {
     "data": {
      "text/latex": [
       "$\\displaystyle \\frac{46657}{139968}$"
      ],
      "text/plain": [
       "46657/139968"
      ]
     },
     "execution_count": 14,
     "metadata": {},
     "output_type": "execute_result"
    }
   ],
   "source": [
    "# logic changed in the helper functions\n",
    "# main logic unchanged in Loser Analysis\n",
    "LoserAnalysis((5,7,8)).getHittingProb()"
   ]
  },
  {
   "cell_type": "code",
   "execution_count": 15,
   "id": "56d32ebd",
   "metadata": {},
   "outputs": [],
   "source": [
    "# generated in seconds!!\n",
    "probs = getTargetProbsForStates(1,10)\n",
    "exportStateProbs('Game2_Player1LoseProbs_1to10.csv', probs)\n",
    "exportStateProbs('Game2_Player1LoseProbs_1to10_float.csv', {s:float(p) for s,p in probs.items()})"
   ]
  }
 ],
 "metadata": {
  "kernelspec": {
   "display_name": "Python 3 (ipykernel)",
   "language": "python",
   "name": "python3"
  },
  "language_info": {
   "codemirror_mode": {
    "name": "ipython",
    "version": 3
   },
   "file_extension": ".py",
   "mimetype": "text/x-python",
   "name": "python",
   "nbconvert_exporter": "python",
   "pygments_lexer": "ipython3",
   "version": "3.9.18"
  }
 },
 "nbformat": 4,
 "nbformat_minor": 5
}
