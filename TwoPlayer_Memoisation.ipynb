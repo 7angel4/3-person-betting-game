{
 "cells": [
  {
   "cell_type": "code",
   "execution_count": 7,
   "id": "3fe0cfe9",
   "metadata": {},
   "outputs": [],
   "source": [
    "import numpy as np"
   ]
  },
  {
   "cell_type": "code",
   "execution_count": 1,
   "id": "526a04d8",
   "metadata": {},
   "outputs": [],
   "source": [
    "def memoize(f):\n",
    "    \"\"\" Memoization decorator for functions taking one or more arguments. \"\"\"\n",
    "    class memodict(dict):\n",
    "        def __init__(self, f):\n",
    "            self.f = f\n",
    "\n",
    "        def __call__(self, *args):\n",
    "            return self[args]\n",
    "\n",
    "        def __missing__(self, key):\n",
    "            ret = self[key] = self.f(*key)\n",
    "            return ret\n",
    "\n",
    "    return memodict(f)\n",
    "\n",
    "def out2(u,v):\n",
    "    m=min(u,v)\n",
    "    yield (u+m,v-m)\n",
    "    yield (u-m,v+m)\n",
    "\n",
    "def out3(x,y,z):\n",
    "    for (X,Y) in out2(x,y): yield(X,Y,z)\n",
    "    for (X,Z) in out2(x,z): yield(X,y,Z)\n",
    "    for (Y,Z) in out2(y,z): yield(x,Y,Z)\n",
    "\n",
    " \n",
    "@memoize\n",
    "def Q(x,y,z,t=0):\n",
    "    if x==0: return 1\n",
    "    if z*y==0: return 0\n",
    "    if z<y: return Q(x,z,y,t)  # put smaller stack size at front\n",
    "    if t==0: return 0\n",
    "    return sum(Q(X,Y,Z,t-1) for (X,Y,Z) in out3(x,y,z))/6\n",
    "\n",
    "def precomp(N,t):\n",
    "    for x in range(N+1):\n",
    "        for y in range(N+1-x):\n",
    "            return Q(x,y,N-x-y,t)"
   ]
  },
  {
   "cell_type": "code",
   "execution_count": 19,
   "id": "719e6089",
   "metadata": {},
   "outputs": [
    {
     "data": {
      "text/plain": [
       "1"
      ]
     },
     "execution_count": 19,
     "metadata": {},
     "output_type": "execute_result"
    }
   ],
   "source": [
    "precomp(2000,10)"
   ]
  },
  {
   "cell_type": "code",
   "execution_count": null,
   "id": "a63dac91",
   "metadata": {
    "scrolled": true
   },
   "outputs": [],
   "source": [
    "# Example\n",
    "# N=2000\n",
    "\n",
    "# with open(\"poker_two_play_simplex_2000.txt\",\"a\") as ff:\n",
    "#     for x in range(N+1):\n",
    "#         for y in range(N+1-x):\n",
    "#             ff.write(str(x)+\" \"+str(y)+\" \"+str(N-x-y)+\" \"+str(Q(x,y,N-x-y,10))+\"\\n\")"
   ]
  },
  {
   "cell_type": "code",
   "execution_count": null,
   "id": "f84ed7e1",
   "metadata": {},
   "outputs": [],
   "source": []
  }
 ],
 "metadata": {
  "kernelspec": {
   "display_name": "Python 3 (ipykernel)",
   "language": "python",
   "name": "python3"
  },
  "language_info": {
   "codemirror_mode": {
    "name": "ipython",
    "version": 3
   },
   "file_extension": ".py",
   "mimetype": "text/x-python",
   "name": "python",
   "nbconvert_exporter": "python",
   "pygments_lexer": "ipython3",
   "version": "3.9.18"
  }
 },
 "nbformat": 4,
 "nbformat_minor": 5
}
