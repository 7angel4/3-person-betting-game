{
 "cells": [
  {
   "cell_type": "markdown",
   "id": "9ef6b1ac",
   "metadata": {},
   "source": [
    "# Plot x for fixed y & z"
   ]
  },
  {
   "cell_type": "code",
   "execution_count": 1,
   "id": "1404446b",
   "metadata": {},
   "outputs": [],
   "source": [
    "import matplotlib.pyplot as plt\n",
    "import matplotlib.patches as mpatches\n",
    "from matplotlib.lines import Line2D\n",
    "TIME_LIM = 30  # seconds or time steps"
   ]
  },
  {
   "cell_type": "code",
   "execution_count": 2,
   "id": "8314ef3e",
   "metadata": {},
   "outputs": [],
   "source": [
    "def varyX(minX, maxX, y, z, timeLimit=30):\n",
    "    xs = range(minX, maxX+1)\n",
    "    probs = {}\n",
    "    \n",
    "    for x in xs:\n",
    "        state = (x,y,z)\n",
    "        # Set up signal handler for SIGALRM, saving previous value\n",
    "        oldHandler = signal.signal(signal.SIGALRM, sigalarmHandler)\n",
    "        # Start timer\n",
    "        signal.alarm(TIME_LIM)\n",
    "        try:\n",
    "            probs[x] = LoserAnalysis(state).getHittingProb()\n",
    "        except TimeoutException:\n",
    "            print(f'Took too long to find the hitting prob for state {state}')\n",
    "        except RecursionError:\n",
    "            print(f'maximum recursion depth exceeded for state {state}')\n",
    "        finally:\n",
    "            # Turn off timer\n",
    "            signal.alarm(0)\n",
    "            # Restore handler to previous value\n",
    "            signal.signal(signal.SIGALRM, oldHandler)\n",
    "        \n",
    "    # use numerical approximation for the unrecorded states\n",
    "    missedStates = [(x,y,z) for x in xs if x not in probs]\n",
    "    numericalProbs = {s[0]:LoserAnalysis(s).getHittingProbNumerical() for s in missedStates}\n",
    "    \n",
    "    return probs, numericalProbs"
   ]
  },
  {
   "cell_type": "code",
   "execution_count": 3,
   "id": "a5e8629f",
   "metadata": {},
   "outputs": [],
   "source": [
    "# Automate the process\n",
    "def plotXforFixedYZ(minX, maxX, y, z, probFunction=varyX, t=30):\n",
    "    \"\"\"\n",
    "    Plots x values within the range [`minX`, `maxX`] (inclusive) for fixed y and z.\n",
    "    The `timeLimit` (in seconds) casts a limit on the computation time of the hitting prob for each state.\n",
    "    Saves the plot to a file provided by the string `figName`.\n",
    "    \"\"\"\n",
    "    exactProbs, numericalProbs = probFunction(minX, maxX, y, z, t)\n",
    "    \n",
    "    # plot\n",
    "    plt.scatter([x for x in exactProbs.keys()], exactProbs.values(), \n",
    "            color='b', label='exact probs', s=2)\n",
    "    plt.scatter([x for x in numericalProbs.keys()], numericalProbs.values(), \n",
    "                color='r', label='numerical probs', s=2)\n",
    "\n",
    "    # add graph features\n",
    "    plt.xlabel('x')\n",
    "    plt.ylabel('P(loser = Player 1)')\n",
    "    plt.title(f\"Hitting probabilities for different x values (y = {y}, z = {z})\")\n",
    "    plt.legend()\n",
    "\n",
    "    plt.savefig(f'Hitting probs for different x (y = {y}, z = {z}) - {str(probFunction)}, game1.png')\n",
    "    plt.show()"
   ]
  },
  {
   "cell_type": "code",
   "execution_count": 4,
   "id": "a24081c4",
   "metadata": {},
   "outputs": [],
   "source": [
    "class TimeoutException(Exception):\n",
    "    \"\"\"\n",
    "    Custom exception for timeout.\n",
    "    \"\"\"\n",
    "    pass\n",
    "\n",
    "def sigalarmHandler(signum, frame):\n",
    "    \"\"\"\n",
    "    Handler function to be called when SIGALRM is received.\n",
    "    \"\"\"\n",
    "    # We get signal!\n",
    "    raise TimeoutException()"
   ]
  },
  {
   "cell_type": "raw",
   "id": "42797d6f",
   "metadata": {},
   "source": [
    "# simplex\n",
    "# x-axis: player 2\n",
    "# y: player 3\n",
    "# fixed sum\n",
    "in range xxx: red color"
   ]
  }
 ],
 "metadata": {
  "kernelspec": {
   "display_name": "Python 3 (ipykernel)",
   "language": "python",
   "name": "python3"
  },
  "language_info": {
   "codemirror_mode": {
    "name": "ipython",
    "version": 3
   },
   "file_extension": ".py",
   "mimetype": "text/x-python",
   "name": "python",
   "nbconvert_exporter": "python",
   "pygments_lexer": "ipython3",
   "version": "3.9.18"
  }
 },
 "nbformat": 4,
 "nbformat_minor": 5
}
