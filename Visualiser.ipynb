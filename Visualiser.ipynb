{
 "cells": [
  {
   "cell_type": "code",
   "execution_count": 37,
   "id": "95d33603",
   "metadata": {},
   "outputs": [],
   "source": [
    "%run LoserAnalysis.ipynb"
   ]
  },
  {
   "cell_type": "markdown",
   "id": "9ef6b1ac",
   "metadata": {},
   "source": [
    "# Plot x for fixed y & z"
   ]
  },
  {
   "cell_type": "code",
   "execution_count": 39,
   "id": "1404446b",
   "metadata": {},
   "outputs": [],
   "source": [
    "import matplotlib.pyplot as plt\n",
    "import matplotlib.patches as mpatches\n",
    "from matplotlib.lines import Line2D\n",
    "TIME_LIM = 60  # seconds"
   ]
  },
  {
   "cell_type": "code",
   "execution_count": 40,
   "id": "d5b7d71d",
   "metadata": {},
   "outputs": [],
   "source": [
    "y = z = 20  # dummy value for declaring the variables\n",
    "FIG_NAME = f'Hitting probs for different x (y = {y}, z = {z}).png'"
   ]
  },
  {
   "cell_type": "code",
   "execution_count": 41,
   "id": "8314ef3e",
   "metadata": {},
   "outputs": [],
   "source": [
    "def varyX(minX, maxX, y, z, timeLimit=60):\n",
    "    xs = range(minX, maxX+1)\n",
    "    probs = {}\n",
    "    \n",
    "    for x in xs:\n",
    "        state = (x,y,z)\n",
    "        # Set up signal handler for SIGALRM, saving previous value\n",
    "        oldHandler = signal.signal(signal.SIGALRM, sigalarmHandler)\n",
    "        # Start timer\n",
    "        signal.alarm(TIME_LIM)\n",
    "        try:\n",
    "            probs[x] = LoserAnalysis(state).getHittingProb()\n",
    "        except TimeoutException:\n",
    "            print(f'Took too long to find the hitting prob for state {state}')\n",
    "        except RecursionError:\n",
    "            print(f'maximum recursion depth exceeded for state {state}')\n",
    "        finally:\n",
    "            # Turn off timer\n",
    "            signal.alarm(0)\n",
    "            # Restore handler to previous value\n",
    "            signal.signal(signal.SIGALRM, oldHandler)\n",
    "        \n",
    "    # use numerical approximation for the unrecorded states\n",
    "    missedStates = [(x,y,z) for x in xs if x not in probs]\n",
    "    numericalProbs = {s[0]:LoserAnalysis(s).getHittingProbNumerical() for s in missedStates}\n",
    "    \n",
    "    return probs, numericalProbs"
   ]
  },
  {
   "cell_type": "code",
   "execution_count": 42,
   "id": "a5e8629f",
   "metadata": {},
   "outputs": [],
   "source": [
    "# Automate the process\n",
    "def plotXforFixedYZ(minX, maxX, y, z, probFunction=varyX, figName=FIG_NAME, t=30):\n",
    "    \"\"\"\n",
    "    Plots x values within the range [`minX`, `maxX`] (inclusive) for fixed y and z.\n",
    "    The `timeLimit` (in seconds) casts a limit on the computation time of the hitting prob for each state.\n",
    "    Saves the plot to a file provided by the string `figName`.\n",
    "    \"\"\"\n",
    "    exactProbs, numericalProbs = probFunction(minX, maxX, y, z, t)\n",
    "    \n",
    "    # plot\n",
    "    plt.scatter([x for x in exactProbs.keys()], exactProbs.values(), \n",
    "            color='b', label='exact probs', s=2)\n",
    "    plt.scatter([x for x in numericalProbs.keys()], numericalProbs.values(), \n",
    "                color='r', label='numerical probs', s=2)\n",
    "\n",
    "    # add graph features\n",
    "    plt.xlabel('x')\n",
    "    plt.ylabel('P(loser = Player 1)')\n",
    "    plt.title(f\"Hitting probabilities for different x values (y = {y}, z = {z})\")\n",
    "    plt.legend()\n",
    "\n",
    "    plt.savefig(FIG_NAME)\n",
    "    plt.show()"
   ]
  },
  {
   "cell_type": "code",
   "execution_count": 38,
   "id": "968f861b",
   "metadata": {},
   "outputs": [
    {
     "name": "stdout",
     "output_type": "stream",
     "text": [
      "maximum recursion depth exceeded for state (1, 100, 200)\n",
      "maximum recursion depth exceeded for state (2, 100, 200)\n",
      "maximum recursion depth exceeded for state (3, 100, 200)\n",
      "Took too long to find the hitting prob for state (4, 100, 200)\n",
      "Took too long to find the hitting prob for state (5, 100, 200)\n",
      "maximum recursion depth exceeded for state (6, 100, 200)\n",
      "maximum recursion depth exceeded for state (7, 100, 200)\n",
      "Took too long to find the hitting prob for state (8, 100, 200)\n",
      "maximum recursion depth exceeded for state (9, 100, 200)\n",
      "maximum recursion depth exceeded for state (11, 100, 200)\n",
      "Took too long to find the hitting prob for state (12, 100, 200)\n",
      "maximum recursion depth exceeded for state (13, 100, 200)\n",
      "maximum recursion depth exceeded for state (14, 100, 200)\n",
      "Took too long to find the hitting prob for state (15, 100, 200)\n",
      "Took too long to find the hitting prob for state (16, 100, 200)\n",
      "maximum recursion depth exceeded for state (17, 100, 200)\n",
      "maximum recursion depth exceeded for state (18, 100, 200)\n",
      "maximum recursion depth exceeded for state (19, 100, 200)\n",
      "maximum recursion depth exceeded for state (21, 100, 200)\n",
      "maximum recursion depth exceeded for state (22, 100, 200)\n",
      "maximum recursion depth exceeded for state (23, 100, 200)\n",
      "Took too long to find the hitting prob for state (24, 100, 200)\n",
      "maximum recursion depth exceeded for state (26, 100, 200)\n",
      "maximum recursion depth exceeded for state (27, 100, 200)\n",
      "Took too long to find the hitting prob for state (28, 100, 200)\n",
      "maximum recursion depth exceeded for state (29, 100, 200)\n",
      "maximum recursion depth exceeded for state (31, 100, 200)\n",
      "Took too long to find the hitting prob for state (32, 100, 200)\n",
      "maximum recursion depth exceeded for state (33, 100, 200)\n",
      "maximum recursion depth exceeded for state (34, 100, 200)\n",
      "Took too long to find the hitting prob for state (35, 100, 200)\n",
      "Took too long to find the hitting prob for state (36, 100, 200)\n",
      "maximum recursion depth exceeded for state (37, 100, 200)\n",
      "maximum recursion depth exceeded for state (38, 100, 200)\n",
      "maximum recursion depth exceeded for state (39, 100, 200)\n",
      "maximum recursion depth exceeded for state (41, 100, 200)\n",
      "maximum recursion depth exceeded for state (42, 100, 200)\n",
      "maximum recursion depth exceeded for state (43, 100, 200)\n",
      "Took too long to find the hitting prob for state (44, 100, 200)\n",
      "Took too long to find the hitting prob for state (45, 100, 200)\n",
      "maximum recursion depth exceeded for state (46, 100, 200)\n",
      "maximum recursion depth exceeded for state (47, 100, 200)\n",
      "Took too long to find the hitting prob for state (48, 100, 200)\n",
      "maximum recursion depth exceeded for state (49, 100, 200)\n",
      "maximum recursion depth exceeded for state (51, 100, 200)\n",
      "Took too long to find the hitting prob for state (52, 100, 200)\n",
      "maximum recursion depth exceeded for state (53, 100, 200)\n",
      "maximum recursion depth exceeded for state (54, 100, 200)\n",
      "Took too long to find the hitting prob for state (55, 100, 200)\n",
      "Took too long to find the hitting prob for state (56, 100, 200)\n",
      "maximum recursion depth exceeded for state (57, 100, 200)\n",
      "maximum recursion depth exceeded for state (58, 100, 200)\n",
      "maximum recursion depth exceeded for state (59, 100, 200)\n",
      "maximum recursion depth exceeded for state (61, 100, 200)\n",
      "Took too long to find the hitting prob for state (62, 100, 200)\n",
      "maximum recursion depth exceeded for state (63, 100, 200)\n",
      "Took too long to find the hitting prob for state (64, 100, 200)\n",
      "Took too long to find the hitting prob for state (65, 100, 200)\n",
      "maximum recursion depth exceeded for state (66, 100, 200)\n",
      "maximum recursion depth exceeded for state (67, 100, 200)\n",
      "Took too long to find the hitting prob for state (68, 100, 200)\n",
      "maximum recursion depth exceeded for state (69, 100, 200)\n",
      "maximum recursion depth exceeded for state (71, 100, 200)\n",
      "Took too long to find the hitting prob for state (72, 100, 200)\n",
      "maximum recursion depth exceeded for state (73, 100, 200)\n",
      "Took too long to find the hitting prob for state (74, 100, 200)\n",
      "Took too long to find the hitting prob for state (76, 100, 200)\n",
      "maximum recursion depth exceeded for state (77, 100, 200)\n",
      "maximum recursion depth exceeded for state (78, 100, 200)\n",
      "maximum recursion depth exceeded for state (79, 100, 200)\n",
      "maximum recursion depth exceeded for state (81, 100, 200)\n",
      "Took too long to find the hitting prob for state (82, 100, 200)\n",
      "maximum recursion depth exceeded for state (83, 100, 200)\n",
      "Took too long to find the hitting prob for state (84, 100, 200)\n",
      "Took too long to find the hitting prob for state (85, 100, 200)\n",
      "Took too long to find the hitting prob for state (86, 100, 200)\n",
      "maximum recursion depth exceeded for state (87, 100, 200)\n",
      "Took too long to find the hitting prob for state (88, 100, 200)\n",
      "maximum recursion depth exceeded for state (89, 100, 200)\n",
      "maximum recursion depth exceeded for state (91, 100, 200)\n",
      "Took too long to find the hitting prob for state (92, 100, 200)\n",
      "maximum recursion depth exceeded for state (93, 100, 200)\n",
      "Took too long to find the hitting prob for state (94, 100, 200)\n",
      "Took too long to find the hitting prob for state (95, 100, 200)\n",
      "Took too long to find the hitting prob for state (96, 100, 200)\n",
      "maximum recursion depth exceeded for state (97, 100, 200)\n",
      "Took too long to find the hitting prob for state (98, 100, 200)\n",
      "maximum recursion depth exceeded for state (99, 100, 200)\n",
      "maximum recursion depth exceeded for state (101, 100, 200)\n",
      "Took too long to find the hitting prob for state (102, 100, 200)\n",
      "maximum recursion depth exceeded for state (103, 100, 200)\n",
      "Took too long to find the hitting prob for state (104, 100, 200)\n",
      "Took too long to find the hitting prob for state (105, 100, 200)\n",
      "Took too long to find the hitting prob for state (106, 100, 200)\n",
      "maximum recursion depth exceeded for state (107, 100, 200)\n",
      "Took too long to find the hitting prob for state (108, 100, 200)\n",
      "maximum recursion depth exceeded for state (109, 100, 200)\n",
      "maximum recursion depth exceeded for state (111, 100, 200)\n",
      "Took too long to find the hitting prob for state (112, 100, 200)\n",
      "maximum recursion depth exceeded for state (113, 100, 200)\n",
      "Took too long to find the hitting prob for state (114, 100, 200)\n",
      "Took too long to find the hitting prob for state (115, 100, 200)\n",
      "Took too long to find the hitting prob for state (116, 100, 200)\n",
      "Took too long to find the hitting prob for state (117, 100, 200)\n",
      "Took too long to find the hitting prob for state (118, 100, 200)\n",
      "maximum recursion depth exceeded for state (119, 100, 200)\n",
      "maximum recursion depth exceeded for state (121, 100, 200)\n",
      "Took too long to find the hitting prob for state (122, 100, 200)\n",
      "maximum recursion depth exceeded for state (123, 100, 200)\n",
      "Took too long to find the hitting prob for state (124, 100, 200)\n",
      "Took too long to find the hitting prob for state (126, 100, 200)\n",
      "maximum recursion depth exceeded for state (127, 100, 200)\n",
      "Took too long to find the hitting prob for state (128, 100, 200)\n",
      "maximum recursion depth exceeded for state (129, 100, 200)\n",
      "maximum recursion depth exceeded for state (131, 100, 200)\n",
      "Took too long to find the hitting prob for state (132, 100, 200)\n",
      "maximum recursion depth exceeded for state (133, 100, 200)\n",
      "Took too long to find the hitting prob for state (134, 100, 200)\n",
      "Took too long to find the hitting prob for state (135, 100, 200)\n",
      "Took too long to find the hitting prob for state (136, 100, 200)\n",
      "maximum recursion depth exceeded for state (137, 100, 200)\n",
      "Took too long to find the hitting prob for state (138, 100, 200)\n",
      "maximum recursion depth exceeded for state (139, 100, 200)\n",
      "maximum recursion depth exceeded for state (141, 100, 200)\n",
      "Took too long to find the hitting prob for state (142, 100, 200)\n",
      "maximum recursion depth exceeded for state (143, 100, 200)\n",
      "Took too long to find the hitting prob for state (144, 100, 200)\n",
      "Took too long to find the hitting prob for state (145, 100, 200)\n",
      "Took too long to find the hitting prob for state (146, 100, 200)\n",
      "maximum recursion depth exceeded for state (147, 100, 200)\n",
      "maximum recursion depth exceeded for state (148, 100, 200)\n",
      "maximum recursion depth exceeded for state (149, 100, 200)\n",
      "maximum recursion depth exceeded for state (151, 100, 200)\n",
      "Took too long to find the hitting prob for state (152, 100, 200)\n",
      "maximum recursion depth exceeded for state (153, 100, 200)\n"
     ]
    },
    {
     "name": "stdout",
     "output_type": "stream",
     "text": [
      "maximum recursion depth exceeded for state (154, 100, 200)\n",
      "Took too long to find the hitting prob for state (155, 100, 200)\n",
      "Took too long to find the hitting prob for state (156, 100, 200)\n",
      "maximum recursion depth exceeded for state (157, 100, 200)\n",
      "maximum recursion depth exceeded for state (158, 100, 200)\n",
      "maximum recursion depth exceeded for state (159, 100, 200)\n",
      "maximum recursion depth exceeded for state (161, 100, 200)\n",
      "Took too long to find the hitting prob for state (162, 100, 200)\n",
      "maximum recursion depth exceeded for state (163, 100, 200)\n",
      "maximum recursion depth exceeded for state (164, 100, 200)\n",
      "Took too long to find the hitting prob for state (165, 100, 200)\n",
      "maximum recursion depth exceeded for state (166, 100, 200)\n",
      "maximum recursion depth exceeded for state (167, 100, 200)\n",
      "Took too long to find the hitting prob for state (168, 100, 200)\n",
      "maximum recursion depth exceeded for state (169, 100, 200)\n",
      "maximum recursion depth exceeded for state (171, 100, 200)\n",
      "maximum recursion depth exceeded for state (172, 100, 200)\n",
      "maximum recursion depth exceeded for state (173, 100, 200)\n",
      "Took too long to find the hitting prob for state (174, 100, 200)\n",
      "Took too long to find the hitting prob for state (176, 100, 200)\n",
      "maximum recursion depth exceeded for state (177, 100, 200)\n",
      "maximum recursion depth exceeded for state (178, 100, 200)\n",
      "maximum recursion depth exceeded for state (179, 100, 200)\n",
      "maximum recursion depth exceeded for state (181, 100, 200)\n",
      "maximum recursion depth exceeded for state (182, 100, 200)\n",
      "maximum recursion depth exceeded for state (183, 100, 200)\n",
      "Took too long to find the hitting prob for state (184, 100, 200)\n",
      "Took too long to find the hitting prob for state (185, 100, 200)\n",
      "maximum recursion depth exceeded for state (186, 100, 200)\n",
      "maximum recursion depth exceeded for state (187, 100, 200)\n",
      "maximum recursion depth exceeded for state (188, 100, 200)\n",
      "maximum recursion depth exceeded for state (189, 100, 200)\n",
      "Took too long to find the hitting prob for state (190, 100, 200)\n",
      "maximum recursion depth exceeded for state (191, 100, 200)\n",
      "Took too long to find the hitting prob for state (192, 100, 200)\n",
      "maximum recursion depth exceeded for state (193, 100, 200)\n",
      "maximum recursion depth exceeded for state (194, 100, 200)\n",
      "Took too long to find the hitting prob for state (195, 100, 200)\n",
      "maximum recursion depth exceeded for state (196, 100, 200)\n",
      "maximum recursion depth exceeded for state (197, 100, 200)\n",
      "maximum recursion depth exceeded for state (198, 100, 200)\n",
      "maximum recursion depth exceeded for state (199, 100, 200)\n",
      "maximum recursion depth exceeded for state (201, 100, 200)\n",
      "maximum recursion depth exceeded for state (202, 100, 200)\n",
      "maximum recursion depth exceeded for state (203, 100, 200)\n",
      "maximum recursion depth exceeded for state (204, 100, 200)\n",
      "Took too long to find the hitting prob for state (205, 100, 200)\n",
      "maximum recursion depth exceeded for state (206, 100, 200)\n",
      "maximum recursion depth exceeded for state (207, 100, 200)\n",
      "Took too long to find the hitting prob for state (208, 100, 200)\n",
      "maximum recursion depth exceeded for state (209, 100, 200)\n",
      "Took too long to find the hitting prob for state (210, 100, 200)\n",
      "maximum recursion depth exceeded for state (211, 100, 200)\n",
      "maximum recursion depth exceeded for state (212, 100, 200)\n",
      "maximum recursion depth exceeded for state (213, 100, 200)\n",
      "maximum recursion depth exceeded for state (214, 100, 200)\n",
      "Took too long to find the hitting prob for state (215, 100, 200)\n",
      "Took too long to find the hitting prob for state (216, 100, 200)\n",
      "maximum recursion depth exceeded for state (217, 100, 200)\n",
      "maximum recursion depth exceeded for state (218, 100, 200)\n",
      "maximum recursion depth exceeded for state (219, 100, 200)\n",
      "maximum recursion depth exceeded for state (221, 100, 200)\n",
      "maximum recursion depth exceeded for state (222, 100, 200)\n",
      "maximum recursion depth exceeded for state (223, 100, 200)\n",
      "maximum recursion depth exceeded for state (224, 100, 200)\n",
      "maximum recursion depth exceeded for state (226, 100, 200)\n",
      "maximum recursion depth exceeded for state (227, 100, 200)\n",
      "maximum recursion depth exceeded for state (228, 100, 200)\n",
      "maximum recursion depth exceeded for state (229, 100, 200)\n",
      "Took too long to find the hitting prob for state (230, 100, 200)\n",
      "maximum recursion depth exceeded for state (231, 100, 200)\n",
      "maximum recursion depth exceeded for state (232, 100, 200)\n",
      "maximum recursion depth exceeded for state (233, 100, 200)\n",
      "maximum recursion depth exceeded for state (234, 100, 200)\n",
      "Took too long to find the hitting prob for state (235, 100, 200)\n",
      "Took too long to find the hitting prob for state (236, 100, 200)\n",
      "maximum recursion depth exceeded for state (237, 100, 200)\n",
      "maximum recursion depth exceeded for state (238, 100, 200)\n",
      "maximum recursion depth exceeded for state (239, 100, 200)\n",
      "maximum recursion depth exceeded for state (241, 100, 200)\n",
      "maximum recursion depth exceeded for state (242, 100, 200)\n",
      "maximum recursion depth exceeded for state (243, 100, 200)\n",
      "maximum recursion depth exceeded for state (244, 100, 200)\n",
      "Took too long to find the hitting prob for state (245, 100, 200)\n",
      "maximum recursion depth exceeded for state (246, 100, 200)\n",
      "maximum recursion depth exceeded for state (247, 100, 200)\n",
      "maximum recursion depth exceeded for state (248, 100, 200)\n",
      "maximum recursion depth exceeded for state (249, 100, 200)\n",
      "maximum recursion depth exceeded for state (251, 100, 200)\n",
      "maximum recursion depth exceeded for state (252, 100, 200)\n",
      "maximum recursion depth exceeded for state (253, 100, 200)\n",
      "maximum recursion depth exceeded for state (254, 100, 200)\n",
      "Took too long to find the hitting prob for state (255, 100, 200)\n",
      "maximum recursion depth exceeded for state (256, 100, 200)\n",
      "maximum recursion depth exceeded for state (257, 100, 200)\n",
      "maximum recursion depth exceeded for state (258, 100, 200)\n",
      "maximum recursion depth exceeded for state (259, 100, 200)\n",
      "maximum recursion depth exceeded for state (261, 100, 200)\n",
      "maximum recursion depth exceeded for state (262, 100, 200)\n",
      "maximum recursion depth exceeded for state (263, 100, 200)\n",
      "maximum recursion depth exceeded for state (264, 100, 200)\n",
      "Took too long to find the hitting prob for state (265, 100, 200)\n",
      "maximum recursion depth exceeded for state (266, 100, 200)\n",
      "maximum recursion depth exceeded for state (267, 100, 200)\n",
      "maximum recursion depth exceeded for state (268, 100, 200)\n",
      "maximum recursion depth exceeded for state (269, 100, 200)\n",
      "Took too long to find the hitting prob for state (270, 100, 200)\n",
      "maximum recursion depth exceeded for state (271, 100, 200)\n",
      "maximum recursion depth exceeded for state (272, 100, 200)\n",
      "maximum recursion depth exceeded for state (273, 100, 200)\n",
      "maximum recursion depth exceeded for state (274, 100, 200)\n",
      "maximum recursion depth exceeded for state (276, 100, 200)\n",
      "maximum recursion depth exceeded for state (277, 100, 200)\n",
      "Took too long to find the hitting prob for state (278, 100, 200)\n",
      "maximum recursion depth exceeded for state (279, 100, 200)\n",
      "maximum recursion depth exceeded for state (281, 100, 200)\n",
      "maximum recursion depth exceeded for state (282, 100, 200)\n",
      "maximum recursion depth exceeded for state (283, 100, 200)\n",
      "maximum recursion depth exceeded for state (284, 100, 200)\n",
      "Took too long to find the hitting prob for state (285, 100, 200)\n",
      "maximum recursion depth exceeded for state (286, 100, 200)\n",
      "maximum recursion depth exceeded for state (287, 100, 200)\n",
      "maximum recursion depth exceeded for state (288, 100, 200)\n",
      "maximum recursion depth exceeded for state (289, 100, 200)\n",
      "Took too long to find the hitting prob for state (290, 100, 200)\n",
      "maximum recursion depth exceeded for state (291, 100, 200)\n",
      "maximum recursion depth exceeded for state (292, 100, 200)\n",
      "maximum recursion depth exceeded for state (293, 100, 200)\n",
      "maximum recursion depth exceeded for state (294, 100, 200)\n",
      "Took too long to find the hitting prob for state (295, 100, 200)\n",
      "maximum recursion depth exceeded for state (296, 100, 200)\n",
      "maximum recursion depth exceeded for state (297, 100, 200)\n",
      "maximum recursion depth exceeded for state (298, 100, 200)\n",
      "maximum recursion depth exceeded for state (299, 100, 200)\n"
     ]
    },
    {
     "data": {
      "image/png": "[encoded data removed]",
      "text/plain": [
       "<Figure size 640x480 with 1 Axes>"
      ]
     },
     "metadata": {},
     "output_type": "display_data"
    }
   ],
   "source": [
    "plotXforFixedYZ(1, 300, 100, 200, t=30)"
   ]
  },
  {
   "cell_type": "code",
   "execution_count": 32,
   "id": "a24081c4",
   "metadata": {},
   "outputs": [],
   "source": [
    "class TimeoutException(Exception):\n",
    "    \"\"\"\n",
    "    Custom exception for timeout.\n",
    "    \"\"\"\n",
    "    pass\n",
    "\n",
    "def sigalarmHandler(signum, frame):\n",
    "    \"\"\"\n",
    "    Handler function to be called when SIGALRM is received.\n",
    "    \"\"\"\n",
    "    # We get signal!\n",
    "    raise TimeoutException()"
   ]
  },
  {
   "cell_type": "code",
   "execution_count": null,
   "id": "5c711704",
   "metadata": {},
   "outputs": [
    {
     "name": "stdout",
     "output_type": "stream",
     "text": [
      "Took too long to find the hitting prob for state (9, 20, 20)\n",
      "Took too long to find the hitting prob for state (11, 20, 20)\n",
      "Took too long to find the hitting prob for state (13, 20, 20)\n"
     ]
    }
   ],
   "source": [
    "plotXforFixedYZ(1, 100, 20, 20, t=30)"
   ]
  },
  {
   "cell_type": "markdown",
   "id": "f4ea4254",
   "metadata": {},
   "source": [
    "## Adapted code using memoization"
   ]
  },
  {
   "cell_type": "markdown",
   "id": "f14ad465",
   "metadata": {},
   "source": [
    "Adapt fixed sum code to vary x for fixed y & z."
   ]
  },
  {
   "cell_type": "code",
   "execution_count": 7,
   "id": "3fe0cfe9",
   "metadata": {},
   "outputs": [],
   "source": [
    "import numpy as np"
   ]
  },
  {
   "cell_type": "code",
   "execution_count": 8,
   "id": "526a04d8",
   "metadata": {},
   "outputs": [],
   "source": [
    "def memoize(f):\n",
    "    \"\"\" Memoization decorator for functions taking one or more arguments. \"\"\"\n",
    "    class memodict(dict):\n",
    "        def __init__(self, f):\n",
    "            self.f = f\n",
    "\n",
    "        def __call__(self, *args):\n",
    "            return self[args]\n",
    "\n",
    "        def __missing__(self, key):\n",
    "            ret = self[key] = self.f(*key)\n",
    "            return ret\n",
    "\n",
    "    return memodict(f)\n",
    "\n",
    "def out2(u,v):\n",
    "    m=min(u,v)\n",
    "    yield (u+m,v-m)\n",
    "    yield (u-m,v+m)\n",
    "\n",
    "def out3(x,y,z):\n",
    "    for (X,Y) in out2(x,y): yield(X,Y,z)\n",
    "    for (X,Z) in out2(x,z): yield(X,y,Z)\n",
    "    for (Y,Z) in out2(y,z): yield(x,Y,Z)\n",
    "\n",
    " \n",
    "@memoize\n",
    "def Q(x,y,z,t=0):\n",
    "    if x==0: return 1\n",
    "    if z*y==0: return 0\n",
    "    if z<y: return Q(x,z,y,t)  # put smaller stack size at front\n",
    "    if t==0: return 0\n",
    "    return sum(Q(X,Y,Z,t-1) for (X,Y,Z) in out3(x,y,z))/6\n",
    "\n",
    "def precomp(N,t):\n",
    "    for x in range(N+1):\n",
    "        for y in range(N+1-x):\n",
    "            return Q(x,y,N-x-y,t)"
   ]
  },
  {
   "cell_type": "code",
   "execution_count": 19,
   "id": "719e6089",
   "metadata": {},
   "outputs": [
    {
     "data": {
      "text/plain": [
       "1"
      ]
     },
     "execution_count": 19,
     "metadata": {},
     "output_type": "execute_result"
    }
   ],
   "source": [
    "precomp(2000,10)"
   ]
  },
  {
   "cell_type": "code",
   "execution_count": null,
   "id": "a63dac91",
   "metadata": {
    "scrolled": true
   },
   "outputs": [],
   "source": [
    "# Example\n",
    "# N=2000\n",
    "\n",
    "# with open(\"poker_two_play_simplex_2000.txt\",\"a\") as ff:\n",
    "#     for x in range(N+1):\n",
    "#         for y in range(N+1-x):\n",
    "#             ff.write(str(x)+\" \"+str(y)+\" \"+str(N-x-y)+\" \"+str(Q(x,y,N-x-y,10))+\"\\n\")"
   ]
  },
  {
   "cell_type": "code",
   "execution_count": 9,
   "id": "581c6842",
   "metadata": {},
   "outputs": [],
   "source": [
    "def varyX_memoized(minX, maxX, y, z, t=10):\n",
    "    return {}, {x:Q(x,y,z,t) for x in range(minX, maxX)} # no exact probs - just to comply with the return values of varyX"
   ]
  },
  {
   "cell_type": "code",
   "execution_count": 10,
   "id": "b800f61b",
   "metadata": {},
   "outputs": [
    {
     "data": {
      "text/plain": [
       "({},\n",
       " {1: 0.5292680655049197,\n",
       "  2: 0.521353326527545,\n",
       "  3: 0.5092737466976579,\n",
       "  4: 0.5004434876119833,\n",
       "  5: 0.49122878218725124,\n",
       "  6: 0.47808047262654746,\n",
       "  7: 0.4498510373799726,\n",
       "  8: 0.4425199304814645,\n",
       "  9: 0.43678178027993697,\n",
       "  10: 0.4285657819670951,\n",
       "  11: 0.4043071286664465,\n",
       "  12: 0.39910167297498683,\n",
       "  13: 0.39254663632110615,\n",
       "  14: 0.3769258700930583,\n",
       "  15: 0.3725328686239395,\n",
       "  16: 0.3678566675028366,\n",
       "  17: 0.36322505329260446,\n",
       "  18: 0.3591694636022625,\n",
       "  19: 0.3567542951616454})"
      ]
     },
     "execution_count": 10,
     "metadata": {},
     "output_type": "execute_result"
    }
   ],
   "source": [
    "varyX_memoized(1, 20, 20, 20)"
   ]
  },
  {
   "cell_type": "code",
   "execution_count": 11,
   "id": "333a3417",
   "metadata": {},
   "outputs": [
    {
     "data": {
      "image/png": "[encoded data removed]",
      "text/plain": [
       "<Figure size 640x480 with 1 Axes>"
      ]
     },
     "metadata": {},
     "output_type": "display_data"
    }
   ],
   "source": [
    "plotXforFixedYZ(1, 300, 100, 200, probFunction=varyX_memoized, t=10)"
   ]
  },
  {
   "cell_type": "markdown",
   "id": "57c2214a",
   "metadata": {},
   "source": [
    "# Game 2"
   ]
  },
  {
   "cell_type": "code",
   "execution_count": 12,
   "id": "e41145bb",
   "metadata": {},
   "outputs": [],
   "source": [
    "%run Game2.ipynb"
   ]
  },
  {
   "cell_type": "code",
   "execution_count": 13,
   "id": "4d9a23d8",
   "metadata": {},
   "outputs": [],
   "source": [
    "def memoize(f):\n",
    "    \"\"\" Memoization decorator for functions taking one or more arguments. \"\"\"\n",
    "    class memodict(dict):\n",
    "        def __init__(self, f):\n",
    "            self.f = f\n",
    "\n",
    "        def __call__(self, *args):\n",
    "            return self[args]\n",
    "\n",
    "        def __missing__(self, key):\n",
    "            ret = self[key] = self.f(*key)\n",
    "            return ret\n",
    "\n",
    "    return memodict(f)\n",
    "\n",
    "\n",
    "@memoize\n",
    "def Q(x,y,z,t=0):\n",
    "    if x==0:\n",
    "        return 1 if z*y>0 else 1/2\n",
    "    if z*y==0: return 0\n",
    "    if t==0: return 1/3\n",
    "    m = min(x,y,z)\n",
    "    return (np.longdouble(np.longdouble(Q(x+2*m,y-m,z-m,t-1)) + np.longdouble(Q(x-m,y+2*m,z-m,t-1))+ np.longdouble(Q(x-m,y-m,z+2*m,t-1))))/3\n",
    "\n",
    "\n",
    "def precomp(N,t):\n",
    "    for x in range(N+1):\n",
    "        for y in range(N+1-x):\n",
    "            Q(x,y,N-x-y,t)"
   ]
  },
  {
   "cell_type": "code",
   "execution_count": 14,
   "id": "fca51423",
   "metadata": {},
   "outputs": [
    {
     "data": {
      "image/png": "[encoded data removed]",
      "text/plain": [
       "<Figure size 640x480 with 1 Axes>"
      ]
     },
     "metadata": {},
     "output_type": "display_data"
    }
   ],
   "source": [
    "plotXforFixedYZ(1, 300, 100, 200, probFunction=varyX_memoized, t=10)"
   ]
  },
  {
   "cell_type": "code",
   "execution_count": null,
   "id": "d4a252dd",
   "metadata": {},
   "outputs": [],
   "source": []
  }
 ],
 "metadata": {
  "kernelspec": {
   "display_name": "Python 3 (ipykernel)",
   "language": "python",
   "name": "python3"
  },
  "language_info": {
   "codemirror_mode": {
    "name": "ipython",
    "version": 3
   },
   "file_extension": ".py",
   "mimetype": "text/x-python",
   "name": "python",
   "nbconvert_exporter": "python",
   "pygments_lexer": "ipython3",
   "version": "3.9.18"
  }
 },
 "nbformat": 4,
 "nbformat_minor": 5
}
