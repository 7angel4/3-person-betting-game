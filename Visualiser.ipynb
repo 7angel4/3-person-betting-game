{
 "cells": [
  {
   "cell_type": "code",
   "execution_count": 1,
   "id": "1324c86d",
   "metadata": {},
   "outputs": [],
   "source": [
    "%run LoserAnalysis.ipynb"
   ]
  },
  {
   "cell_type": "markdown",
   "id": "9ef6b1ac",
   "metadata": {},
   "source": [
    "# Plot x for fixed y & z"
   ]
  },
  {
   "cell_type": "code",
   "execution_count": 2,
   "id": "1404446b",
   "metadata": {},
   "outputs": [],
   "source": [
    "import matplotlib.pyplot as plt\n",
    "TIME_LIM = 60  # seconds"
   ]
  },
  {
   "cell_type": "code",
   "execution_count": null,
   "id": "77158738",
   "metadata": {
    "scrolled": true
   },
   "outputs": [
    {
     "name": "stdout",
     "output_type": "stream",
     "text": [
      "maximum recursion depth exceeded for state (1, 100, 100)\n",
      "Took too long to find the hitting prob for state (2, 100, 100)\n",
      "Took too long to find the hitting prob for state (3, 100, 100)\n"
     ]
    }
   ],
   "source": [
    "y = 100\n",
    "z = 100\n",
    "xs = range(1,301)\n",
    "probs = {}\n",
    "\n",
    "for x in xs:\n",
    "    state = (x,y,z)\n",
    "    # Set up signal handler for SIGALRM, saving previous value\n",
    "    oldHandler = signal.signal(signal.SIGALRM, sigalarmHandler)\n",
    "    # Start timer\n",
    "    signal.alarm(TIME_LIM)\n",
    "    try:\n",
    "        probs[state] = LoserAnalysis(state).getHittingProb()\n",
    "    except TimeoutException:\n",
    "        print(f'Took too long to find the hitting prob for state {state}')\n",
    "    except RecursionError:\n",
    "        print(f'maximum recursion depth exceeded for state {state}')\n",
    "    finally:\n",
    "        # Turn off timer\n",
    "        signal.alarm(0)\n",
    "        # Restore handler to previous value\n",
    "        signal.signal(signal.SIGALRM, oldHandler)"
   ]
  },
  {
   "cell_type": "code",
   "execution_count": null,
   "id": "814b7c37",
   "metadata": {},
   "outputs": [],
   "source": [
    "# use numerical approximation for the unrecorded states\n",
    "missedStates = [(x,y,z) for x in xs if (x,y,z) not in probs]\n",
    "numericalProbs = {s:LoserAnalysis(s).getHittingProbNumerical() for s in missedStates}\n",
    "numericalProbs"
   ]
  },
  {
   "cell_type": "code",
   "execution_count": null,
   "id": "e08a4244",
   "metadata": {},
   "outputs": [],
   "source": [
    "# plot x (1-300) for fixed y & z (100)\n",
    "plt.scatter(probs.keys(), probs.values(), s=5, color='r')\n",
    "plt.scatter(numericalProbs.keys(), numericalProbs.values(), s=5, color='b')\n",
    "plt.show()"
   ]
  },
  {
   "cell_type": "code",
   "execution_count": null,
   "id": "a5e8629f",
   "metadata": {},
   "outputs": [],
   "source": [
    "# Automate the process\n",
    "def plotXforFixedYZ(minX, maxX, y, z, figName, timeLimit=60):\n",
    "    \"\"\"\n",
    "    Plots x values within the range [`minX`, `maxX`] (inclusive) for fixed y and z.\n",
    "    The `timeLimit` (in seconds) casts a limit on the computation time of the hitting prob for each state.\n",
    "    Saves the plot to a file provided by the string `figName`.\n",
    "    \"\"\"\n",
    "    xs = range(minX, maxX+1)\n",
    "    probs = {}\n",
    "    \n",
    "    for x in xs:\n",
    "        state = (x,y,z)\n",
    "        # Set up signal handler for SIGALRM, saving previous value\n",
    "        oldHandler = signal.signal(signal.SIGALRM, sigalarmHandler)\n",
    "        # Start timer\n",
    "        signal.alarm(TIME_LIM)\n",
    "        try:\n",
    "            probs[state] = LoserAnalysis(state).getHittingProb()\n",
    "        except TimeoutException:\n",
    "            print(f'Took too long to find the hitting prob for state {state}')\n",
    "        except RecursionError:\n",
    "            print(f'maximum recursion depth exceeded for state {state}')\n",
    "        finally:\n",
    "            # Turn off timer\n",
    "            signal.alarm(0)\n",
    "            # Restore handler to previous value\n",
    "            signal.signal(signal.SIGALRM, oldHandler)\n",
    "        \n",
    "    # use numerical approximation for the unrecorded states\n",
    "    missedStates = [(x,y,z) for x in xs if (x,y,z) not in probs]\n",
    "    numericalProbs = {s:LoserAnalysis(s).getHittingProbNumerical() for s in missedStates}\n",
    "    \n",
    "    plt.scatter(probs.keys(), probs.values(), s=5, color='b')\n",
    "    plt.scatter(numericalProbs.keys(), numericalProbs.values(), s=5, color='r')\n",
    "    plt.savefig(figName)\n",
    "    plt.show()"
   ]
  },
  {
   "cell_type": "code",
   "execution_count": null,
   "id": "2dd1b0f5",
   "metadata": {},
   "outputs": [],
   "source": []
  }
 ],
 "metadata": {
  "kernelspec": {
   "display_name": "Python 3 (ipykernel)",
   "language": "python",
   "name": "python3"
  },
  "language_info": {
   "codemirror_mode": {
    "name": "ipython",
    "version": 3
   },
   "file_extension": ".py",
   "mimetype": "text/x-python",
   "name": "python",
   "nbconvert_exporter": "python",
   "pygments_lexer": "ipython3",
   "version": "3.9.18"
  }
 },
 "nbformat": 4,
 "nbformat_minor": 5
}
