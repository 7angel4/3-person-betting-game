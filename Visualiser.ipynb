{
 "cells": [
  {
   "cell_type": "markdown",
   "id": "9ef6b1ac",
   "metadata": {},
   "source": [
    "# Plot x for fixed y & z"
   ]
  },
  {
   "cell_type": "code",
   "execution_count": 3,
   "id": "1404446b",
   "metadata": {},
   "outputs": [],
   "source": [
    "import matplotlib.pyplot as plt\n",
    "import matplotlib.patches as mpatches\n",
    "from matplotlib.lines import Line2D\n",
    "TIME_LIM = 30  # seconds or time steps"
   ]
  },
  {
   "cell_type": "code",
   "execution_count": 4,
   "id": "8314ef3e",
   "metadata": {},
   "outputs": [],
   "source": [
    "def varyX(minX, maxX, y, z, timeLimit=30):\n",
    "    xs = range(minX, maxX+1)\n",
    "    probs = {}\n",
    "    \n",
    "    for x in xs:\n",
    "        state = (x,y,z)\n",
    "        # Set up signal handler for SIGALRM, saving previous value\n",
    "        oldHandler = signal.signal(signal.SIGALRM, sigalarmHandler)\n",
    "        # Start timer\n",
    "        signal.alarm(TIME_LIM)\n",
    "        try:\n",
    "            probs[x] = LoserAnalysis(state).getHittingProb()\n",
    "        except TimeoutException:\n",
    "            print(f'Took too long to find the hitting prob for state {state}')\n",
    "        except RecursionError:\n",
    "            print(f'maximum recursion depth exceeded for state {state}')\n",
    "        finally:\n",
    "            # Turn off timer\n",
    "            signal.alarm(0)\n",
    "            # Restore handler to previous value\n",
    "            signal.signal(signal.SIGALRM, oldHandler)\n",
    "        \n",
    "    # use numerical approximation for the unrecorded states\n",
    "    missedStates = [(x,y,z) for x in xs if x not in probs]\n",
    "    approxProbs = {s[0]:LoserAnalysis(s).getHittingProb(approx=True) for s in missedStates}\n",
    "    \n",
    "    return probs, approxProbs"
   ]
  },
  {
   "cell_type": "code",
   "execution_count": 5,
   "id": "2407206d",
   "metadata": {},
   "outputs": [],
   "source": [
    "def varyX_memoised(minX, maxX, y, z, t=10):\n",
    "    return {}, {x:Q(x,y,z,t) for x in range(minX, maxX+1)} # no exact probs - just to comply with the return values of varyX"
   ]
  },
  {
   "cell_type": "code",
   "execution_count": 6,
   "id": "a5e8629f",
   "metadata": {},
   "outputs": [],
   "source": [
    "# Automate the process\n",
    "def plotXforFixedYZ(minX, maxX, y, z, filename, probFunction=varyX, t=30, markerSize=2, color='r'):\n",
    "    \"\"\"\n",
    "    Plots x values within the range [`minX`, `maxX`] (inclusive) for fixed y and z.\n",
    "    The `timeLimit` (in seconds) casts a limit on the computation time of the hitting prob for each state.\n",
    "    Saves the plot to a file provided by the string `figName`.\n",
    "    \"\"\"\n",
    "    exactProbs, approxProbs = probFunction(minX, maxX, y, z, t)\n",
    "    \n",
    "    # plot\n",
    "    plt.scatter([x for x in approxProbs.keys()], approxProbs.values(), \n",
    "                color=color, label='approx probs', s=markerSize)\n",
    "    \n",
    "    if probFunction == varyX: # has a mixture of exact and approx probs\n",
    "        plt.scatter([x for x in exactProbs.keys()], exactProbs.values(), \n",
    "                color='b', label='exact probs', s=markerSize)\n",
    "        plt.legend()\n",
    "\n",
    "    # add graph features\n",
    "    plt.xlabel('x')\n",
    "    plt.ylabel('P(loser = Player 1)')\n",
    "    plt.title(f\"Hitting probabilities for different x values (y = {y}, z = {z})\")\n",
    "\n",
    "    plt.savefig(filename)\n",
    "    plt.show()"
   ]
  },
  {
   "cell_type": "code",
   "execution_count": 4,
   "id": "a24081c4",
   "metadata": {},
   "outputs": [],
   "source": [
    "class TimeoutException(Exception):\n",
    "    \"\"\"\n",
    "    Custom exception for timeout.\n",
    "    \"\"\"\n",
    "    pass\n",
    "\n",
    "def sigalarmHandler(signum, frame):\n",
    "    \"\"\"\n",
    "    Handler function to be called when SIGALRM is received.\n",
    "    \"\"\"\n",
    "    # We get signal!\n",
    "    raise TimeoutException()"
   ]
  },
  {
   "cell_type": "markdown",
   "id": "65e1e2de",
   "metadata": {},
   "source": [
    "# Fixed sum, varying x, y, z"
   ]
  },
  {
   "cell_type": "code",
   "execution_count": 7,
   "id": "fe97acd7",
   "metadata": {},
   "outputs": [],
   "source": [
    "import matplotlib as mpl\n",
    "import matplotlib.cm as cm"
   ]
  },
  {
   "cell_type": "code",
   "execution_count": 9,
   "id": "ebdf618e",
   "metadata": {},
   "outputs": [],
   "source": [
    "def mapProbsToColors(ps):\n",
    "    minima = min(ps)\n",
    "    maxima = max(ps)\n",
    "\n",
    "    norm = mpl.colors.Normalize(vmin=minima, vmax=maxima, clip=True)\n",
    "    mapper = cm.ScalarMappable(norm=norm, cmap=cm.gist_rainbow)\n",
    "\n",
    "    colors = [mapper.to_rgba(p)[:3] for p in ps]  # only keep the rgb (but not a) values\n",
    "    return colors"
   ]
  },
  {
   "cell_type": "code",
   "execution_count": 13,
   "id": "d79382ea",
   "metadata": {},
   "outputs": [],
   "source": [
    "def plotFixedSum(N, filename, t=30, colorMap=cm.gist_rainbow):\n",
    "    precomp(N, t)\n",
    "    \n",
    "    states = [(N-y-z, y, z) for y in range(N+1) for z in range(N+1) if y+z <= N]\n",
    "    ys = [s[1] for s in states]\n",
    "    zs = [s[2] for s in states]\n",
    "    ps = [Q(x, y, z, 10) for x,y,z in states]  # losing probs\n",
    "    \n",
    "    colors = mapProbsToColors(ps)\n",
    "    \n",
    "    plt.scatter(ys, zs, color=colors)\n",
    "    plt.title(f'Hitting probs for x + y + z = {N}')\n",
    "    plt.xlabel('y')\n",
    "    plt.ylabel('z')\n",
    "    plt.savefig(filename)\n",
    "    \n",
    "    plt.show()"
   ]
  },
  {
   "cell_type": "code",
   "execution_count": null,
   "id": "9498e37e",
   "metadata": {},
   "outputs": [],
   "source": []
  }
 ],
 "metadata": {
  "kernelspec": {
   "display_name": "Python 3 (ipykernel)",
   "language": "python",
   "name": "python3"
  },
  "language_info": {
   "codemirror_mode": {
    "name": "ipython",
    "version": 3
   },
   "file_extension": ".py",
   "mimetype": "text/x-python",
   "name": "python",
   "nbconvert_exporter": "python",
   "pygments_lexer": "ipython3",
   "version": "3.9.18"
  }
 },
 "nbformat": 4,
 "nbformat_minor": 5
}
