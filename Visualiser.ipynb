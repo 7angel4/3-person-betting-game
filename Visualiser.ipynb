{
 "cells": [
  {
   "cell_type": "markdown",
   "id": "9ef6b1ac",
   "metadata": {},
   "source": [
    "# Plot x for fixed y & z"
   ]
  },
  {
   "cell_type": "code",
   "execution_count": 3,
   "id": "1404446b",
   "metadata": {},
   "outputs": [],
   "source": [
    "import matplotlib.pyplot as plt\n",
    "import matplotlib.patches as mpatches\n",
    "from matplotlib.lines import Line2D\n",
    "TIME_LIM = 30  # seconds or time steps"
   ]
  },
  {
   "cell_type": "code",
   "execution_count": 4,
   "id": "8314ef3e",
   "metadata": {},
   "outputs": [],
   "source": [
    "# Use exact probs if possible, approx probs (using memoisation + enumeration) as a fallback\n",
    "\n",
    "def varyX(minX, maxX, y, z, timeLimit=30):\n",
    "    \"\"\"\n",
    "    Varies x within the range [minX, maxX], for fixed y and z.\n",
    "    `timeLimit`: integer limit (in seconds) on the computation time of the hitting prob for each state (x,y,z).\n",
    "    Returns two dictionaries of state:probability pairs:\n",
    "    1) probs: states using exact probabilities\n",
    "    2) approxProbs: states whose hitting prob has to be approximated\n",
    "    \"\"\"\n",
    "    \n",
    "    xs = range(minX, maxX+1)\n",
    "    probs = {}\n",
    "    \n",
    "    for x in xs:\n",
    "        state = (x,y,z)\n",
    "        # Set up signal handler for SIGALRM, saving previous value\n",
    "        oldHandler = signal.signal(signal.SIGALRM, sigalarmHandler)\n",
    "        # Start timer\n",
    "        signal.alarm(TIME_LIM)\n",
    "        try:\n",
    "            probs[x] = LoserAnalysis(state).getHittingProb()\n",
    "        except TimeoutException:\n",
    "            print(f'Took too long to find the hitting prob for state {state}')\n",
    "        except RecursionError:\n",
    "            print(f'maximum recursion depth exceeded for state {state}')\n",
    "        finally:\n",
    "            # Turn off timer\n",
    "            signal.alarm(0)\n",
    "            # Restore handler to previous value\n",
    "            signal.signal(signal.SIGALRM, oldHandler)\n",
    "        \n",
    "    # use approximation for the unrecorded states\n",
    "    missedStates = [(x,y,z) for x in xs if x not in probs]\n",
    "    approxProbs = {s[0]:LoserAnalysis(s).getHittingProb(approx=True) for s in missedStates}\n",
    "    \n",
    "    return probs, approxProbs"
   ]
  },
  {
   "cell_type": "code",
   "execution_count": 5,
   "id": "2407206d",
   "metadata": {},
   "outputs": [],
   "source": [
    "# Approximation only (using memoisation + enumeration)\n",
    "def varyX_memoised(minX, maxX, y, z, t=10):\n",
    "    \"\"\"\n",
    "    Varies x using the approximation method (memoisation + enumeration).\n",
    "    Returns a pair: (empty dict, dictionary of x:approx hitting prob pairs)\n",
    "    \"\"\"\n",
    "    return {}, {x:Q(x,y,z,t) for x in range(minX, maxX+1)} # no exact probs - just to comply with the return values of varyX"
   ]
  },
  {
   "cell_type": "code",
   "execution_count": 6,
   "id": "a5e8629f",
   "metadata": {},
   "outputs": [],
   "source": [
    "# Automate the process\n",
    "def plotXforFixedYZ(minX, maxX, y, z, filename, probFunction=varyX, t=30, markerSize=2, color='r'):\n",
    "    \"\"\"\n",
    "    Plots x values within the range [minX, maxX] for fixed y and z.\n",
    "    - timeLimit: integer limit (in seconds) on the computation time of the hitting prob for each state.\n",
    "    - filename: name (string) of the file that the plot is to be saved to.\n",
    "    - probFunction: function to calculate the probabilities for varying x \n",
    "      (either `varyX` or `varyX_memoised`)\n",
    "    - t: number of time steps if using the approximation method.\n",
    "    \n",
    "    `markerSize` and `color` are style controls.\n",
    "    \"\"\"\n",
    "    exactProbs, approxProbs = probFunction(minX, maxX, y, z, t)\n",
    "    \n",
    "    # plot\n",
    "    plt.scatter([x for x in approxProbs.keys()], approxProbs.values(), \n",
    "                color=color, label='approx probs', s=markerSize)\n",
    "    \n",
    "    if probFunction == varyX: # has a mixture of exact and approx probs\n",
    "        plt.scatter([x for x in exactProbs.keys()], exactProbs.values(), \n",
    "                color='b', label='exact probs', s=markerSize)\n",
    "        plt.legend()\n",
    "\n",
    "    # add graph features\n",
    "    plt.xlabel('x')\n",
    "    plt.ylabel('P(loser = Player 1)')\n",
    "    plt.title(f\"Hitting probabilities for different x values (y = {y}, z = {z})\")\n",
    "\n",
    "    plt.savefig(filename)\n",
    "    plt.show()"
   ]
  },
  {
   "cell_type": "markdown",
   "id": "65e1e2de",
   "metadata": {},
   "source": [
    "# Fixed sum, varying x, y, z"
   ]
  },
  {
   "cell_type": "code",
   "execution_count": 7,
   "id": "fe97acd7",
   "metadata": {},
   "outputs": [],
   "source": [
    "import matplotlib as mpl\n",
    "import matplotlib.cm as cm"
   ]
  },
  {
   "cell_type": "code",
   "execution_count": 9,
   "id": "ebdf618e",
   "metadata": {},
   "outputs": [],
   "source": [
    "def mapProbsToColors(ps, colorMap=cm.gist_rainbow):\n",
    "    \"\"\"\n",
    "    Maps the provided list of probabilities (0-1) to colors.\n",
    "    \"\"\"\n",
    "    minima = min(ps)\n",
    "    maxima = max(ps)\n",
    "\n",
    "    norm = mpl.colors.Normalize(vmin=minima, vmax=maxima, clip=True)\n",
    "    mapper = cm.ScalarMappable(norm=norm, cmap=colorMap)\n",
    "\n",
    "    colors = [mapper.to_rgba(p)[:3] for p in ps]  # only keep the rgb (but not a) values\n",
    "    return colors"
   ]
  },
  {
   "cell_type": "code",
   "execution_count": 13,
   "id": "d79382ea",
   "metadata": {},
   "outputs": [],
   "source": [
    "# more color maps can be found here: https://matplotlib.org/stable/users/explain/colors/colormaps.html\n",
    "\n",
    "def plotFixedSum(N, filename, t=30, colorMap=cm.gist_rainbow):\n",
    "    \"\"\"\n",
    "    Plots the graph for fixed sum: x + y + z = N, \n",
    "    using the approximation method (memoisation + enumeration).\n",
    "    - filename: name (string) of the file that the plot is to be saved to.\n",
    "    - t: number of time steps if using the approximation method.\n",
    "    - colorMap: color map for style control.\n",
    "    \"\"\"\n",
    "    precomp(N, t)\n",
    "    \n",
    "    states = [(N-y-z, y, z) for y in range(N+1) for z in range(N+1) if y+z <= N]\n",
    "    ys = [s[1] for s in states]\n",
    "    zs = [s[2] for s in states]\n",
    "    ps = [Q(x, y, z, 10) for x,y,z in states]  # losing probs\n",
    "    \n",
    "    colors = mapProbsToColors(ps, colorMap=colorMap)\n",
    "    \n",
    "    plt.scatter(ys, zs, color=colors)\n",
    "    plt.title(f'Hitting probs for x + y + z = {N}')\n",
    "    plt.xlabel('y')\n",
    "    plt.ylabel('z')\n",
    "    plt.savefig(filename)\n",
    "    \n",
    "    plt.show()"
   ]
  },
  {
   "cell_type": "code",
   "execution_count": null,
   "id": "9498e37e",
   "metadata": {},
   "outputs": [],
   "source": []
  }
 ],
 "metadata": {
  "kernelspec": {
   "display_name": "Python 3 (ipykernel)",
   "language": "python",
   "name": "python3"
  },
  "language_info": {
   "codemirror_mode": {
    "name": "ipython",
    "version": 3
   },
   "file_extension": ".py",
   "mimetype": "text/x-python",
   "name": "python",
   "nbconvert_exporter": "python",
   "pygments_lexer": "ipython3",
   "version": "3.9.18"
  }
 },
 "nbformat": 4,
 "nbformat_minor": 5
}
