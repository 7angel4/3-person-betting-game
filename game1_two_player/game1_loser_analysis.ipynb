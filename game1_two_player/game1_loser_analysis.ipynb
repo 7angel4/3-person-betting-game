{
 "cells": [
  {
   "cell_type": "code",
   "execution_count": 16,
   "id": "d1a70240",
   "metadata": {},
   "outputs": [],
   "source": [
    "%run '../loser_analysis.ipynb'\n",
    "%run 'game1_memoisation.ipynb'"
   ]
  },
  {
   "cell_type": "code",
   "execution_count": 17,
   "id": "293cc548",
   "metadata": {},
   "outputs": [],
   "source": [
    "OUTCOME_PROB = Fraction(1, NUM_PLAYERS * (NUM_PLAYERS-1))  # 1/6"
   ]
  },
  {
   "cell_type": "code",
   "execution_count": 18,
   "id": "a8ab0103",
   "metadata": {},
   "outputs": [],
   "source": [
    "def applyMove(initState, move):\n",
    "    \"\"\"\n",
    "    Applies the given move to the initial state:\n",
    "    - initState: an integer triple representing the initial wealth of each player\n",
    "    - move: a (giver, receiver) pair\n",
    "    Returns the resulting wealth of the players as a triple.\n",
    "    \"\"\"\n",
    "    g, r = move\n",
    "    initWealth = list(initState)\n",
    "    transferAmt = min(initWealth[g-1], initWealth[r-1])  # 0-indexed\n",
    "    initWealth[g-1] -= transferAmt  # give\n",
    "    initWealth[r-1] += transferAmt  # receive\n",
    "    return tuple(initWealth)"
   ]
  },
  {
   "cell_type": "code",
   "execution_count": 19,
   "id": "87f09628",
   "metadata": {},
   "outputs": [],
   "source": [
    "def alreadyHit(state):\n",
    "    \"\"\"\n",
    "    Returns true if the given state reaches the state of Player 1 being the loser wp1, false otherwise.\n",
    "    \"\"\"\n",
    "    return state[LOSER_IDX] == 0"
   ]
  },
  {
   "cell_type": "code",
   "execution_count": null,
   "id": "4602375f",
   "metadata": {},
   "outputs": [],
   "source": []
  }
 ],
 "metadata": {
  "kernelspec": {
   "display_name": "Python 3 (ipykernel)",
   "language": "python",
   "name": "python3"
  },
  "language_info": {
   "codemirror_mode": {
    "name": "ipython",
    "version": 3
   },
   "file_extension": ".py",
   "mimetype": "text/x-python",
   "name": "python",
   "nbconvert_exporter": "python",
   "pygments_lexer": "ipython3",
   "version": "3.9.18"
  }
 },
 "nbformat": 4,
 "nbformat_minor": 5
}
