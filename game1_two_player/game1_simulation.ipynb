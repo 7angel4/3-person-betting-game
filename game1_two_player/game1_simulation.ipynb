{
 "cells": [
  {
   "cell_type": "code",
   "execution_count": 7,
   "id": "662601fd",
   "metadata": {},
   "outputs": [],
   "source": [
    "%run '../simulation.ipynb'"
   ]
  },
  {
   "cell_type": "code",
   "execution_count": 8,
   "id": "6ebabff6",
   "metadata": {},
   "outputs": [],
   "source": [
    "def give(playerWealth):\n",
    "    \"\"\"\n",
    "    Simulates the give action:\n",
    "    The minimum of the giver's and receiver's wealth is transferred from the giver to the receiver.\n",
    "    Returns the updated `playerWealth` dictionary, which consists of player:wealth key-value pairs.\n",
    "    \"\"\"\n",
    "    # randomly select a giver and receiver\n",
    "    giver = randSelectPlayer(playerWealth) \n",
    "    receiver = randSelectPlayer(playerWealth)\n",
    "    \n",
    "    v = playerWealth[giver]\n",
    "    w = playerWealth[receiver]\n",
    "    amt = min(v, w)\n",
    "    playerWealth[receiver] += amt\n",
    "    playerWealth[giver] -= amt\n",
    "    \n",
    "    return playerWealth, amt, giver, receiver"
   ]
  },
  {
   "cell_type": "markdown",
   "id": "c3d2fa8c",
   "metadata": {},
   "source": [
    "# Examples"
   ]
  },
  {
   "cell_type": "code",
   "execution_count": 12,
   "id": "b02f0e5c",
   "metadata": {},
   "outputs": [
    {
     "name": "stdout",
     "output_type": "stream",
     "text": [
      "Round 1:\n",
      "Player 3 gave Player 2 $7\n",
      "Remaining players' wealth: {1: 5, 2: 14, 3: 1}\n",
      "\n",
      "Round 2:\n",
      "Player 1 gave Player 3 $1\n",
      "Remaining players' wealth: {1: 4, 2: 14, 3: 2}\n",
      "\n",
      "Round 3:\n",
      "Player 2 gave Player 3 $2\n",
      "Remaining players' wealth: {1: 4, 2: 12, 3: 4}\n",
      "\n",
      "Round 4:\n",
      "Player 3 gave Player 3 $4\n",
      "Remaining players' wealth: {1: 4, 2: 12, 3: 4}\n",
      "\n",
      "Round 5:\n",
      "Player 1 gave Player 1 $4\n",
      "Remaining players' wealth: {1: 4, 2: 12, 3: 4}\n",
      "\n",
      "Round 6:\n",
      "Player 1 gave Player 2 $4\n",
      "Remaining players' wealth: {2: 16, 3: 4}\n",
      "\n",
      "Round 7:\n",
      "Player 2 gave Player 2 $16\n",
      "Remaining players' wealth: {2: 16, 3: 4}\n",
      "\n",
      "Round 8:\n",
      "Player 3 gave Player 2 $4\n",
      "Remaining players' wealth: {2: 20}\n",
      "\n",
      "Loser 1: 1\n",
      "Loser 2: 3\n",
      "Winner: 2\n",
      "Number of rounds played: 8\n"
     ]
    },
    {
     "data": {
      "text/plain": [
       "(2, 1, 8)"
      ]
     },
     "execution_count": 12,
     "metadata": {},
     "output_type": "execute_result"
    }
   ],
   "source": [
    "playGame(5,7,8, printProgress=True, printResult=True)\n",
    "# returns winner, loser, number of rounds"
   ]
  },
  {
   "cell_type": "code",
   "execution_count": 10,
   "id": "f19f360e",
   "metadata": {
    "scrolled": true
   },
   "outputs": [
    {
     "name": "stdout",
     "output_type": "stream",
     "text": [
      "            1      2      3\n",
      "winner  25289  34908  39803\n",
      "loser   43884  32293  23823\n",
      "\n",
      "\n",
      "P(winner = Player 1): 25289 / 100000 = 0.25289\n",
      "P(loser = Player 1): 43884 / 100000 = 0.43884\n",
      "Average number of rounds to end game: 6.56579\n"
     ]
    },
    {
     "data": {
      "text/plain": [
       "0.43884"
      ]
     },
     "execution_count": 10,
     "metadata": {},
     "output_type": "execute_result"
    }
   ],
   "source": [
    "playGames(100000, (5,7,8))"
   ]
  },
  {
   "cell_type": "code",
   "execution_count": null,
   "id": "2357542c",
   "metadata": {},
   "outputs": [],
   "source": []
  }
 ],
 "metadata": {
  "kernelspec": {
   "display_name": "Python 3 (ipykernel)",
   "language": "python",
   "name": "python3"
  },
  "language_info": {
   "codemirror_mode": {
    "name": "ipython",
    "version": 3
   },
   "file_extension": ".py",
   "mimetype": "text/x-python",
   "name": "python",
   "nbconvert_exporter": "python",
   "pygments_lexer": "ipython3",
   "version": "3.9.18"
  }
 },
 "nbformat": 4,
 "nbformat_minor": 5
}
