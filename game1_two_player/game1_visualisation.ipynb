{
 "cells": [
  {
   "cell_type": "code",
   "execution_count": 24,
   "id": "bd3cbc0f",
   "metadata": {},
   "outputs": [],
   "source": [
    "%run game1_global.ipynb\n",
    "%run game1_loser_analysis.ipynb\n",
    "%run '../visualiser.ipynb'"
   ]
  },
  {
   "cell_type": "code",
   "execution_count": 25,
   "id": "e1ca9900",
   "metadata": {},
   "outputs": [],
   "source": [
    "# wrapper function\n",
    "def plotX(minX, maxX, y, z, probFunction=varyX, t=30):\n",
    "    plotXforFixedYZ(minX, maxX, y, z, \n",
    "                    VISUAL_DIR + f\"game1_hitting_probs (x = {minX}-{maxX}, y = {y}, z = {z}, t = {t}, {probFunction.__name__})\", \n",
    "                    probFunction=probFunction, t=t)"
   ]
  },
  {
   "cell_type": "markdown",
   "id": "6305f4ef",
   "metadata": {},
   "source": [
    "# Using exact probs"
   ]
  },
  {
   "cell_type": "code",
   "execution_count": null,
   "id": "968f861b",
   "metadata": {},
   "outputs": [
    {
     "name": "stdout",
     "output_type": "stream",
     "text": [
      "maximum recursion depth exceeded for state (1, 100, 200)\n",
      "Took too long to find the hitting prob for state (2, 100, 200)\n",
      "Took too long to find the hitting prob for state (3, 100, 200)\n",
      "Took too long to find the hitting prob for state (4, 100, 200)\n",
      "Took too long to find the hitting prob for state (5, 100, 200)\n",
      "Took too long to find the hitting prob for state (6, 100, 200)\n",
      "Took too long to find the hitting prob for state (7, 100, 200)\n",
      "Took too long to find the hitting prob for state (8, 100, 200)\n",
      "Took too long to find the hitting prob for state (9, 100, 200)\n",
      "maximum recursion depth exceeded for state (11, 100, 200)\n",
      "Took too long to find the hitting prob for state (12, 100, 200)\n",
      "maximum recursion depth exceeded for state (13, 100, 200)\n",
      "Took too long to find the hitting prob for state (14, 100, 200)\n",
      "Took too long to find the hitting prob for state (15, 100, 200)\n",
      "Took too long to find the hitting prob for state (16, 100, 200)\n",
      "Took too long to find the hitting prob for state (17, 100, 200)\n",
      "Took too long to find the hitting prob for state (18, 100, 200)\n",
      "maximum recursion depth exceeded for state (19, 100, 200)\n",
      "maximum recursion depth exceeded for state (21, 100, 200)\n",
      "Took too long to find the hitting prob for state (22, 100, 200)\n",
      "Took too long to find the hitting prob for state (23, 100, 200)\n",
      "Took too long to find the hitting prob for state (24, 100, 200)\n",
      "Took too long to find the hitting prob for state (26, 100, 200)\n",
      "Took too long to find the hitting prob for state (27, 100, 200)\n",
      "Took too long to find the hitting prob for state (28, 100, 200)\n",
      "maximum recursion depth exceeded for state (29, 100, 200)\n",
      "maximum recursion depth exceeded for state (31, 100, 200)\n",
      "Took too long to find the hitting prob for state (32, 100, 200)\n",
      "maximum recursion depth exceeded for state (33, 100, 200)\n",
      "Took too long to find the hitting prob for state (34, 100, 200)\n",
      "Took too long to find the hitting prob for state (35, 100, 200)\n",
      "Took too long to find the hitting prob for state (36, 100, 200)\n",
      "maximum recursion depth exceeded for state (37, 100, 200)\n",
      "Took too long to find the hitting prob for state (38, 100, 200)\n",
      "Took too long to find the hitting prob for state (39, 100, 200)\n",
      "maximum recursion depth exceeded for state (41, 100, 200)\n",
      "Took too long to find the hitting prob for state (42, 100, 200)\n",
      "maximum recursion depth exceeded for state (43, 100, 200)\n",
      "Took too long to find the hitting prob for state (44, 100, 200)\n",
      "Took too long to find the hitting prob for state (45, 100, 200)\n",
      "Took too long to find the hitting prob for state (46, 100, 200)\n",
      "maximum recursion depth exceeded for state (47, 100, 200)\n",
      "Took too long to find the hitting prob for state (48, 100, 200)\n",
      "Took too long to find the hitting prob for state (49, 100, 200)\n",
      "maximum recursion depth exceeded for state (51, 100, 200)\n",
      "Took too long to find the hitting prob for state (52, 100, 200)\n",
      "maximum recursion depth exceeded for state (53, 100, 200)\n",
      "Took too long to find the hitting prob for state (54, 100, 200)\n",
      "Took too long to find the hitting prob for state (55, 100, 200)\n",
      "Took too long to find the hitting prob for state (56, 100, 200)\n",
      "maximum recursion depth exceeded for state (57, 100, 200)\n",
      "Took too long to find the hitting prob for state (58, 100, 200)\n",
      "Took too long to find the hitting prob for state (59, 100, 200)\n",
      "maximum recursion depth exceeded for state (61, 100, 200)\n",
      "Took too long to find the hitting prob for state (62, 100, 200)\n",
      "maximum recursion depth exceeded for state (63, 100, 200)\n",
      "Took too long to find the hitting prob for state (64, 100, 200)\n",
      "Took too long to find the hitting prob for state (65, 100, 200)\n",
      "Took too long to find the hitting prob for state (66, 100, 200)\n",
      "maximum recursion depth exceeded for state (67, 100, 200)\n",
      "Took too long to find the hitting prob for state (68, 100, 200)\n",
      "maximum recursion depth exceeded for state (69, 100, 200)\n",
      "Took too long to find the hitting prob for state (71, 100, 200)\n",
      "Took too long to find the hitting prob for state (72, 100, 200)\n",
      "maximum recursion depth exceeded for state (73, 100, 200)\n",
      "Took too long to find the hitting prob for state (74, 100, 200)\n",
      "Took too long to find the hitting prob for state (76, 100, 200)\n",
      "Took too long to find the hitting prob for state (77, 100, 200)\n",
      "Took too long to find the hitting prob for state (78, 100, 200)\n",
      "maximum recursion depth exceeded for state (79, 100, 200)\n",
      "maximum recursion depth exceeded for state (81, 100, 200)\n",
      "Took too long to find the hitting prob for state (82, 100, 200)\n",
      "maximum recursion depth exceeded for state (83, 100, 200)\n",
      "Took too long to find the hitting prob for state (84, 100, 200)\n",
      "Took too long to find the hitting prob for state (85, 100, 200)\n",
      "Took too long to find the hitting prob for state (86, 100, 200)\n",
      "maximum recursion depth exceeded for state (87, 100, 200)\n",
      "Took too long to find the hitting prob for state (88, 100, 200)\n",
      "maximum recursion depth exceeded for state (89, 100, 200)\n",
      "Took too long to find the hitting prob for state (90, 100, 200)\n",
      "maximum recursion depth exceeded for state (91, 100, 200)\n",
      "Took too long to find the hitting prob for state (92, 100, 200)\n",
      "maximum recursion depth exceeded for state (93, 100, 200)\n",
      "Took too long to find the hitting prob for state (94, 100, 200)\n",
      "Took too long to find the hitting prob for state (95, 100, 200)\n",
      "Took too long to find the hitting prob for state (96, 100, 200)\n",
      "maximum recursion depth exceeded for state (97, 100, 200)\n",
      "Took too long to find the hitting prob for state (98, 100, 200)\n",
      "maximum recursion depth exceeded for state (99, 100, 200)\n",
      "maximum recursion depth exceeded for state (101, 100, 200)\n",
      "Took too long to find the hitting prob for state (102, 100, 200)\n",
      "maximum recursion depth exceeded for state (103, 100, 200)\n"
     ]
    }
   ],
   "source": [
    "plotX(1, 300, 100, 200)"
   ]
  },
  {
   "cell_type": "code",
   "execution_count": null,
   "id": "5c711704",
   "metadata": {
    "scrolled": true
   },
   "outputs": [],
   "source": [
    "plotX(1, 100, 20, 20)"
   ]
  },
  {
   "cell_type": "markdown",
   "id": "252cd471",
   "metadata": {},
   "source": [
    "# Using memoisation"
   ]
  },
  {
   "cell_type": "code",
   "execution_count": null,
   "id": "333a3417",
   "metadata": {},
   "outputs": [],
   "source": [
    "plotX(1, 300, 100, 200, probFunction=varyX_memoised, t=30)\n",
    "# for 1 x: try different t, store"
   ]
  },
  {
   "cell_type": "code",
   "execution_count": null,
   "id": "30001bf9",
   "metadata": {},
   "outputs": [],
   "source": [
    "plotX(1, 300, 100, 100, probFunction=varyX_memoised, t=30)"
   ]
  },
  {
   "cell_type": "code",
   "execution_count": null,
   "id": "0d7bf734",
   "metadata": {},
   "outputs": [],
   "source": []
  }
 ],
 "metadata": {
  "kernelspec": {
   "display_name": "Python 3 (ipykernel)",
   "language": "python",
   "name": "python3"
  },
  "language_info": {
   "codemirror_mode": {
    "name": "ipython",
    "version": 3
   },
   "file_extension": ".py",
   "mimetype": "text/x-python",
   "name": "python",
   "nbconvert_exporter": "python",
   "pygments_lexer": "ipython3",
   "version": "3.9.18"
  }
 },
 "nbformat": 4,
 "nbformat_minor": 5
}
