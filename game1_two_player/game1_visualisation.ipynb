{
 "cells": [
  {
   "cell_type": "code",
   "execution_count": 24,
   "id": "bd3cbc0f",
   "metadata": {},
   "outputs": [],
   "source": [
    "%run game1_global.ipynb\n",
    "%run game1_loser_analysis.ipynb\n",
    "%run '../visualiser.ipynb'"
   ]
  },
  {
   "cell_type": "code",
   "execution_count": 25,
   "id": "60568114",
   "metadata": {},
   "outputs": [],
   "source": [
    "# wrapper function\n",
    "def plotX(minX, maxX, y, z, probFunction=varyX, t=30):\n",
    "    plotXforFixedYZ(minX, maxX, y, z, \n",
    "                    VISUAL_DIR + f\"game1_hitting_probs (x = {minX}-{maxX}, y = {y}, z = {z}, t = {t}, {probFunction.__name__})\", \n",
    "                    probFunction=probFunction, t=t)"
   ]
  },
  {
   "cell_type": "markdown",
   "id": "6305f4ef",
   "metadata": {},
   "source": [
    "# Using exact probs"
   ]
  },
  {
   "cell_type": "code",
   "execution_count": null,
   "id": "968f861b",
   "metadata": {},
   "outputs": [
    {
     "name": "stdout",
     "output_type": "stream",
     "text": [
      "maximum recursion depth exceeded for state (1, 100, 200)\n",
      "Took too long to find the hitting prob for state (2, 100, 200)\n",
      "Took too long to find the hitting prob for state (3, 100, 200)\n",
      "Took too long to find the hitting prob for state (4, 100, 200)\n",
      "Took too long to find the hitting prob for state (5, 100, 200)\n"
     ]
    }
   ],
   "source": [
    "plotX(1, 300, 100, 200)"
   ]
  },
  {
   "cell_type": "code",
   "execution_count": null,
   "id": "5c711704",
   "metadata": {
    "scrolled": true
   },
   "outputs": [],
   "source": [
    "plotX(1, 100, 20, 20)"
   ]
  },
  {
   "cell_type": "markdown",
   "id": "252cd471",
   "metadata": {},
   "source": [
    "# Using memoisation"
   ]
  },
  {
   "cell_type": "code",
   "execution_count": null,
   "id": "333a3417",
   "metadata": {},
   "outputs": [],
   "source": [
    "plotX(1, 300, 100, 200, probFunction=varyX_memoised, t=30)\n",
    "# for 1 x: try different t, store"
   ]
  },
  {
   "cell_type": "code",
   "execution_count": null,
   "id": "30001bf9",
   "metadata": {},
   "outputs": [],
   "source": [
    "plotX(1, 300, 100, 100, probFunction=varyX_memoised, t=30)"
   ]
  },
  {
   "cell_type": "code",
   "execution_count": null,
   "id": "0d7bf734",
   "metadata": {},
   "outputs": [],
   "source": []
  }
 ],
 "metadata": {
  "kernelspec": {
   "display_name": "Python 3 (ipykernel)",
   "language": "python",
   "name": "python3"
  },
  "language_info": {
   "codemirror_mode": {
    "name": "ipython",
    "version": 3
   },
   "file_extension": ".py",
   "mimetype": "text/x-python",
   "name": "python",
   "nbconvert_exporter": "python",
   "pygments_lexer": "ipython3",
   "version": "3.9.18"
  }
 },
 "nbformat": 4,
 "nbformat_minor": 5
}
