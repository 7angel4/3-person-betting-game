{
 "cells": [
  {
   "cell_type": "code",
   "execution_count": 2,
   "id": "6fed8bd2",
   "metadata": {},
   "outputs": [],
   "source": [
    "%run 'game2_global.ipynb'\n",
    "%run 'game2_loser_analysis.ipynb'"
   ]
  },
  {
   "cell_type": "markdown",
   "id": "a8fc99ff",
   "metadata": {},
   "source": [
    "# When is player 1 better off giving away $1?"
   ]
  },
  {
   "cell_type": "code",
   "execution_count": null,
   "id": "b03f9271",
   "metadata": {},
   "outputs": [],
   "source": [
    "betterGiving1 = findBetterGiving1(1,1000)\n",
    "betterGiving1"
   ]
  },
  {
   "cell_type": "code",
   "execution_count": null,
   "id": "84f29518",
   "metadata": {},
   "outputs": [],
   "source": [
    "exportStateProbs(DATA_DIR + 'better_giving_1_memo_1-1000.csv', betterGiving1)"
   ]
  },
  {
   "cell_type": "markdown",
   "id": "6699bbec",
   "metadata": {},
   "source": [
    "## When is player 1 better off giving away $1 to another player?"
   ]
  },
  {
   "cell_type": "code",
   "execution_count": null,
   "id": "2c934d18",
   "metadata": {},
   "outputs": [],
   "source": [
    "betterGiving1ToAnother = findBetterGiving1ToOthers(1,1000)\n",
    "betterGiving1ToAnother"
   ]
  },
  {
   "cell_type": "code",
   "execution_count": null,
   "id": "0c78a828",
   "metadata": {},
   "outputs": [],
   "source": [
    "exportStateProbs(DATA_DIR + 'better_giving_1_to_another_memo_1-1000.csv', betterGiving1ToAnother)"
   ]
  },
  {
   "cell_type": "code",
   "execution_count": null,
   "id": "2c33a709",
   "metadata": {},
   "outputs": [],
   "source": []
  }
 ],
 "metadata": {
  "kernelspec": {
   "display_name": "Python 3 (ipykernel)",
   "language": "python",
   "name": "python3"
  },
  "language_info": {
   "codemirror_mode": {
    "name": "ipython",
    "version": 3
   },
   "file_extension": ".py",
   "mimetype": "text/x-python",
   "name": "python",
   "nbconvert_exporter": "python",
   "pygments_lexer": "ipython3",
   "version": "3.9.18"
  }
 },
 "nbformat": 4,
 "nbformat_minor": 5
}
