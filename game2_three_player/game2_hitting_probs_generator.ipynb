{
 "cells": [
  {
   "cell_type": "code",
   "execution_count": 2,
   "id": "20695de1",
   "metadata": {},
   "outputs": [],
   "source": [
    "%run game2_global.ipynb\n",
    "%run game2_loser_analysis.ipynb"
   ]
  },
  {
   "cell_type": "code",
   "execution_count": 3,
   "id": "f4d1d02a",
   "metadata": {},
   "outputs": [],
   "source": [
    "EXACT_PROBS_FILE = DATA_DIR + 'game2_exact_hitting_probs.csv'\n",
    "FLOAT_PROBS_FILE = DATA_DIR + 'game2_float_hitting_probs.csv'\n",
    "TIME_LIM = 10  # in seconds"
   ]
  },
  {
   "cell_type": "code",
   "execution_count": 4,
   "id": "0f61ec66",
   "metadata": {},
   "outputs": [
    {
     "data": {
      "text/plain": [
       "35"
      ]
     },
     "execution_count": 4,
     "metadata": {},
     "output_type": "execute_result"
    }
   ],
   "source": [
    "# Write the header - only need to run at start\n",
    "fp = open(EXACT_PROBS_FILE, 'a')\n",
    "writer = csv.writer(fp)\n",
    "writer.writerow(['Initial state', 'P(Loser = Player 1)'])\n",
    "\n",
    "fp = open(FLOAT_PROBS_FILE, 'a')\n",
    "writer = csv.writer(fp)\n",
    "writer.writerow(['Initial state', 'P(Loser = Player 1)'])"
   ]
  },
  {
   "cell_type": "code",
   "execution_count": null,
   "id": "a6b78326",
   "metadata": {},
   "outputs": [
    {
     "name": "stdout",
     "output_type": "stream",
     "text": [
      "Took too long to find the hitting prob for state (1, 6, 50)\n",
      "Took too long to find the hitting prob for state (1, 9, 47)\n",
      "Took too long to find the hitting prob for state (1, 11, 45)\n",
      "Took too long to find the hitting prob for state (1, 14, 42)\n",
      "Took too long to find the hitting prob for state (1, 15, 41)\n",
      "Took too long to find the hitting prob for state (1, 17, 39)\n",
      "Took too long to find the hitting prob for state (1, 18, 38)\n",
      "Took too long to find the hitting prob for state (1, 21, 35)\n",
      "Took too long to find the hitting prob for state (1, 23, 33)\n",
      "Took too long to find the hitting prob for state (1, 24, 50)\n",
      "Took too long to find the hitting prob for state (1, 26, 30)\n",
      "Took too long to find the hitting prob for state (1, 27, 29)\n",
      "Took too long to find the hitting prob for state (1, 27, 47)\n",
      "Took too long to find the hitting prob for state (1, 29, 27)\n",
      "Took too long to find the hitting prob for state (1, 30, 26)\n",
      "Took too long to find the hitting prob for state (1, 33, 23)\n",
      "Took too long to find the hitting prob for state (1, 35, 21)\n",
      "Took too long to find the hitting prob for state (1, 35, 39)\n",
      "Took too long to find the hitting prob for state (1, 35, 48)\n",
      "Took too long to find the hitting prob for state (1, 36, 47)\n",
      "Took too long to find the hitting prob for state (1, 38, 18)\n",
      "Took too long to find the hitting prob for state (1, 38, 42)\n",
      "Took too long to find the hitting prob for state (1, 38, 45)\n",
      "Took too long to find the hitting prob for state (1, 38, 48)\n",
      "Took too long to find the hitting prob for state (1, 39, 17)\n",
      "Took too long to find the hitting prob for state (1, 39, 35)\n",
      "Took too long to find the hitting prob for state (1, 39, 47)\n",
      "Took too long to find the hitting prob for state (1, 41, 15)\n",
      "Took too long to find the hitting prob for state (1, 41, 42)\n",
      "Took too long to find the hitting prob for state (1, 42, 14)\n",
      "Took too long to find the hitting prob for state (1, 42, 38)\n",
      "Took too long to find the hitting prob for state (1, 42, 41)\n",
      "Took too long to find the hitting prob for state (1, 42, 44)\n",
      "Took too long to find the hitting prob for state (1, 42, 50)\n",
      "Took too long to find the hitting prob for state (1, 44, 42)\n",
      "Took too long to find the hitting prob for state (1, 45, 11)\n",
      "Took too long to find the hitting prob for state (1, 45, 38)\n",
      "Took too long to find the hitting prob for state (1, 45, 50)\n",
      "Took too long to find the hitting prob for state (1, 47, 9)\n",
      "Took too long to find the hitting prob for state (1, 47, 27)\n",
      "Took too long to find the hitting prob for state (1, 47, 36)\n",
      "Took too long to find the hitting prob for state (1, 47, 48)\n",
      "Took too long to find the hitting prob for state (1, 48, 35)\n",
      "Took too long to find the hitting prob for state (1, 48, 38)\n",
      "Took too long to find the hitting prob for state (1, 48, 47)\n",
      "Took too long to find the hitting prob for state (1, 48, 50)\n",
      "Took too long to find the hitting prob for state (1, 50, 6)\n",
      "Took too long to find the hitting prob for state (1, 50, 24)\n",
      "Took too long to find the hitting prob for state (1, 50, 42)\n",
      "Took too long to find the hitting prob for state (1, 50, 45)\n",
      "Took too long to find the hitting prob for state (1, 50, 48)\n",
      "Took too long to find the hitting prob for state (2, 6, 49)\n",
      "Took too long to find the hitting prob for state (2, 7, 48)\n",
      "Took too long to find the hitting prob for state (2, 9, 46)\n",
      "Took too long to find the hitting prob for state (2, 10, 45)\n",
      "Took too long to find the hitting prob for state (2, 12, 43)\n",
      "Took too long to find the hitting prob for state (2, 13, 42)\n",
      "Took too long to find the hitting prob for state (2, 15, 40)\n",
      "Took too long to find the hitting prob for state (2, 16, 39)\n",
      "Took too long to find the hitting prob for state (2, 18, 37)\n",
      "Took too long to find the hitting prob for state (2, 19, 36)\n",
      "Took too long to find the hitting prob for state (2, 21, 34)\n",
      "Took too long to find the hitting prob for state (2, 22, 33)\n",
      "Took too long to find the hitting prob for state (2, 24, 31)\n",
      "Took too long to find the hitting prob for state (2, 25, 30)\n",
      "Took too long to find the hitting prob for state (2, 27, 28)\n",
      "Took too long to find the hitting prob for state (2, 27, 46)\n",
      "Took too long to find the hitting prob for state (2, 28, 27)\n",
      "Took too long to find the hitting prob for state (2, 28, 45)\n",
      "Took too long to find the hitting prob for state (2, 30, 25)\n",
      "Took too long to find the hitting prob for state (2, 31, 24)\n",
      "Took too long to find the hitting prob for state (2, 33, 22)\n",
      "Took too long to find the hitting prob for state (2, 33, 46)\n",
      "Took too long to find the hitting prob for state (2, 33, 49)\n",
      "Took too long to find the hitting prob for state (2, 34, 21)\n",
      "Took too long to find the hitting prob for state (2, 36, 19)\n",
      "Took too long to find the hitting prob for state (2, 36, 43)\n",
      "Took too long to find the hitting prob for state (2, 36, 49)\n",
      "Took too long to find the hitting prob for state (2, 37, 18)\n",
      "Took too long to find the hitting prob for state (2, 37, 42)\n",
      "Took too long to find the hitting prob for state (2, 37, 45)\n",
      "Took too long to find the hitting prob for state (2, 39, 16)\n",
      "Took too long to find the hitting prob for state (2, 40, 15)\n",
      "Took too long to find the hitting prob for state (2, 40, 45)\n",
      "Took too long to find the hitting prob for state (2, 42, 13)\n",
      "Took too long to find the hitting prob for state (2, 42, 37)\n",
      "Took too long to find the hitting prob for state (2, 42, 43)\n",
      "Took too long to find the hitting prob for state (2, 42, 49)\n",
      "Took too long to find the hitting prob for state (2, 43, 12)\n",
      "Took too long to find the hitting prob for state (2, 43, 36)\n",
      "Took too long to find the hitting prob for state (2, 43, 42)\n",
      "Took too long to find the hitting prob for state (2, 43, 48)\n",
      "Took too long to find the hitting prob for state (2, 45, 10)\n",
      "Took too long to find the hitting prob for state (2, 45, 28)\n",
      "Took too long to find the hitting prob for state (2, 45, 37)\n",
      "Took too long to find the hitting prob for state (2, 45, 40)\n",
      "Took too long to find the hitting prob for state (2, 45, 49)\n",
      "Took too long to find the hitting prob for state (2, 46, 9)\n",
      "Took too long to find the hitting prob for state (2, 46, 27)\n",
      "Took too long to find the hitting prob for state (2, 46, 33)\n",
      "Took too long to find the hitting prob for state (2, 48, 7)\n",
      "Took too long to find the hitting prob for state (2, 48, 43)\n",
      "Took too long to find the hitting prob for state (2, 48, 49)\n",
      "Took too long to find the hitting prob for state (2, 49, 6)\n"
     ]
    }
   ],
   "source": [
    "writeProbsInRange(1,50, EXACT_PROBS_FILE, floatProbFilename=FLOAT_PROBS_FILE, timeLimit=TIME_LIM)"
   ]
  },
  {
   "cell_type": "code",
   "execution_count": null,
   "id": "c7fc9543",
   "metadata": {},
   "outputs": [],
   "source": []
  }
 ],
 "metadata": {
  "kernelspec": {
   "display_name": "Python 3 (ipykernel)",
   "language": "python",
   "name": "python3"
  },
  "language_info": {
   "codemirror_mode": {
    "name": "ipython",
    "version": 3
   },
   "file_extension": ".py",
   "mimetype": "text/x-python",
   "name": "python",
   "nbconvert_exporter": "python",
   "pygments_lexer": "ipython3",
   "version": "3.9.18"
  }
 },
 "nbformat": 4,
 "nbformat_minor": 5
}
