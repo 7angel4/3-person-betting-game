{
 "cells": [
  {
   "cell_type": "code",
   "execution_count": 2,
   "id": "20695de1",
   "metadata": {},
   "outputs": [],
   "source": [
    "%run game2_global.ipynb\n",
    "%run game2_loser_analysis.ipynb"
   ]
  },
  {
   "cell_type": "code",
   "execution_count": 3,
   "id": "f4d1d02a",
   "metadata": {},
   "outputs": [],
   "source": [
    "EXACT_PROBS_FILE = DATA_DIR + 'game2_exact_hitting_probs.csv'\n",
    "FLOAT_PROBS_FILE = DATA_DIR + 'game2_float_hitting_probs.csv'\n",
    "TIME_LIM = 10  # in seconds"
   ]
  },
  {
   "cell_type": "code",
   "execution_count": 4,
   "id": "0f61ec66",
   "metadata": {},
   "outputs": [
    {
     "data": {
      "text/plain": [
       "35"
      ]
     },
     "execution_count": 4,
     "metadata": {},
     "output_type": "execute_result"
    }
   ],
   "source": [
    "# Write the header - only need to run at start\n",
    "fp = open(EXACT_PROBS_FILE, 'a')\n",
    "writer = csv.writer(fp)\n",
    "writer.writerow(['Initial state', 'P(Loser = Player 1)'])\n",
    "\n",
    "fp = open(FLOAT_PROBS_FILE, 'a')\n",
    "writer = csv.writer(fp)\n",
    "writer.writerow(['Initial state', 'P(Loser = Player 1)'])"
   ]
  },
  {
   "cell_type": "code",
   "execution_count": null,
   "id": "a6b78326",
   "metadata": {},
   "outputs": [
    {
     "name": "stdout",
     "output_type": "stream",
     "text": [
      "Took too long to find the hitting prob for state (1, 6, 50)\n"
     ]
    }
   ],
   "source": [
    "writeProbsInRange(1,50, EXACT_PROBS_FILE, floatProbFilename=FLOAT_PROBS_FILE, timeLimit=TIME_LIM)"
   ]
  },
  {
   "cell_type": "code",
   "execution_count": null,
   "id": "0c7cf7d2",
   "metadata": {},
   "outputs": [],
   "source": []
  }
 ],
 "metadata": {
  "kernelspec": {
   "display_name": "Python 3 (ipykernel)",
   "language": "python",
   "name": "python3"
  },
  "language_info": {
   "codemirror_mode": {
    "name": "ipython",
    "version": 3
   },
   "file_extension": ".py",
   "mimetype": "text/x-python",
   "name": "python",
   "nbconvert_exporter": "python",
   "pygments_lexer": "ipython3",
   "version": "3.9.18"
  }
 },
 "nbformat": 4,
 "nbformat_minor": 5
}
