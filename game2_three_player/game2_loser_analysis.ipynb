{
 "cells": [
  {
   "cell_type": "code",
   "execution_count": 1,
   "id": "8e3eac89",
   "metadata": {},
   "outputs": [],
   "source": [
    "# no need to run this if the next cell runs successfully on its own\n",
    "import sys\n",
    "sys.path.append('../')"
   ]
  },
  {
   "cell_type": "code",
   "execution_count": 2,
   "id": "3fbb05d8",
   "metadata": {},
   "outputs": [],
   "source": [
    "%run '../loser_analysis.ipynb'\n",
    "%run 'game2_memoisation.ipynb'"
   ]
  },
  {
   "cell_type": "code",
   "execution_count": 3,
   "id": "aeca1e55",
   "metadata": {},
   "outputs": [],
   "source": [
    "OUTCOME_PROB = Fraction(1, NUM_PLAYERS)  # 1/3 because only choosing the receiver this time"
   ]
  },
  {
   "cell_type": "markdown",
   "id": "d6513f7d",
   "metadata": {},
   "source": [
    "# Modified game"
   ]
  },
  {
   "cell_type": "code",
   "execution_count": 80,
   "id": "8f215bbd",
   "metadata": {},
   "outputs": [],
   "source": [
    "def applyMove(initState, r):\n",
    "    \"\"\"\n",
    "    Applies the given move to the initial state:\n",
    "    - initState: an integer triple representing the initial wealth of each player\n",
    "    - r: an integer representing the player that is the receiver\n",
    "    Returns the resulting wealth of the players as a triple.\n",
    "    \"\"\"\n",
    "    initWealth = list(initState)\n",
    "    transferAmt = min(initState)  # minimum of all players' wealth\n",
    "    rWealth = initWealth[r-1] + transferAmt * (len(initWealth)-1)\n",
    "    newWealth = [w - transferAmt for w in initWealth]\n",
    "    newWealth[r-1] = rWealth\n",
    "    \n",
    "    return tuple(newWealth)\n",
    "\n",
    "def getChildStates(initState):\n",
    "    \"\"\"\n",
    "    Applies all possible moves to the initial state.\n",
    "    Returns the child states.\n",
    "    \"\"\"\n",
    "    return [applyMove(initState, r) for r in range(1, NUM_PLAYERS+1)]"
   ]
  },
  {
   "cell_type": "code",
   "execution_count": 82,
   "id": "f2644748",
   "metadata": {},
   "outputs": [],
   "source": [
    "def alreadyHit(state):\n",
    "    \"\"\"\n",
    "    Returns true if the given state reaches the state of Player 1 being the loser wp1, false otherwise.\n",
    "    \"\"\"\n",
    "    if state[LOSER_IDX] > 0:\n",
    "        return False # 0\n",
    "    \n",
    "    # player 1 reached 0\n",
    "    numZeros = len([i for i in state if i == 0])\n",
    "    if numZeros > 1: # two players reached 0 at the same time\n",
    "        #loser = random.randint(0, 1)\n",
    "        return Fraction(1,2)\n",
    "    else:  # only player 1 lost\n",
    "        return True  # 1"
   ]
  },
  {
   "cell_type": "code",
   "execution_count": null,
   "id": "ab72fd3c",
   "metadata": {},
   "outputs": [],
   "source": []
  }
 ],
 "metadata": {
  "kernelspec": {
   "display_name": "Python 3 (ipykernel)",
   "language": "python",
   "name": "python3"
  },
  "language_info": {
   "codemirror_mode": {
    "name": "ipython",
    "version": 3
   },
   "file_extension": ".py",
   "mimetype": "text/x-python",
   "name": "python",
   "nbconvert_exporter": "python",
   "pygments_lexer": "ipython3",
   "version": "3.9.18"
  }
 },
 "nbformat": 4,
 "nbformat_minor": 5
}
