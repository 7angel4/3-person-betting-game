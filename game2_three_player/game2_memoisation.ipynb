{
 "cells": [
  {
   "cell_type": "code",
   "execution_count": 1,
   "id": "3fe0cfe9",
   "metadata": {},
   "outputs": [],
   "source": [
    "import numpy as np"
   ]
  },
  {
   "cell_type": "code",
   "execution_count": 2,
   "id": "7605bdd2",
   "metadata": {},
   "outputs": [],
   "source": [
    "def memoize(f):\n",
    "    \"\"\" Memoization decorator for functions taking one or more arguments. \"\"\"\n",
    "    class memodict(dict):\n",
    "        def __init__(self, f):\n",
    "            self.f = f\n",
    "\n",
    "        def __call__(self, *args):\n",
    "            return self[args]\n",
    "\n",
    "        def __missing__(self, key):\n",
    "            ret = self[key] = self.f(*key)\n",
    "            return ret\n",
    "\n",
    "    return memodict(f)\n",
    "\n",
    "\n",
    "@memoize\n",
    "def Q(x,y,z,t=0):\n",
    "    if x==0:\n",
    "        return 1 if z*y>0 else 1/2\n",
    "    if z*y==0: return 0\n",
    "    if t==0: return 1/3\n",
    "    m = min(x,y,z)\n",
    "    return (np.longdouble(np.longdouble(Q(x+2*m,y-m,z-m,t-1)) + np.longdouble(Q(x-m,y+2*m,z-m,t-1))+ np.longdouble(Q(x-m,y-m,z+2*m,t-1))))/3\n",
    "\n",
    "\n",
    "def precomp(N,t):\n",
    "    for x in range(N+1):\n",
    "        for y in range(N+1-x):\n",
    "            Q(x,y,N-x-y,t)"
   ]
  },
  {
   "cell_type": "code",
   "execution_count": 3,
   "id": "b99b50cd",
   "metadata": {},
   "outputs": [],
   "source": [
    "def precomp_fixed_yz(minX, maxX, y, z, t):\n",
    "    for x in range(minX, maxX + 1):\n",
    "        Q(x, y, z, t)"
   ]
  },
  {
   "cell_type": "code",
   "execution_count": null,
   "id": "7d4ded72",
   "metadata": {},
   "outputs": [],
   "source": []
  }
 ],
 "metadata": {
  "kernelspec": {
   "display_name": "Python 3 (ipykernel)",
   "language": "python",
   "name": "python3"
  },
  "language_info": {
   "codemirror_mode": {
    "name": "ipython",
    "version": 3
   },
   "file_extension": ".py",
   "mimetype": "text/x-python",
   "name": "python",
   "nbconvert_exporter": "python",
   "pygments_lexer": "ipython3",
   "version": "3.9.18"
  }
 },
 "nbformat": 4,
 "nbformat_minor": 5
}
