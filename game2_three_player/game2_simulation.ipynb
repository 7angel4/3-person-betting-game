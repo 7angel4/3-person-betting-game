{
 "cells": [
  {
   "cell_type": "code",
   "execution_count": 15,
   "id": "8b3f0e45",
   "metadata": {},
   "outputs": [],
   "source": [
    "%run '../simulation.ipynb'"
   ]
  },
  {
   "cell_type": "code",
   "execution_count": 16,
   "id": "92f60320",
   "metadata": {},
   "outputs": [],
   "source": [
    "def give(playerWealth):\n",
    "    \"\"\"\n",
    "    Simulates the give action:\n",
    "    The minimum of all players' wealth is transferred from all other players to the receiver.\n",
    "    Returns the updated `playerWealth` dictionary, which consists of player:wealth key-value pairs.\n",
    "    \"\"\"\n",
    "    receiver = randSelectPlayer(playerWealth)\n",
    "    givers = [p for p in playerWealth if playerWealth[p] > 0 and p != receiver]  # remaining players\n",
    "    \n",
    "    amt = min(playerWealth.values()) # losers already deleted\n",
    "    playerWealth[receiver] += amt * len(givers)\n",
    "    for g in givers:\n",
    "        playerWealth[g] -= amt\n",
    "    \n",
    "    return playerWealth, amt, givers, receiver"
   ]
  },
  {
   "cell_type": "markdown",
   "id": "bc39fb15",
   "metadata": {},
   "source": [
    "# Examples"
   ]
  },
  {
   "cell_type": "code",
   "execution_count": 17,
   "id": "b02f0e5c",
   "metadata": {},
   "outputs": [
    {
     "name": "stdout",
     "output_type": "stream",
     "text": [
      "Round 1:\n",
      "Player [1, 3] gave Player 2 $5\n",
      "Remaining players' wealth: {2: 17, 3: 3}\n",
      "\n",
      "Round 2:\n",
      "Player [3] gave Player 2 $3\n",
      "Remaining players' wealth: {2: 20}\n",
      "\n",
      "Loser 1: 1\n",
      "Loser 2: 3\n",
      "Winner: 2\n",
      "Number of rounds played: 2\n"
     ]
    },
    {
     "data": {
      "text/plain": [
       "(2, 1, 2)"
      ]
     },
     "execution_count": 17,
     "metadata": {},
     "output_type": "execute_result"
    }
   ],
   "source": [
    "playGame(5,7,8, printProgress=True, printResult=True)\n",
    "# returns winner, loser, number of rounds"
   ]
  },
  {
   "cell_type": "code",
   "execution_count": 18,
   "id": "f19f360e",
   "metadata": {
    "scrolled": true
   },
   "outputs": [
    {
     "name": "stdout",
     "output_type": "stream",
     "text": [
      "            1      2      3\n",
      "winner  25126  34946  39928\n",
      "loser   66623  23556   9821\n",
      "\n",
      "\n",
      "P(winner = Player 1): 25126 / 100000 = 0.25126\n",
      "P(loser = Player 1): 66623 / 100000 = 0.66623\n",
      "Average number of rounds to end game: 3.47933\n"
     ]
    },
    {
     "data": {
      "text/plain": [
       "0.66623"
      ]
     },
     "execution_count": 18,
     "metadata": {},
     "output_type": "execute_result"
    }
   ],
   "source": [
    "playGames(100000, (5,7,8))"
   ]
  },
  {
   "cell_type": "code",
   "execution_count": null,
   "id": "866fae15",
   "metadata": {},
   "outputs": [],
   "source": []
  }
 ],
 "metadata": {
  "kernelspec": {
   "display_name": "Python 3 (ipykernel)",
   "language": "python",
   "name": "python3"
  },
  "language_info": {
   "codemirror_mode": {
    "name": "ipython",
    "version": 3
   },
   "file_extension": ".py",
   "mimetype": "text/x-python",
   "name": "python",
   "nbconvert_exporter": "python",
   "pygments_lexer": "ipython3",
   "version": "3.9.18"
  }
 },
 "nbformat": 4,
 "nbformat_minor": 5
}
