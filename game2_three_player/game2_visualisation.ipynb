{
 "cells": [
  {
   "cell_type": "code",
   "execution_count": 2,
   "id": "e41145bb",
   "metadata": {},
   "outputs": [],
   "source": [
    "%run game2_global.ipynb\n",
    "%run game2_loser_analysis.ipynb\n",
    "%run '../visualiser.ipynb'"
   ]
  },
  {
   "cell_type": "code",
   "execution_count": 3,
   "id": "b12805ea",
   "metadata": {},
   "outputs": [],
   "source": [
    "# wrapper function\n",
    "def plotX(minX, maxX, y, z, probFunction=varyX, t=30):\n",
    "    plotXforFixedYZ(minX, maxX, y, z, \n",
    "                    VISUAL_DIR + f\"game2_hitting_probs (x = {minX}-{maxX}, y = {y}, z = {z}, t = {t}, {probFunction.__name__})\", \n",
    "                    probFunction=probFunction, t=t)"
   ]
  },
  {
   "cell_type": "code",
   "execution_count": null,
   "id": "5ae8decf",
   "metadata": {},
   "outputs": [
    {
     "name": "stdout",
     "output_type": "stream",
     "text": [
      "Took too long to find the hitting prob for state (3, 100, 200)\n",
      "Took too long to find the hitting prob for state (6, 100, 200)\n",
      "maximum recursion depth exceeded for state (9, 100, 200)\n",
      "Took too long to find the hitting prob for state (21, 100, 200)\n",
      "Took too long to find the hitting prob for state (27, 100, 200)\n",
      "maximum recursion depth exceeded for state (33, 100, 200)\n",
      "Took too long to find the hitting prob for state (36, 100, 200)\n",
      "Took too long to find the hitting prob for state (39, 100, 200)\n",
      "Took too long to find the hitting prob for state (42, 100, 200)\n",
      "Took too long to find the hitting prob for state (51, 100, 200)\n",
      "Took too long to find the hitting prob for state (54, 100, 200)\n",
      "Took too long to find the hitting prob for state (57, 100, 200)\n",
      "Took too long to find the hitting prob for state (63, 100, 200)\n",
      "maximum recursion depth exceeded for state (66, 100, 200)\n"
     ]
    }
   ],
   "source": [
    "plotX(1, 300, 100, 200)"
   ]
  },
  {
   "cell_type": "code",
   "execution_count": null,
   "id": "fca51423",
   "metadata": {},
   "outputs": [],
   "source": [
    "plotX(925, 955, 500, 1000, probFunction=varyX_memoized, t=30)\n",
    "# zoom in to flat bits"
   ]
  },
  {
   "cell_type": "code",
   "execution_count": null,
   "id": "d4a252dd",
   "metadata": {},
   "outputs": [],
   "source": [
    "plotX(1, 1000, 100, 200, probFunction=varyX_memoized, t=10)"
   ]
  },
  {
   "cell_type": "code",
   "execution_count": null,
   "id": "e4987b02",
   "metadata": {},
   "outputs": [],
   "source": []
  }
 ],
 "metadata": {
  "kernelspec": {
   "display_name": "Python 3 (ipykernel)",
   "language": "python",
   "name": "python3"
  },
  "language_info": {
   "codemirror_mode": {
    "name": "ipython",
    "version": 3
   },
   "file_extension": ".py",
   "mimetype": "text/x-python",
   "name": "python",
   "nbconvert_exporter": "python",
   "pygments_lexer": "ipython3",
   "version": "3.9.18"
  }
 },
 "nbformat": 4,
 "nbformat_minor": 5
}
